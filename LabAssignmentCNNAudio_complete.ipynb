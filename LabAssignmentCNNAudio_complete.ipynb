{
  "nbformat": 4,
  "nbformat_minor": 0,
  "metadata": {
    "colab": {
      "provenance": [],
      "authorship_tag": "ABX9TyN+5hVVTXxkxcKnLB6ZcgqK",
      "include_colab_link": true
    },
    "kernelspec": {
      "name": "python3",
      "display_name": "Python 3"
    },
    "language_info": {
      "name": "python"
    },
    "widgets": {
      "application/vnd.jupyter.widget-state+json": {
        "be9d004442af44bcb62b4a69fdc99711": {
          "model_module": "@jupyter-widgets/controls",
          "model_name": "HBoxModel",
          "model_module_version": "1.5.0",
          "state": {
            "_dom_classes": [],
            "_model_module": "@jupyter-widgets/controls",
            "_model_module_version": "1.5.0",
            "_model_name": "HBoxModel",
            "_view_count": null,
            "_view_module": "@jupyter-widgets/controls",
            "_view_module_version": "1.5.0",
            "_view_name": "HBoxView",
            "box_style": "",
            "children": [
              "IPY_MODEL_adbebf53c8674dd9a7f2cadc1c706e15",
              "IPY_MODEL_b361abe9011a4500bc4bac61057fba00",
              "IPY_MODEL_a2047ba46c2d4b438a29ee22c98cf431"
            ],
            "layout": "IPY_MODEL_e255827eb16f4a1f827501b3cc1ef55b"
          }
        },
        "adbebf53c8674dd9a7f2cadc1c706e15": {
          "model_module": "@jupyter-widgets/controls",
          "model_name": "HTMLModel",
          "model_module_version": "1.5.0",
          "state": {
            "_dom_classes": [],
            "_model_module": "@jupyter-widgets/controls",
            "_model_module_version": "1.5.0",
            "_model_name": "HTMLModel",
            "_view_count": null,
            "_view_module": "@jupyter-widgets/controls",
            "_view_module_version": "1.5.0",
            "_view_name": "HTMLView",
            "description": "",
            "description_tooltip": null,
            "layout": "IPY_MODEL_295ab021548340f4ba63cc95bb60f4a4",
            "placeholder": "​",
            "style": "IPY_MODEL_fe8a9ab7d1264159a6f67b7e210ac336",
            "value": "Dl Completed...: 100%"
          }
        },
        "b361abe9011a4500bc4bac61057fba00": {
          "model_module": "@jupyter-widgets/controls",
          "model_name": "FloatProgressModel",
          "model_module_version": "1.5.0",
          "state": {
            "_dom_classes": [],
            "_model_module": "@jupyter-widgets/controls",
            "_model_module_version": "1.5.0",
            "_model_name": "FloatProgressModel",
            "_view_count": null,
            "_view_module": "@jupyter-widgets/controls",
            "_view_module_version": "1.5.0",
            "_view_name": "ProgressView",
            "bar_style": "success",
            "description": "",
            "description_tooltip": null,
            "layout": "IPY_MODEL_af9484d243dd4fc6933cc5c26a01a7e4",
            "max": 1,
            "min": 0,
            "orientation": "horizontal",
            "style": "IPY_MODEL_264ff32f44f24720aaf4f2d1e8422b3a",
            "value": 1
          }
        },
        "a2047ba46c2d4b438a29ee22c98cf431": {
          "model_module": "@jupyter-widgets/controls",
          "model_name": "HTMLModel",
          "model_module_version": "1.5.0",
          "state": {
            "_dom_classes": [],
            "_model_module": "@jupyter-widgets/controls",
            "_model_module_version": "1.5.0",
            "_model_name": "HTMLModel",
            "_view_count": null,
            "_view_module": "@jupyter-widgets/controls",
            "_view_module_version": "1.5.0",
            "_view_name": "HTMLView",
            "description": "",
            "description_tooltip": null,
            "layout": "IPY_MODEL_e347b2f9b4e8492e9d0303dfb24e5936",
            "placeholder": "​",
            "style": "IPY_MODEL_6e71f8656dd84c22bdcab28b2c3b1e4d",
            "value": " 1/1 [00:00&lt;00:00,  2.33 url/s]"
          }
        },
        "e255827eb16f4a1f827501b3cc1ef55b": {
          "model_module": "@jupyter-widgets/base",
          "model_name": "LayoutModel",
          "model_module_version": "1.2.0",
          "state": {
            "_model_module": "@jupyter-widgets/base",
            "_model_module_version": "1.2.0",
            "_model_name": "LayoutModel",
            "_view_count": null,
            "_view_module": "@jupyter-widgets/base",
            "_view_module_version": "1.2.0",
            "_view_name": "LayoutView",
            "align_content": null,
            "align_items": null,
            "align_self": null,
            "border": null,
            "bottom": null,
            "display": null,
            "flex": null,
            "flex_flow": null,
            "grid_area": null,
            "grid_auto_columns": null,
            "grid_auto_flow": null,
            "grid_auto_rows": null,
            "grid_column": null,
            "grid_gap": null,
            "grid_row": null,
            "grid_template_areas": null,
            "grid_template_columns": null,
            "grid_template_rows": null,
            "height": null,
            "justify_content": null,
            "justify_items": null,
            "left": null,
            "margin": null,
            "max_height": null,
            "max_width": null,
            "min_height": null,
            "min_width": null,
            "object_fit": null,
            "object_position": null,
            "order": null,
            "overflow": null,
            "overflow_x": null,
            "overflow_y": null,
            "padding": null,
            "right": null,
            "top": null,
            "visibility": null,
            "width": null
          }
        },
        "295ab021548340f4ba63cc95bb60f4a4": {
          "model_module": "@jupyter-widgets/base",
          "model_name": "LayoutModel",
          "model_module_version": "1.2.0",
          "state": {
            "_model_module": "@jupyter-widgets/base",
            "_model_module_version": "1.2.0",
            "_model_name": "LayoutModel",
            "_view_count": null,
            "_view_module": "@jupyter-widgets/base",
            "_view_module_version": "1.2.0",
            "_view_name": "LayoutView",
            "align_content": null,
            "align_items": null,
            "align_self": null,
            "border": null,
            "bottom": null,
            "display": null,
            "flex": null,
            "flex_flow": null,
            "grid_area": null,
            "grid_auto_columns": null,
            "grid_auto_flow": null,
            "grid_auto_rows": null,
            "grid_column": null,
            "grid_gap": null,
            "grid_row": null,
            "grid_template_areas": null,
            "grid_template_columns": null,
            "grid_template_rows": null,
            "height": null,
            "justify_content": null,
            "justify_items": null,
            "left": null,
            "margin": null,
            "max_height": null,
            "max_width": null,
            "min_height": null,
            "min_width": null,
            "object_fit": null,
            "object_position": null,
            "order": null,
            "overflow": null,
            "overflow_x": null,
            "overflow_y": null,
            "padding": null,
            "right": null,
            "top": null,
            "visibility": null,
            "width": null
          }
        },
        "fe8a9ab7d1264159a6f67b7e210ac336": {
          "model_module": "@jupyter-widgets/controls",
          "model_name": "DescriptionStyleModel",
          "model_module_version": "1.5.0",
          "state": {
            "_model_module": "@jupyter-widgets/controls",
            "_model_module_version": "1.5.0",
            "_model_name": "DescriptionStyleModel",
            "_view_count": null,
            "_view_module": "@jupyter-widgets/base",
            "_view_module_version": "1.2.0",
            "_view_name": "StyleView",
            "description_width": ""
          }
        },
        "af9484d243dd4fc6933cc5c26a01a7e4": {
          "model_module": "@jupyter-widgets/base",
          "model_name": "LayoutModel",
          "model_module_version": "1.2.0",
          "state": {
            "_model_module": "@jupyter-widgets/base",
            "_model_module_version": "1.2.0",
            "_model_name": "LayoutModel",
            "_view_count": null,
            "_view_module": "@jupyter-widgets/base",
            "_view_module_version": "1.2.0",
            "_view_name": "LayoutView",
            "align_content": null,
            "align_items": null,
            "align_self": null,
            "border": null,
            "bottom": null,
            "display": null,
            "flex": null,
            "flex_flow": null,
            "grid_area": null,
            "grid_auto_columns": null,
            "grid_auto_flow": null,
            "grid_auto_rows": null,
            "grid_column": null,
            "grid_gap": null,
            "grid_row": null,
            "grid_template_areas": null,
            "grid_template_columns": null,
            "grid_template_rows": null,
            "height": null,
            "justify_content": null,
            "justify_items": null,
            "left": null,
            "margin": null,
            "max_height": null,
            "max_width": null,
            "min_height": null,
            "min_width": null,
            "object_fit": null,
            "object_position": null,
            "order": null,
            "overflow": null,
            "overflow_x": null,
            "overflow_y": null,
            "padding": null,
            "right": null,
            "top": null,
            "visibility": null,
            "width": "20px"
          }
        },
        "264ff32f44f24720aaf4f2d1e8422b3a": {
          "model_module": "@jupyter-widgets/controls",
          "model_name": "ProgressStyleModel",
          "model_module_version": "1.5.0",
          "state": {
            "_model_module": "@jupyter-widgets/controls",
            "_model_module_version": "1.5.0",
            "_model_name": "ProgressStyleModel",
            "_view_count": null,
            "_view_module": "@jupyter-widgets/base",
            "_view_module_version": "1.2.0",
            "_view_name": "StyleView",
            "bar_color": null,
            "description_width": ""
          }
        },
        "e347b2f9b4e8492e9d0303dfb24e5936": {
          "model_module": "@jupyter-widgets/base",
          "model_name": "LayoutModel",
          "model_module_version": "1.2.0",
          "state": {
            "_model_module": "@jupyter-widgets/base",
            "_model_module_version": "1.2.0",
            "_model_name": "LayoutModel",
            "_view_count": null,
            "_view_module": "@jupyter-widgets/base",
            "_view_module_version": "1.2.0",
            "_view_name": "LayoutView",
            "align_content": null,
            "align_items": null,
            "align_self": null,
            "border": null,
            "bottom": null,
            "display": null,
            "flex": null,
            "flex_flow": null,
            "grid_area": null,
            "grid_auto_columns": null,
            "grid_auto_flow": null,
            "grid_auto_rows": null,
            "grid_column": null,
            "grid_gap": null,
            "grid_row": null,
            "grid_template_areas": null,
            "grid_template_columns": null,
            "grid_template_rows": null,
            "height": null,
            "justify_content": null,
            "justify_items": null,
            "left": null,
            "margin": null,
            "max_height": null,
            "max_width": null,
            "min_height": null,
            "min_width": null,
            "object_fit": null,
            "object_position": null,
            "order": null,
            "overflow": null,
            "overflow_x": null,
            "overflow_y": null,
            "padding": null,
            "right": null,
            "top": null,
            "visibility": null,
            "width": null
          }
        },
        "6e71f8656dd84c22bdcab28b2c3b1e4d": {
          "model_module": "@jupyter-widgets/controls",
          "model_name": "DescriptionStyleModel",
          "model_module_version": "1.5.0",
          "state": {
            "_model_module": "@jupyter-widgets/controls",
            "_model_module_version": "1.5.0",
            "_model_name": "DescriptionStyleModel",
            "_view_count": null,
            "_view_module": "@jupyter-widgets/base",
            "_view_module_version": "1.2.0",
            "_view_name": "StyleView",
            "description_width": ""
          }
        },
        "adfe1d4675894039af125f17b0dc0511": {
          "model_module": "@jupyter-widgets/controls",
          "model_name": "HBoxModel",
          "model_module_version": "1.5.0",
          "state": {
            "_dom_classes": [],
            "_model_module": "@jupyter-widgets/controls",
            "_model_module_version": "1.5.0",
            "_model_name": "HBoxModel",
            "_view_count": null,
            "_view_module": "@jupyter-widgets/controls",
            "_view_module_version": "1.5.0",
            "_view_name": "HBoxView",
            "box_style": "",
            "children": [
              "IPY_MODEL_8ec9b2279c7540b9b43c38deb64e4e9a",
              "IPY_MODEL_d0901eadd3ad4c859e8049a6fd4592a3",
              "IPY_MODEL_03982d3d4a584f2faec03bd863b369bd"
            ],
            "layout": "IPY_MODEL_5d2d51ca2ee24afb8d91a4c79247bd68"
          }
        },
        "8ec9b2279c7540b9b43c38deb64e4e9a": {
          "model_module": "@jupyter-widgets/controls",
          "model_name": "HTMLModel",
          "model_module_version": "1.5.0",
          "state": {
            "_dom_classes": [],
            "_model_module": "@jupyter-widgets/controls",
            "_model_module_version": "1.5.0",
            "_model_name": "HTMLModel",
            "_view_count": null,
            "_view_module": "@jupyter-widgets/controls",
            "_view_module_version": "1.5.0",
            "_view_name": "HTMLView",
            "description": "",
            "description_tooltip": null,
            "layout": "IPY_MODEL_f3056a7400d54c1d895a7529a6875a01",
            "placeholder": "​",
            "style": "IPY_MODEL_14b0c71633ad4cf1935e730c0ba51490",
            "value": "Dl Size...: 100%"
          }
        },
        "d0901eadd3ad4c859e8049a6fd4592a3": {
          "model_module": "@jupyter-widgets/controls",
          "model_name": "FloatProgressModel",
          "model_module_version": "1.5.0",
          "state": {
            "_dom_classes": [],
            "_model_module": "@jupyter-widgets/controls",
            "_model_module_version": "1.5.0",
            "_model_name": "FloatProgressModel",
            "_view_count": null,
            "_view_module": "@jupyter-widgets/controls",
            "_view_module_version": "1.5.0",
            "_view_name": "ProgressView",
            "bar_style": "success",
            "description": "",
            "description_tooltip": null,
            "layout": "IPY_MODEL_bbc1431d7c8f4986a821479f07d4802b",
            "max": 1,
            "min": 0,
            "orientation": "horizontal",
            "style": "IPY_MODEL_91f958df0f4045748c04cae6f88fdedc",
            "value": 1
          }
        },
        "03982d3d4a584f2faec03bd863b369bd": {
          "model_module": "@jupyter-widgets/controls",
          "model_name": "HTMLModel",
          "model_module_version": "1.5.0",
          "state": {
            "_dom_classes": [],
            "_model_module": "@jupyter-widgets/controls",
            "_model_module_version": "1.5.0",
            "_model_name": "HTMLModel",
            "_view_count": null,
            "_view_module": "@jupyter-widgets/controls",
            "_view_module_version": "1.5.0",
            "_view_name": "HTMLView",
            "description": "",
            "description_tooltip": null,
            "layout": "IPY_MODEL_fa49641bf7c542519def6746f95a69f8",
            "placeholder": "​",
            "style": "IPY_MODEL_977286dd46d04e73b5584671f15da2c4",
            "value": " 11975353/11975353 [00:00&lt;00:00, 35581073.16 MiB/s]"
          }
        },
        "5d2d51ca2ee24afb8d91a4c79247bd68": {
          "model_module": "@jupyter-widgets/base",
          "model_name": "LayoutModel",
          "model_module_version": "1.2.0",
          "state": {
            "_model_module": "@jupyter-widgets/base",
            "_model_module_version": "1.2.0",
            "_model_name": "LayoutModel",
            "_view_count": null,
            "_view_module": "@jupyter-widgets/base",
            "_view_module_version": "1.2.0",
            "_view_name": "LayoutView",
            "align_content": null,
            "align_items": null,
            "align_self": null,
            "border": null,
            "bottom": null,
            "display": null,
            "flex": null,
            "flex_flow": null,
            "grid_area": null,
            "grid_auto_columns": null,
            "grid_auto_flow": null,
            "grid_auto_rows": null,
            "grid_column": null,
            "grid_gap": null,
            "grid_row": null,
            "grid_template_areas": null,
            "grid_template_columns": null,
            "grid_template_rows": null,
            "height": null,
            "justify_content": null,
            "justify_items": null,
            "left": null,
            "margin": null,
            "max_height": null,
            "max_width": null,
            "min_height": null,
            "min_width": null,
            "object_fit": null,
            "object_position": null,
            "order": null,
            "overflow": null,
            "overflow_x": null,
            "overflow_y": null,
            "padding": null,
            "right": null,
            "top": null,
            "visibility": null,
            "width": null
          }
        },
        "f3056a7400d54c1d895a7529a6875a01": {
          "model_module": "@jupyter-widgets/base",
          "model_name": "LayoutModel",
          "model_module_version": "1.2.0",
          "state": {
            "_model_module": "@jupyter-widgets/base",
            "_model_module_version": "1.2.0",
            "_model_name": "LayoutModel",
            "_view_count": null,
            "_view_module": "@jupyter-widgets/base",
            "_view_module_version": "1.2.0",
            "_view_name": "LayoutView",
            "align_content": null,
            "align_items": null,
            "align_self": null,
            "border": null,
            "bottom": null,
            "display": null,
            "flex": null,
            "flex_flow": null,
            "grid_area": null,
            "grid_auto_columns": null,
            "grid_auto_flow": null,
            "grid_auto_rows": null,
            "grid_column": null,
            "grid_gap": null,
            "grid_row": null,
            "grid_template_areas": null,
            "grid_template_columns": null,
            "grid_template_rows": null,
            "height": null,
            "justify_content": null,
            "justify_items": null,
            "left": null,
            "margin": null,
            "max_height": null,
            "max_width": null,
            "min_height": null,
            "min_width": null,
            "object_fit": null,
            "object_position": null,
            "order": null,
            "overflow": null,
            "overflow_x": null,
            "overflow_y": null,
            "padding": null,
            "right": null,
            "top": null,
            "visibility": null,
            "width": null
          }
        },
        "14b0c71633ad4cf1935e730c0ba51490": {
          "model_module": "@jupyter-widgets/controls",
          "model_name": "DescriptionStyleModel",
          "model_module_version": "1.5.0",
          "state": {
            "_model_module": "@jupyter-widgets/controls",
            "_model_module_version": "1.5.0",
            "_model_name": "DescriptionStyleModel",
            "_view_count": null,
            "_view_module": "@jupyter-widgets/base",
            "_view_module_version": "1.2.0",
            "_view_name": "StyleView",
            "description_width": ""
          }
        },
        "bbc1431d7c8f4986a821479f07d4802b": {
          "model_module": "@jupyter-widgets/base",
          "model_name": "LayoutModel",
          "model_module_version": "1.2.0",
          "state": {
            "_model_module": "@jupyter-widgets/base",
            "_model_module_version": "1.2.0",
            "_model_name": "LayoutModel",
            "_view_count": null,
            "_view_module": "@jupyter-widgets/base",
            "_view_module_version": "1.2.0",
            "_view_name": "LayoutView",
            "align_content": null,
            "align_items": null,
            "align_self": null,
            "border": null,
            "bottom": null,
            "display": null,
            "flex": null,
            "flex_flow": null,
            "grid_area": null,
            "grid_auto_columns": null,
            "grid_auto_flow": null,
            "grid_auto_rows": null,
            "grid_column": null,
            "grid_gap": null,
            "grid_row": null,
            "grid_template_areas": null,
            "grid_template_columns": null,
            "grid_template_rows": null,
            "height": null,
            "justify_content": null,
            "justify_items": null,
            "left": null,
            "margin": null,
            "max_height": null,
            "max_width": null,
            "min_height": null,
            "min_width": null,
            "object_fit": null,
            "object_position": null,
            "order": null,
            "overflow": null,
            "overflow_x": null,
            "overflow_y": null,
            "padding": null,
            "right": null,
            "top": null,
            "visibility": null,
            "width": "20px"
          }
        },
        "91f958df0f4045748c04cae6f88fdedc": {
          "model_module": "@jupyter-widgets/controls",
          "model_name": "ProgressStyleModel",
          "model_module_version": "1.5.0",
          "state": {
            "_model_module": "@jupyter-widgets/controls",
            "_model_module_version": "1.5.0",
            "_model_name": "ProgressStyleModel",
            "_view_count": null,
            "_view_module": "@jupyter-widgets/base",
            "_view_module_version": "1.2.0",
            "_view_name": "StyleView",
            "bar_color": null,
            "description_width": ""
          }
        },
        "fa49641bf7c542519def6746f95a69f8": {
          "model_module": "@jupyter-widgets/base",
          "model_name": "LayoutModel",
          "model_module_version": "1.2.0",
          "state": {
            "_model_module": "@jupyter-widgets/base",
            "_model_module_version": "1.2.0",
            "_model_name": "LayoutModel",
            "_view_count": null,
            "_view_module": "@jupyter-widgets/base",
            "_view_module_version": "1.2.0",
            "_view_name": "LayoutView",
            "align_content": null,
            "align_items": null,
            "align_self": null,
            "border": null,
            "bottom": null,
            "display": null,
            "flex": null,
            "flex_flow": null,
            "grid_area": null,
            "grid_auto_columns": null,
            "grid_auto_flow": null,
            "grid_auto_rows": null,
            "grid_column": null,
            "grid_gap": null,
            "grid_row": null,
            "grid_template_areas": null,
            "grid_template_columns": null,
            "grid_template_rows": null,
            "height": null,
            "justify_content": null,
            "justify_items": null,
            "left": null,
            "margin": null,
            "max_height": null,
            "max_width": null,
            "min_height": null,
            "min_width": null,
            "object_fit": null,
            "object_position": null,
            "order": null,
            "overflow": null,
            "overflow_x": null,
            "overflow_y": null,
            "padding": null,
            "right": null,
            "top": null,
            "visibility": null,
            "width": null
          }
        },
        "977286dd46d04e73b5584671f15da2c4": {
          "model_module": "@jupyter-widgets/controls",
          "model_name": "DescriptionStyleModel",
          "model_module_version": "1.5.0",
          "state": {
            "_model_module": "@jupyter-widgets/controls",
            "_model_module_version": "1.5.0",
            "_model_name": "DescriptionStyleModel",
            "_view_count": null,
            "_view_module": "@jupyter-widgets/base",
            "_view_module_version": "1.2.0",
            "_view_name": "StyleView",
            "description_width": ""
          }
        },
        "ed6790abb5314f00a42990bebcd31088": {
          "model_module": "@jupyter-widgets/controls",
          "model_name": "HBoxModel",
          "model_module_version": "1.5.0",
          "state": {
            "_dom_classes": [],
            "_model_module": "@jupyter-widgets/controls",
            "_model_module_version": "1.5.0",
            "_model_name": "HBoxModel",
            "_view_count": null,
            "_view_module": "@jupyter-widgets/controls",
            "_view_module_version": "1.5.0",
            "_view_name": "HBoxView",
            "box_style": "",
            "children": [
              "IPY_MODEL_681e0b8ab5b6439f97cbd95eb37180c8",
              "IPY_MODEL_337a97e5d1d8439a9a66f515d05d6fd1",
              "IPY_MODEL_269c93ea341244eda351f8a043be5ee7"
            ],
            "layout": "IPY_MODEL_0d1f8f8ffbfe427ba33a8068c2c4983b"
          }
        },
        "681e0b8ab5b6439f97cbd95eb37180c8": {
          "model_module": "@jupyter-widgets/controls",
          "model_name": "HTMLModel",
          "model_module_version": "1.5.0",
          "state": {
            "_dom_classes": [],
            "_model_module": "@jupyter-widgets/controls",
            "_model_module_version": "1.5.0",
            "_model_name": "HTMLModel",
            "_view_count": null,
            "_view_module": "@jupyter-widgets/controls",
            "_view_module_version": "1.5.0",
            "_view_name": "HTMLView",
            "description": "",
            "description_tooltip": null,
            "layout": "IPY_MODEL_d1c1ef8912d340a9ac8589d2371ab2f8",
            "placeholder": "​",
            "style": "IPY_MODEL_adbd1cfb95504f1fbeb55210d8c3de42",
            "value": "Extraction completed...: "
          }
        },
        "337a97e5d1d8439a9a66f515d05d6fd1": {
          "model_module": "@jupyter-widgets/controls",
          "model_name": "FloatProgressModel",
          "model_module_version": "1.5.0",
          "state": {
            "_dom_classes": [],
            "_model_module": "@jupyter-widgets/controls",
            "_model_module_version": "1.5.0",
            "_model_name": "FloatProgressModel",
            "_view_count": null,
            "_view_module": "@jupyter-widgets/controls",
            "_view_module_version": "1.5.0",
            "_view_name": "ProgressView",
            "bar_style": "success",
            "description": "",
            "description_tooltip": null,
            "layout": "IPY_MODEL_61806f25691144d5920747931356c47c",
            "max": 1,
            "min": 0,
            "orientation": "horizontal",
            "style": "IPY_MODEL_597f1babd00c461d914057c633261fc7",
            "value": 0
          }
        },
        "269c93ea341244eda351f8a043be5ee7": {
          "model_module": "@jupyter-widgets/controls",
          "model_name": "HTMLModel",
          "model_module_version": "1.5.0",
          "state": {
            "_dom_classes": [],
            "_model_module": "@jupyter-widgets/controls",
            "_model_module_version": "1.5.0",
            "_model_name": "HTMLModel",
            "_view_count": null,
            "_view_module": "@jupyter-widgets/controls",
            "_view_module_version": "1.5.0",
            "_view_name": "HTMLView",
            "description": "",
            "description_tooltip": null,
            "layout": "IPY_MODEL_00571ebb6d5b4b4486d9de7404cbf76e",
            "placeholder": "​",
            "style": "IPY_MODEL_35069d7a0dc8495d848b0b4205efc0ec",
            "value": " 0/0 [00:00&lt;?, ? file/s]"
          }
        },
        "0d1f8f8ffbfe427ba33a8068c2c4983b": {
          "model_module": "@jupyter-widgets/base",
          "model_name": "LayoutModel",
          "model_module_version": "1.2.0",
          "state": {
            "_model_module": "@jupyter-widgets/base",
            "_model_module_version": "1.2.0",
            "_model_name": "LayoutModel",
            "_view_count": null,
            "_view_module": "@jupyter-widgets/base",
            "_view_module_version": "1.2.0",
            "_view_name": "LayoutView",
            "align_content": null,
            "align_items": null,
            "align_self": null,
            "border": null,
            "bottom": null,
            "display": null,
            "flex": null,
            "flex_flow": null,
            "grid_area": null,
            "grid_auto_columns": null,
            "grid_auto_flow": null,
            "grid_auto_rows": null,
            "grid_column": null,
            "grid_gap": null,
            "grid_row": null,
            "grid_template_areas": null,
            "grid_template_columns": null,
            "grid_template_rows": null,
            "height": null,
            "justify_content": null,
            "justify_items": null,
            "left": null,
            "margin": null,
            "max_height": null,
            "max_width": null,
            "min_height": null,
            "min_width": null,
            "object_fit": null,
            "object_position": null,
            "order": null,
            "overflow": null,
            "overflow_x": null,
            "overflow_y": null,
            "padding": null,
            "right": null,
            "top": null,
            "visibility": null,
            "width": null
          }
        },
        "d1c1ef8912d340a9ac8589d2371ab2f8": {
          "model_module": "@jupyter-widgets/base",
          "model_name": "LayoutModel",
          "model_module_version": "1.2.0",
          "state": {
            "_model_module": "@jupyter-widgets/base",
            "_model_module_version": "1.2.0",
            "_model_name": "LayoutModel",
            "_view_count": null,
            "_view_module": "@jupyter-widgets/base",
            "_view_module_version": "1.2.0",
            "_view_name": "LayoutView",
            "align_content": null,
            "align_items": null,
            "align_self": null,
            "border": null,
            "bottom": null,
            "display": null,
            "flex": null,
            "flex_flow": null,
            "grid_area": null,
            "grid_auto_columns": null,
            "grid_auto_flow": null,
            "grid_auto_rows": null,
            "grid_column": null,
            "grid_gap": null,
            "grid_row": null,
            "grid_template_areas": null,
            "grid_template_columns": null,
            "grid_template_rows": null,
            "height": null,
            "justify_content": null,
            "justify_items": null,
            "left": null,
            "margin": null,
            "max_height": null,
            "max_width": null,
            "min_height": null,
            "min_width": null,
            "object_fit": null,
            "object_position": null,
            "order": null,
            "overflow": null,
            "overflow_x": null,
            "overflow_y": null,
            "padding": null,
            "right": null,
            "top": null,
            "visibility": null,
            "width": null
          }
        },
        "adbd1cfb95504f1fbeb55210d8c3de42": {
          "model_module": "@jupyter-widgets/controls",
          "model_name": "DescriptionStyleModel",
          "model_module_version": "1.5.0",
          "state": {
            "_model_module": "@jupyter-widgets/controls",
            "_model_module_version": "1.5.0",
            "_model_name": "DescriptionStyleModel",
            "_view_count": null,
            "_view_module": "@jupyter-widgets/base",
            "_view_module_version": "1.2.0",
            "_view_name": "StyleView",
            "description_width": ""
          }
        },
        "61806f25691144d5920747931356c47c": {
          "model_module": "@jupyter-widgets/base",
          "model_name": "LayoutModel",
          "model_module_version": "1.2.0",
          "state": {
            "_model_module": "@jupyter-widgets/base",
            "_model_module_version": "1.2.0",
            "_model_name": "LayoutModel",
            "_view_count": null,
            "_view_module": "@jupyter-widgets/base",
            "_view_module_version": "1.2.0",
            "_view_name": "LayoutView",
            "align_content": null,
            "align_items": null,
            "align_self": null,
            "border": null,
            "bottom": null,
            "display": null,
            "flex": null,
            "flex_flow": null,
            "grid_area": null,
            "grid_auto_columns": null,
            "grid_auto_flow": null,
            "grid_auto_rows": null,
            "grid_column": null,
            "grid_gap": null,
            "grid_row": null,
            "grid_template_areas": null,
            "grid_template_columns": null,
            "grid_template_rows": null,
            "height": null,
            "justify_content": null,
            "justify_items": null,
            "left": null,
            "margin": null,
            "max_height": null,
            "max_width": null,
            "min_height": null,
            "min_width": null,
            "object_fit": null,
            "object_position": null,
            "order": null,
            "overflow": null,
            "overflow_x": null,
            "overflow_y": null,
            "padding": null,
            "right": null,
            "top": null,
            "visibility": null,
            "width": "20px"
          }
        },
        "597f1babd00c461d914057c633261fc7": {
          "model_module": "@jupyter-widgets/controls",
          "model_name": "ProgressStyleModel",
          "model_module_version": "1.5.0",
          "state": {
            "_model_module": "@jupyter-widgets/controls",
            "_model_module_version": "1.5.0",
            "_model_name": "ProgressStyleModel",
            "_view_count": null,
            "_view_module": "@jupyter-widgets/base",
            "_view_module_version": "1.2.0",
            "_view_name": "StyleView",
            "bar_color": null,
            "description_width": ""
          }
        },
        "00571ebb6d5b4b4486d9de7404cbf76e": {
          "model_module": "@jupyter-widgets/base",
          "model_name": "LayoutModel",
          "model_module_version": "1.2.0",
          "state": {
            "_model_module": "@jupyter-widgets/base",
            "_model_module_version": "1.2.0",
            "_model_name": "LayoutModel",
            "_view_count": null,
            "_view_module": "@jupyter-widgets/base",
            "_view_module_version": "1.2.0",
            "_view_name": "LayoutView",
            "align_content": null,
            "align_items": null,
            "align_self": null,
            "border": null,
            "bottom": null,
            "display": null,
            "flex": null,
            "flex_flow": null,
            "grid_area": null,
            "grid_auto_columns": null,
            "grid_auto_flow": null,
            "grid_auto_rows": null,
            "grid_column": null,
            "grid_gap": null,
            "grid_row": null,
            "grid_template_areas": null,
            "grid_template_columns": null,
            "grid_template_rows": null,
            "height": null,
            "justify_content": null,
            "justify_items": null,
            "left": null,
            "margin": null,
            "max_height": null,
            "max_width": null,
            "min_height": null,
            "min_width": null,
            "object_fit": null,
            "object_position": null,
            "order": null,
            "overflow": null,
            "overflow_x": null,
            "overflow_y": null,
            "padding": null,
            "right": null,
            "top": null,
            "visibility": null,
            "width": null
          }
        },
        "35069d7a0dc8495d848b0b4205efc0ec": {
          "model_module": "@jupyter-widgets/controls",
          "model_name": "DescriptionStyleModel",
          "model_module_version": "1.5.0",
          "state": {
            "_model_module": "@jupyter-widgets/controls",
            "_model_module_version": "1.5.0",
            "_model_name": "DescriptionStyleModel",
            "_view_count": null,
            "_view_module": "@jupyter-widgets/base",
            "_view_module_version": "1.2.0",
            "_view_name": "StyleView",
            "description_width": ""
          }
        },
        "89e01c1203c445d590a356346092099b": {
          "model_module": "@jupyter-widgets/controls",
          "model_name": "HBoxModel",
          "model_module_version": "1.5.0",
          "state": {
            "_dom_classes": [],
            "_model_module": "@jupyter-widgets/controls",
            "_model_module_version": "1.5.0",
            "_model_name": "HBoxModel",
            "_view_count": null,
            "_view_module": "@jupyter-widgets/controls",
            "_view_module_version": "1.5.0",
            "_view_name": "HBoxView",
            "box_style": "",
            "children": [
              "IPY_MODEL_fd8bd28eb77348ceb55af3ffa3e87d17",
              "IPY_MODEL_65d5f93886304787b483e0ba98fd5cf8",
              "IPY_MODEL_df667ce728534a26b87f6b90460a230e"
            ],
            "layout": "IPY_MODEL_0fba003c2eaa4a37818d965c745d7220"
          }
        },
        "fd8bd28eb77348ceb55af3ffa3e87d17": {
          "model_module": "@jupyter-widgets/controls",
          "model_name": "HTMLModel",
          "model_module_version": "1.5.0",
          "state": {
            "_dom_classes": [],
            "_model_module": "@jupyter-widgets/controls",
            "_model_module_version": "1.5.0",
            "_model_name": "HTMLModel",
            "_view_count": null,
            "_view_module": "@jupyter-widgets/controls",
            "_view_module_version": "1.5.0",
            "_view_name": "HTMLView",
            "description": "",
            "description_tooltip": null,
            "layout": "IPY_MODEL_61673499111948f79b4b9b53926fe5bc",
            "placeholder": "​",
            "style": "IPY_MODEL_6d3ac5ff7c754799bd7a0ae0565c7bc6",
            "value": "Generating splits...: 100%"
          }
        },
        "65d5f93886304787b483e0ba98fd5cf8": {
          "model_module": "@jupyter-widgets/controls",
          "model_name": "FloatProgressModel",
          "model_module_version": "1.5.0",
          "state": {
            "_dom_classes": [],
            "_model_module": "@jupyter-widgets/controls",
            "_model_module_version": "1.5.0",
            "_model_name": "FloatProgressModel",
            "_view_count": null,
            "_view_module": "@jupyter-widgets/controls",
            "_view_module_version": "1.5.0",
            "_view_name": "ProgressView",
            "bar_style": "",
            "description": "",
            "description_tooltip": null,
            "layout": "IPY_MODEL_80c3041ea42142fe96e76f946e57c7e2",
            "max": 1,
            "min": 0,
            "orientation": "horizontal",
            "style": "IPY_MODEL_cc17cafdf341438c94dc1e1baac07ef5",
            "value": 1
          }
        },
        "df667ce728534a26b87f6b90460a230e": {
          "model_module": "@jupyter-widgets/controls",
          "model_name": "HTMLModel",
          "model_module_version": "1.5.0",
          "state": {
            "_dom_classes": [],
            "_model_module": "@jupyter-widgets/controls",
            "_model_module_version": "1.5.0",
            "_model_name": "HTMLModel",
            "_view_count": null,
            "_view_module": "@jupyter-widgets/controls",
            "_view_module_version": "1.5.0",
            "_view_name": "HTMLView",
            "description": "",
            "description_tooltip": null,
            "layout": "IPY_MODEL_c18bc576135e433facc69065d3f9492d",
            "placeholder": "​",
            "style": "IPY_MODEL_9d8792449fbc4cc38698f6110a4889bc",
            "value": " 1/1 [00:09&lt;00:00,  9.28s/ splits]"
          }
        },
        "0fba003c2eaa4a37818d965c745d7220": {
          "model_module": "@jupyter-widgets/base",
          "model_name": "LayoutModel",
          "model_module_version": "1.2.0",
          "state": {
            "_model_module": "@jupyter-widgets/base",
            "_model_module_version": "1.2.0",
            "_model_name": "LayoutModel",
            "_view_count": null,
            "_view_module": "@jupyter-widgets/base",
            "_view_module_version": "1.2.0",
            "_view_name": "LayoutView",
            "align_content": null,
            "align_items": null,
            "align_self": null,
            "border": null,
            "bottom": null,
            "display": null,
            "flex": null,
            "flex_flow": null,
            "grid_area": null,
            "grid_auto_columns": null,
            "grid_auto_flow": null,
            "grid_auto_rows": null,
            "grid_column": null,
            "grid_gap": null,
            "grid_row": null,
            "grid_template_areas": null,
            "grid_template_columns": null,
            "grid_template_rows": null,
            "height": null,
            "justify_content": null,
            "justify_items": null,
            "left": null,
            "margin": null,
            "max_height": null,
            "max_width": null,
            "min_height": null,
            "min_width": null,
            "object_fit": null,
            "object_position": null,
            "order": null,
            "overflow": null,
            "overflow_x": null,
            "overflow_y": null,
            "padding": null,
            "right": null,
            "top": null,
            "visibility": "hidden",
            "width": null
          }
        },
        "61673499111948f79b4b9b53926fe5bc": {
          "model_module": "@jupyter-widgets/base",
          "model_name": "LayoutModel",
          "model_module_version": "1.2.0",
          "state": {
            "_model_module": "@jupyter-widgets/base",
            "_model_module_version": "1.2.0",
            "_model_name": "LayoutModel",
            "_view_count": null,
            "_view_module": "@jupyter-widgets/base",
            "_view_module_version": "1.2.0",
            "_view_name": "LayoutView",
            "align_content": null,
            "align_items": null,
            "align_self": null,
            "border": null,
            "bottom": null,
            "display": null,
            "flex": null,
            "flex_flow": null,
            "grid_area": null,
            "grid_auto_columns": null,
            "grid_auto_flow": null,
            "grid_auto_rows": null,
            "grid_column": null,
            "grid_gap": null,
            "grid_row": null,
            "grid_template_areas": null,
            "grid_template_columns": null,
            "grid_template_rows": null,
            "height": null,
            "justify_content": null,
            "justify_items": null,
            "left": null,
            "margin": null,
            "max_height": null,
            "max_width": null,
            "min_height": null,
            "min_width": null,
            "object_fit": null,
            "object_position": null,
            "order": null,
            "overflow": null,
            "overflow_x": null,
            "overflow_y": null,
            "padding": null,
            "right": null,
            "top": null,
            "visibility": null,
            "width": null
          }
        },
        "6d3ac5ff7c754799bd7a0ae0565c7bc6": {
          "model_module": "@jupyter-widgets/controls",
          "model_name": "DescriptionStyleModel",
          "model_module_version": "1.5.0",
          "state": {
            "_model_module": "@jupyter-widgets/controls",
            "_model_module_version": "1.5.0",
            "_model_name": "DescriptionStyleModel",
            "_view_count": null,
            "_view_module": "@jupyter-widgets/base",
            "_view_module_version": "1.2.0",
            "_view_name": "StyleView",
            "description_width": ""
          }
        },
        "80c3041ea42142fe96e76f946e57c7e2": {
          "model_module": "@jupyter-widgets/base",
          "model_name": "LayoutModel",
          "model_module_version": "1.2.0",
          "state": {
            "_model_module": "@jupyter-widgets/base",
            "_model_module_version": "1.2.0",
            "_model_name": "LayoutModel",
            "_view_count": null,
            "_view_module": "@jupyter-widgets/base",
            "_view_module_version": "1.2.0",
            "_view_name": "LayoutView",
            "align_content": null,
            "align_items": null,
            "align_self": null,
            "border": null,
            "bottom": null,
            "display": null,
            "flex": null,
            "flex_flow": null,
            "grid_area": null,
            "grid_auto_columns": null,
            "grid_auto_flow": null,
            "grid_auto_rows": null,
            "grid_column": null,
            "grid_gap": null,
            "grid_row": null,
            "grid_template_areas": null,
            "grid_template_columns": null,
            "grid_template_rows": null,
            "height": null,
            "justify_content": null,
            "justify_items": null,
            "left": null,
            "margin": null,
            "max_height": null,
            "max_width": null,
            "min_height": null,
            "min_width": null,
            "object_fit": null,
            "object_position": null,
            "order": null,
            "overflow": null,
            "overflow_x": null,
            "overflow_y": null,
            "padding": null,
            "right": null,
            "top": null,
            "visibility": null,
            "width": null
          }
        },
        "cc17cafdf341438c94dc1e1baac07ef5": {
          "model_module": "@jupyter-widgets/controls",
          "model_name": "ProgressStyleModel",
          "model_module_version": "1.5.0",
          "state": {
            "_model_module": "@jupyter-widgets/controls",
            "_model_module_version": "1.5.0",
            "_model_name": "ProgressStyleModel",
            "_view_count": null,
            "_view_module": "@jupyter-widgets/base",
            "_view_module_version": "1.2.0",
            "_view_name": "StyleView",
            "bar_color": null,
            "description_width": ""
          }
        },
        "c18bc576135e433facc69065d3f9492d": {
          "model_module": "@jupyter-widgets/base",
          "model_name": "LayoutModel",
          "model_module_version": "1.2.0",
          "state": {
            "_model_module": "@jupyter-widgets/base",
            "_model_module_version": "1.2.0",
            "_model_name": "LayoutModel",
            "_view_count": null,
            "_view_module": "@jupyter-widgets/base",
            "_view_module_version": "1.2.0",
            "_view_name": "LayoutView",
            "align_content": null,
            "align_items": null,
            "align_self": null,
            "border": null,
            "bottom": null,
            "display": null,
            "flex": null,
            "flex_flow": null,
            "grid_area": null,
            "grid_auto_columns": null,
            "grid_auto_flow": null,
            "grid_auto_rows": null,
            "grid_column": null,
            "grid_gap": null,
            "grid_row": null,
            "grid_template_areas": null,
            "grid_template_columns": null,
            "grid_template_rows": null,
            "height": null,
            "justify_content": null,
            "justify_items": null,
            "left": null,
            "margin": null,
            "max_height": null,
            "max_width": null,
            "min_height": null,
            "min_width": null,
            "object_fit": null,
            "object_position": null,
            "order": null,
            "overflow": null,
            "overflow_x": null,
            "overflow_y": null,
            "padding": null,
            "right": null,
            "top": null,
            "visibility": null,
            "width": null
          }
        },
        "9d8792449fbc4cc38698f6110a4889bc": {
          "model_module": "@jupyter-widgets/controls",
          "model_name": "DescriptionStyleModel",
          "model_module_version": "1.5.0",
          "state": {
            "_model_module": "@jupyter-widgets/controls",
            "_model_module_version": "1.5.0",
            "_model_name": "DescriptionStyleModel",
            "_view_count": null,
            "_view_module": "@jupyter-widgets/base",
            "_view_module_version": "1.2.0",
            "_view_name": "StyleView",
            "description_width": ""
          }
        },
        "13ebb8c43c7946a1a769d99b625c6a03": {
          "model_module": "@jupyter-widgets/controls",
          "model_name": "HBoxModel",
          "model_module_version": "1.5.0",
          "state": {
            "_dom_classes": [],
            "_model_module": "@jupyter-widgets/controls",
            "_model_module_version": "1.5.0",
            "_model_name": "HBoxModel",
            "_view_count": null,
            "_view_module": "@jupyter-widgets/controls",
            "_view_module_version": "1.5.0",
            "_view_name": "HBoxView",
            "box_style": "",
            "children": [
              "IPY_MODEL_cfbb41e38e32427880c52a17b0878b68",
              "IPY_MODEL_c2e658d138f34fa2a7e59ca3bdbb88fa",
              "IPY_MODEL_cf384ae268bc4f85a2077775dea3fead"
            ],
            "layout": "IPY_MODEL_70cc9a13a3e24925b0ebe13fe200441d"
          }
        },
        "cfbb41e38e32427880c52a17b0878b68": {
          "model_module": "@jupyter-widgets/controls",
          "model_name": "HTMLModel",
          "model_module_version": "1.5.0",
          "state": {
            "_dom_classes": [],
            "_model_module": "@jupyter-widgets/controls",
            "_model_module_version": "1.5.0",
            "_model_name": "HTMLModel",
            "_view_count": null,
            "_view_module": "@jupyter-widgets/controls",
            "_view_module_version": "1.5.0",
            "_view_name": "HTMLView",
            "description": "",
            "description_tooltip": null,
            "layout": "IPY_MODEL_d0b7de7490fa40e88d9d6b89da387970",
            "placeholder": "​",
            "style": "IPY_MODEL_c9fc04a30b35408c9549313c55dca453",
            "value": "Generating train examples...:  99%"
          }
        },
        "c2e658d138f34fa2a7e59ca3bdbb88fa": {
          "model_module": "@jupyter-widgets/controls",
          "model_name": "FloatProgressModel",
          "model_module_version": "1.5.0",
          "state": {
            "_dom_classes": [],
            "_model_module": "@jupyter-widgets/controls",
            "_model_module_version": "1.5.0",
            "_model_name": "FloatProgressModel",
            "_view_count": null,
            "_view_module": "@jupyter-widgets/controls",
            "_view_module_version": "1.5.0",
            "_view_name": "ProgressView",
            "bar_style": "",
            "description": "",
            "description_tooltip": null,
            "layout": "IPY_MODEL_4e63b7b18b3d4c70bb5f3dcb1d38c574",
            "max": 2500,
            "min": 0,
            "orientation": "horizontal",
            "style": "IPY_MODEL_356feba71df7412bac4d62cf7a467c26",
            "value": 2500
          }
        },
        "cf384ae268bc4f85a2077775dea3fead": {
          "model_module": "@jupyter-widgets/controls",
          "model_name": "HTMLModel",
          "model_module_version": "1.5.0",
          "state": {
            "_dom_classes": [],
            "_model_module": "@jupyter-widgets/controls",
            "_model_module_version": "1.5.0",
            "_model_name": "HTMLModel",
            "_view_count": null,
            "_view_module": "@jupyter-widgets/controls",
            "_view_module_version": "1.5.0",
            "_view_name": "HTMLView",
            "description": "",
            "description_tooltip": null,
            "layout": "IPY_MODEL_e5e8ca256dbb40ed9c4c6d0792d982c7",
            "placeholder": "​",
            "style": "IPY_MODEL_719a1dcda3374fcaafea21ac8bc95db0",
            "value": " 2486/2500 [00:08&lt;00:00, 369.88 examples/s]"
          }
        },
        "70cc9a13a3e24925b0ebe13fe200441d": {
          "model_module": "@jupyter-widgets/base",
          "model_name": "LayoutModel",
          "model_module_version": "1.2.0",
          "state": {
            "_model_module": "@jupyter-widgets/base",
            "_model_module_version": "1.2.0",
            "_model_name": "LayoutModel",
            "_view_count": null,
            "_view_module": "@jupyter-widgets/base",
            "_view_module_version": "1.2.0",
            "_view_name": "LayoutView",
            "align_content": null,
            "align_items": null,
            "align_self": null,
            "border": null,
            "bottom": null,
            "display": null,
            "flex": null,
            "flex_flow": null,
            "grid_area": null,
            "grid_auto_columns": null,
            "grid_auto_flow": null,
            "grid_auto_rows": null,
            "grid_column": null,
            "grid_gap": null,
            "grid_row": null,
            "grid_template_areas": null,
            "grid_template_columns": null,
            "grid_template_rows": null,
            "height": null,
            "justify_content": null,
            "justify_items": null,
            "left": null,
            "margin": null,
            "max_height": null,
            "max_width": null,
            "min_height": null,
            "min_width": null,
            "object_fit": null,
            "object_position": null,
            "order": null,
            "overflow": null,
            "overflow_x": null,
            "overflow_y": null,
            "padding": null,
            "right": null,
            "top": null,
            "visibility": "hidden",
            "width": null
          }
        },
        "d0b7de7490fa40e88d9d6b89da387970": {
          "model_module": "@jupyter-widgets/base",
          "model_name": "LayoutModel",
          "model_module_version": "1.2.0",
          "state": {
            "_model_module": "@jupyter-widgets/base",
            "_model_module_version": "1.2.0",
            "_model_name": "LayoutModel",
            "_view_count": null,
            "_view_module": "@jupyter-widgets/base",
            "_view_module_version": "1.2.0",
            "_view_name": "LayoutView",
            "align_content": null,
            "align_items": null,
            "align_self": null,
            "border": null,
            "bottom": null,
            "display": null,
            "flex": null,
            "flex_flow": null,
            "grid_area": null,
            "grid_auto_columns": null,
            "grid_auto_flow": null,
            "grid_auto_rows": null,
            "grid_column": null,
            "grid_gap": null,
            "grid_row": null,
            "grid_template_areas": null,
            "grid_template_columns": null,
            "grid_template_rows": null,
            "height": null,
            "justify_content": null,
            "justify_items": null,
            "left": null,
            "margin": null,
            "max_height": null,
            "max_width": null,
            "min_height": null,
            "min_width": null,
            "object_fit": null,
            "object_position": null,
            "order": null,
            "overflow": null,
            "overflow_x": null,
            "overflow_y": null,
            "padding": null,
            "right": null,
            "top": null,
            "visibility": null,
            "width": null
          }
        },
        "c9fc04a30b35408c9549313c55dca453": {
          "model_module": "@jupyter-widgets/controls",
          "model_name": "DescriptionStyleModel",
          "model_module_version": "1.5.0",
          "state": {
            "_model_module": "@jupyter-widgets/controls",
            "_model_module_version": "1.5.0",
            "_model_name": "DescriptionStyleModel",
            "_view_count": null,
            "_view_module": "@jupyter-widgets/base",
            "_view_module_version": "1.2.0",
            "_view_name": "StyleView",
            "description_width": ""
          }
        },
        "4e63b7b18b3d4c70bb5f3dcb1d38c574": {
          "model_module": "@jupyter-widgets/base",
          "model_name": "LayoutModel",
          "model_module_version": "1.2.0",
          "state": {
            "_model_module": "@jupyter-widgets/base",
            "_model_module_version": "1.2.0",
            "_model_name": "LayoutModel",
            "_view_count": null,
            "_view_module": "@jupyter-widgets/base",
            "_view_module_version": "1.2.0",
            "_view_name": "LayoutView",
            "align_content": null,
            "align_items": null,
            "align_self": null,
            "border": null,
            "bottom": null,
            "display": null,
            "flex": null,
            "flex_flow": null,
            "grid_area": null,
            "grid_auto_columns": null,
            "grid_auto_flow": null,
            "grid_auto_rows": null,
            "grid_column": null,
            "grid_gap": null,
            "grid_row": null,
            "grid_template_areas": null,
            "grid_template_columns": null,
            "grid_template_rows": null,
            "height": null,
            "justify_content": null,
            "justify_items": null,
            "left": null,
            "margin": null,
            "max_height": null,
            "max_width": null,
            "min_height": null,
            "min_width": null,
            "object_fit": null,
            "object_position": null,
            "order": null,
            "overflow": null,
            "overflow_x": null,
            "overflow_y": null,
            "padding": null,
            "right": null,
            "top": null,
            "visibility": null,
            "width": null
          }
        },
        "356feba71df7412bac4d62cf7a467c26": {
          "model_module": "@jupyter-widgets/controls",
          "model_name": "ProgressStyleModel",
          "model_module_version": "1.5.0",
          "state": {
            "_model_module": "@jupyter-widgets/controls",
            "_model_module_version": "1.5.0",
            "_model_name": "ProgressStyleModel",
            "_view_count": null,
            "_view_module": "@jupyter-widgets/base",
            "_view_module_version": "1.2.0",
            "_view_name": "StyleView",
            "bar_color": null,
            "description_width": ""
          }
        },
        "e5e8ca256dbb40ed9c4c6d0792d982c7": {
          "model_module": "@jupyter-widgets/base",
          "model_name": "LayoutModel",
          "model_module_version": "1.2.0",
          "state": {
            "_model_module": "@jupyter-widgets/base",
            "_model_module_version": "1.2.0",
            "_model_name": "LayoutModel",
            "_view_count": null,
            "_view_module": "@jupyter-widgets/base",
            "_view_module_version": "1.2.0",
            "_view_name": "LayoutView",
            "align_content": null,
            "align_items": null,
            "align_self": null,
            "border": null,
            "bottom": null,
            "display": null,
            "flex": null,
            "flex_flow": null,
            "grid_area": null,
            "grid_auto_columns": null,
            "grid_auto_flow": null,
            "grid_auto_rows": null,
            "grid_column": null,
            "grid_gap": null,
            "grid_row": null,
            "grid_template_areas": null,
            "grid_template_columns": null,
            "grid_template_rows": null,
            "height": null,
            "justify_content": null,
            "justify_items": null,
            "left": null,
            "margin": null,
            "max_height": null,
            "max_width": null,
            "min_height": null,
            "min_width": null,
            "object_fit": null,
            "object_position": null,
            "order": null,
            "overflow": null,
            "overflow_x": null,
            "overflow_y": null,
            "padding": null,
            "right": null,
            "top": null,
            "visibility": null,
            "width": null
          }
        },
        "719a1dcda3374fcaafea21ac8bc95db0": {
          "model_module": "@jupyter-widgets/controls",
          "model_name": "DescriptionStyleModel",
          "model_module_version": "1.5.0",
          "state": {
            "_model_module": "@jupyter-widgets/controls",
            "_model_module_version": "1.5.0",
            "_model_name": "DescriptionStyleModel",
            "_view_count": null,
            "_view_module": "@jupyter-widgets/base",
            "_view_module_version": "1.2.0",
            "_view_name": "StyleView",
            "description_width": ""
          }
        },
        "c8bf58f0c657429bbecbcf739c734b24": {
          "model_module": "@jupyter-widgets/controls",
          "model_name": "HBoxModel",
          "model_module_version": "1.5.0",
          "state": {
            "_dom_classes": [],
            "_model_module": "@jupyter-widgets/controls",
            "_model_module_version": "1.5.0",
            "_model_name": "HBoxModel",
            "_view_count": null,
            "_view_module": "@jupyter-widgets/controls",
            "_view_module_version": "1.5.0",
            "_view_name": "HBoxView",
            "box_style": "",
            "children": [
              "IPY_MODEL_281e4fb673f143869eb79adb74b4fbb3",
              "IPY_MODEL_86b5f84918be4127a718155f06a237b8",
              "IPY_MODEL_d48e5a267c7342aca738d42422c4db9b"
            ],
            "layout": "IPY_MODEL_f1f2db39c9b344d4bd73d2e73604e8fe"
          }
        },
        "281e4fb673f143869eb79adb74b4fbb3": {
          "model_module": "@jupyter-widgets/controls",
          "model_name": "HTMLModel",
          "model_module_version": "1.5.0",
          "state": {
            "_dom_classes": [],
            "_model_module": "@jupyter-widgets/controls",
            "_model_module_version": "1.5.0",
            "_model_name": "HTMLModel",
            "_view_count": null,
            "_view_module": "@jupyter-widgets/controls",
            "_view_module_version": "1.5.0",
            "_view_name": "HTMLView",
            "description": "",
            "description_tooltip": null,
            "layout": "IPY_MODEL_80f42a0f87094e4991d2f88a764a3be4",
            "placeholder": "​",
            "style": "IPY_MODEL_bc9186aaf5b44d6aa5796f280ef62e1c",
            "value": "Shuffling ~/tensorflow_datasets/spoken_digit/1.0.9.incompleteG7T913/spoken_digit-train.tfrecord*...:  41%"
          }
        },
        "86b5f84918be4127a718155f06a237b8": {
          "model_module": "@jupyter-widgets/controls",
          "model_name": "FloatProgressModel",
          "model_module_version": "1.5.0",
          "state": {
            "_dom_classes": [],
            "_model_module": "@jupyter-widgets/controls",
            "_model_module_version": "1.5.0",
            "_model_name": "FloatProgressModel",
            "_view_count": null,
            "_view_module": "@jupyter-widgets/controls",
            "_view_module_version": "1.5.0",
            "_view_name": "ProgressView",
            "bar_style": "",
            "description": "",
            "description_tooltip": null,
            "layout": "IPY_MODEL_53f9395cf69b4025a69b752d9db6b752",
            "max": 2500,
            "min": 0,
            "orientation": "horizontal",
            "style": "IPY_MODEL_6e3aed5a9b064eefa817f3b5fc2cfc5d",
            "value": 2500
          }
        },
        "d48e5a267c7342aca738d42422c4db9b": {
          "model_module": "@jupyter-widgets/controls",
          "model_name": "HTMLModel",
          "model_module_version": "1.5.0",
          "state": {
            "_dom_classes": [],
            "_model_module": "@jupyter-widgets/controls",
            "_model_module_version": "1.5.0",
            "_model_name": "HTMLModel",
            "_view_count": null,
            "_view_module": "@jupyter-widgets/controls",
            "_view_module_version": "1.5.0",
            "_view_name": "HTMLView",
            "description": "",
            "description_tooltip": null,
            "layout": "IPY_MODEL_a72d99872bbd49caa6f2e9d3f8baa5de",
            "placeholder": "​",
            "style": "IPY_MODEL_dc68b728f3074fe495255ca1fa7abb38",
            "value": " 1023/2500 [00:00&lt;00:00, 10226.23 examples/s]"
          }
        },
        "f1f2db39c9b344d4bd73d2e73604e8fe": {
          "model_module": "@jupyter-widgets/base",
          "model_name": "LayoutModel",
          "model_module_version": "1.2.0",
          "state": {
            "_model_module": "@jupyter-widgets/base",
            "_model_module_version": "1.2.0",
            "_model_name": "LayoutModel",
            "_view_count": null,
            "_view_module": "@jupyter-widgets/base",
            "_view_module_version": "1.2.0",
            "_view_name": "LayoutView",
            "align_content": null,
            "align_items": null,
            "align_self": null,
            "border": null,
            "bottom": null,
            "display": null,
            "flex": null,
            "flex_flow": null,
            "grid_area": null,
            "grid_auto_columns": null,
            "grid_auto_flow": null,
            "grid_auto_rows": null,
            "grid_column": null,
            "grid_gap": null,
            "grid_row": null,
            "grid_template_areas": null,
            "grid_template_columns": null,
            "grid_template_rows": null,
            "height": null,
            "justify_content": null,
            "justify_items": null,
            "left": null,
            "margin": null,
            "max_height": null,
            "max_width": null,
            "min_height": null,
            "min_width": null,
            "object_fit": null,
            "object_position": null,
            "order": null,
            "overflow": null,
            "overflow_x": null,
            "overflow_y": null,
            "padding": null,
            "right": null,
            "top": null,
            "visibility": "hidden",
            "width": null
          }
        },
        "80f42a0f87094e4991d2f88a764a3be4": {
          "model_module": "@jupyter-widgets/base",
          "model_name": "LayoutModel",
          "model_module_version": "1.2.0",
          "state": {
            "_model_module": "@jupyter-widgets/base",
            "_model_module_version": "1.2.0",
            "_model_name": "LayoutModel",
            "_view_count": null,
            "_view_module": "@jupyter-widgets/base",
            "_view_module_version": "1.2.0",
            "_view_name": "LayoutView",
            "align_content": null,
            "align_items": null,
            "align_self": null,
            "border": null,
            "bottom": null,
            "display": null,
            "flex": null,
            "flex_flow": null,
            "grid_area": null,
            "grid_auto_columns": null,
            "grid_auto_flow": null,
            "grid_auto_rows": null,
            "grid_column": null,
            "grid_gap": null,
            "grid_row": null,
            "grid_template_areas": null,
            "grid_template_columns": null,
            "grid_template_rows": null,
            "height": null,
            "justify_content": null,
            "justify_items": null,
            "left": null,
            "margin": null,
            "max_height": null,
            "max_width": null,
            "min_height": null,
            "min_width": null,
            "object_fit": null,
            "object_position": null,
            "order": null,
            "overflow": null,
            "overflow_x": null,
            "overflow_y": null,
            "padding": null,
            "right": null,
            "top": null,
            "visibility": null,
            "width": null
          }
        },
        "bc9186aaf5b44d6aa5796f280ef62e1c": {
          "model_module": "@jupyter-widgets/controls",
          "model_name": "DescriptionStyleModel",
          "model_module_version": "1.5.0",
          "state": {
            "_model_module": "@jupyter-widgets/controls",
            "_model_module_version": "1.5.0",
            "_model_name": "DescriptionStyleModel",
            "_view_count": null,
            "_view_module": "@jupyter-widgets/base",
            "_view_module_version": "1.2.0",
            "_view_name": "StyleView",
            "description_width": ""
          }
        },
        "53f9395cf69b4025a69b752d9db6b752": {
          "model_module": "@jupyter-widgets/base",
          "model_name": "LayoutModel",
          "model_module_version": "1.2.0",
          "state": {
            "_model_module": "@jupyter-widgets/base",
            "_model_module_version": "1.2.0",
            "_model_name": "LayoutModel",
            "_view_count": null,
            "_view_module": "@jupyter-widgets/base",
            "_view_module_version": "1.2.0",
            "_view_name": "LayoutView",
            "align_content": null,
            "align_items": null,
            "align_self": null,
            "border": null,
            "bottom": null,
            "display": null,
            "flex": null,
            "flex_flow": null,
            "grid_area": null,
            "grid_auto_columns": null,
            "grid_auto_flow": null,
            "grid_auto_rows": null,
            "grid_column": null,
            "grid_gap": null,
            "grid_row": null,
            "grid_template_areas": null,
            "grid_template_columns": null,
            "grid_template_rows": null,
            "height": null,
            "justify_content": null,
            "justify_items": null,
            "left": null,
            "margin": null,
            "max_height": null,
            "max_width": null,
            "min_height": null,
            "min_width": null,
            "object_fit": null,
            "object_position": null,
            "order": null,
            "overflow": null,
            "overflow_x": null,
            "overflow_y": null,
            "padding": null,
            "right": null,
            "top": null,
            "visibility": null,
            "width": null
          }
        },
        "6e3aed5a9b064eefa817f3b5fc2cfc5d": {
          "model_module": "@jupyter-widgets/controls",
          "model_name": "ProgressStyleModel",
          "model_module_version": "1.5.0",
          "state": {
            "_model_module": "@jupyter-widgets/controls",
            "_model_module_version": "1.5.0",
            "_model_name": "ProgressStyleModel",
            "_view_count": null,
            "_view_module": "@jupyter-widgets/base",
            "_view_module_version": "1.2.0",
            "_view_name": "StyleView",
            "bar_color": null,
            "description_width": ""
          }
        },
        "a72d99872bbd49caa6f2e9d3f8baa5de": {
          "model_module": "@jupyter-widgets/base",
          "model_name": "LayoutModel",
          "model_module_version": "1.2.0",
          "state": {
            "_model_module": "@jupyter-widgets/base",
            "_model_module_version": "1.2.0",
            "_model_name": "LayoutModel",
            "_view_count": null,
            "_view_module": "@jupyter-widgets/base",
            "_view_module_version": "1.2.0",
            "_view_name": "LayoutView",
            "align_content": null,
            "align_items": null,
            "align_self": null,
            "border": null,
            "bottom": null,
            "display": null,
            "flex": null,
            "flex_flow": null,
            "grid_area": null,
            "grid_auto_columns": null,
            "grid_auto_flow": null,
            "grid_auto_rows": null,
            "grid_column": null,
            "grid_gap": null,
            "grid_row": null,
            "grid_template_areas": null,
            "grid_template_columns": null,
            "grid_template_rows": null,
            "height": null,
            "justify_content": null,
            "justify_items": null,
            "left": null,
            "margin": null,
            "max_height": null,
            "max_width": null,
            "min_height": null,
            "min_width": null,
            "object_fit": null,
            "object_position": null,
            "order": null,
            "overflow": null,
            "overflow_x": null,
            "overflow_y": null,
            "padding": null,
            "right": null,
            "top": null,
            "visibility": null,
            "width": null
          }
        },
        "dc68b728f3074fe495255ca1fa7abb38": {
          "model_module": "@jupyter-widgets/controls",
          "model_name": "DescriptionStyleModel",
          "model_module_version": "1.5.0",
          "state": {
            "_model_module": "@jupyter-widgets/controls",
            "_model_module_version": "1.5.0",
            "_model_name": "DescriptionStyleModel",
            "_view_count": null,
            "_view_module": "@jupyter-widgets/base",
            "_view_module_version": "1.2.0",
            "_view_name": "StyleView",
            "description_width": ""
          }
        }
      }
    }
  },
  "cells": [
    {
      "cell_type": "markdown",
      "metadata": {
        "id": "view-in-github",
        "colab_type": "text"
      },
      "source": [
        "<a href=\"https://colab.research.google.com/github/thalitadru/CoursNNDL/blob/master/LabAssignmentCNNAudio_complete.ipynb\" target=\"_parent\"><img src=\"https://colab.research.google.com/assets/colab-badge.svg\" alt=\"Open In Colab\"/></a>"
      ]
    },
    {
      "cell_type": "code",
      "source": [
        "import matplotlib.pyplot as plt\n",
        "import pandas as pd\n",
        "import numpy as np\n",
        "import os\n",
        "import tensorflow as tf\n",
        "import tensorflow.keras as keras\n",
        "\n",
        "from IPython import display"
      ],
      "metadata": {
        "id": "RsCyTjrq2EY9"
      },
      "execution_count": 1,
      "outputs": []
    },
    {
      "cell_type": "code",
      "execution_count": 2,
      "metadata": {
        "id": "_Iz-K2zi1z07"
      },
      "outputs": [],
      "source": [
        "import tensorflow_datasets as tfds"
      ]
    },
    {
      "cell_type": "code",
      "source": [
        "data_info = tfds.builder('spoken_digit').info\n",
        "data_info"
      ],
      "metadata": {
        "colab": {
          "base_uri": "https://localhost:8080/"
        },
        "id": "685BH8EC2d64",
        "outputId": "f32a59a5-a53b-4b77-d17d-cf9f3b0f6f6b"
      },
      "execution_count": 6,
      "outputs": [
        {
          "output_type": "execute_result",
          "data": {
            "text/plain": [
              "tfds.core.DatasetInfo(\n",
              "    name='spoken_digit',\n",
              "    full_name='spoken_digit/1.0.9',\n",
              "    description=\"\"\"\n",
              "    A free audio dataset of spoken digits. Think MNIST for audio.\n",
              "    \n",
              "    A simple audio/speech dataset consisting of recordings of spoken digits in wav files at 8kHz.\n",
              "    The recordings are trimmed so that they have near minimal silence at the beginnings and ends.\n",
              "    \n",
              "    5 speakers\n",
              "    2,500 recordings (50 of each digit per speaker)\n",
              "    English pronunciations\n",
              "    \n",
              "    Files are named in the following format: {digitLabel}_{speakerName}_{index}.wav\n",
              "    \"\"\",\n",
              "    homepage='https://github.com/Jakobovski/free-spoken-digit-dataset',\n",
              "    data_path='~/tensorflow_datasets/spoken_digit/1.0.9',\n",
              "    file_format=tfrecord,\n",
              "    download_size=11.42 MiB,\n",
              "    dataset_size=45.68 MiB,\n",
              "    features=FeaturesDict({\n",
              "        'audio': Audio(shape=(None,), dtype=tf.int64),\n",
              "        'audio/filename': Text(shape=(), dtype=tf.string),\n",
              "        'label': ClassLabel(shape=(), dtype=tf.int64, num_classes=10),\n",
              "    }),\n",
              "    supervised_keys=('audio', 'label'),\n",
              "    disable_shuffling=False,\n",
              "    splits={\n",
              "        'train': <SplitInfo num_examples=2500, num_shards=1>,\n",
              "    },\n",
              "    citation=\"\"\"@ONLINE {Free Spoken Digit Dataset,\n",
              "        author = \"Zohar Jackson\",\n",
              "        title  = \"Spoken_Digit\",\n",
              "        year   = \"2016\",\n",
              "        url    = \"https://github.com/Jakobovski/free-spoken-digit-dataset\"\n",
              "    }\"\"\",\n",
              ")"
            ]
          },
          "metadata": {},
          "execution_count": 6
        }
      ]
    },
    {
      "cell_type": "markdown",
      "source": [
        "This dataset requires the installation of the following package:"
      ],
      "metadata": {
        "id": "RpTnuJOf5Rwb"
      }
    },
    {
      "cell_type": "code",
      "source": [
        "!pip install pydub"
      ],
      "metadata": {
        "colab": {
          "base_uri": "https://localhost:8080/"
        },
        "id": "r4inlNZO5Hy1",
        "outputId": "d4aef92f-578e-4417-ad54-074a6383e070"
      },
      "execution_count": 8,
      "outputs": [
        {
          "output_type": "stream",
          "name": "stdout",
          "text": [
            "Looking in indexes: https://pypi.org/simple, https://us-python.pkg.dev/colab-wheels/public/simple/\n",
            "Collecting pydub\n",
            "  Downloading pydub-0.25.1-py2.py3-none-any.whl (32 kB)\n",
            "Installing collected packages: pydub\n",
            "Successfully installed pydub-0.25.1\n"
          ]
        }
      ]
    },
    {
      "cell_type": "code",
      "source": [
        "train_dataset, validation_dataset , test_dataset = tfds.load(\n",
        "    'spoken_digit', \n",
        "    shuffle_files=True,\n",
        "    as_supervised=True,\n",
        "    split=['train[:60%]', 'train[60%:80%]', 'train[80%:]'])"
      ],
      "metadata": {
        "colab": {
          "base_uri": "https://localhost:8080/",
          "height": 149,
          "referenced_widgets": [
            "be9d004442af44bcb62b4a69fdc99711",
            "adbebf53c8674dd9a7f2cadc1c706e15",
            "b361abe9011a4500bc4bac61057fba00",
            "a2047ba46c2d4b438a29ee22c98cf431",
            "e255827eb16f4a1f827501b3cc1ef55b",
            "295ab021548340f4ba63cc95bb60f4a4",
            "fe8a9ab7d1264159a6f67b7e210ac336",
            "af9484d243dd4fc6933cc5c26a01a7e4",
            "264ff32f44f24720aaf4f2d1e8422b3a",
            "e347b2f9b4e8492e9d0303dfb24e5936",
            "6e71f8656dd84c22bdcab28b2c3b1e4d",
            "adfe1d4675894039af125f17b0dc0511",
            "8ec9b2279c7540b9b43c38deb64e4e9a",
            "d0901eadd3ad4c859e8049a6fd4592a3",
            "03982d3d4a584f2faec03bd863b369bd",
            "5d2d51ca2ee24afb8d91a4c79247bd68",
            "f3056a7400d54c1d895a7529a6875a01",
            "14b0c71633ad4cf1935e730c0ba51490",
            "bbc1431d7c8f4986a821479f07d4802b",
            "91f958df0f4045748c04cae6f88fdedc",
            "fa49641bf7c542519def6746f95a69f8",
            "977286dd46d04e73b5584671f15da2c4",
            "ed6790abb5314f00a42990bebcd31088",
            "681e0b8ab5b6439f97cbd95eb37180c8",
            "337a97e5d1d8439a9a66f515d05d6fd1",
            "269c93ea341244eda351f8a043be5ee7",
            "0d1f8f8ffbfe427ba33a8068c2c4983b",
            "d1c1ef8912d340a9ac8589d2371ab2f8",
            "adbd1cfb95504f1fbeb55210d8c3de42",
            "61806f25691144d5920747931356c47c",
            "597f1babd00c461d914057c633261fc7",
            "00571ebb6d5b4b4486d9de7404cbf76e",
            "35069d7a0dc8495d848b0b4205efc0ec",
            "89e01c1203c445d590a356346092099b",
            "fd8bd28eb77348ceb55af3ffa3e87d17",
            "65d5f93886304787b483e0ba98fd5cf8",
            "df667ce728534a26b87f6b90460a230e",
            "0fba003c2eaa4a37818d965c745d7220",
            "61673499111948f79b4b9b53926fe5bc",
            "6d3ac5ff7c754799bd7a0ae0565c7bc6",
            "80c3041ea42142fe96e76f946e57c7e2",
            "cc17cafdf341438c94dc1e1baac07ef5",
            "c18bc576135e433facc69065d3f9492d",
            "9d8792449fbc4cc38698f6110a4889bc",
            "13ebb8c43c7946a1a769d99b625c6a03",
            "cfbb41e38e32427880c52a17b0878b68",
            "c2e658d138f34fa2a7e59ca3bdbb88fa",
            "cf384ae268bc4f85a2077775dea3fead",
            "70cc9a13a3e24925b0ebe13fe200441d",
            "d0b7de7490fa40e88d9d6b89da387970",
            "c9fc04a30b35408c9549313c55dca453",
            "4e63b7b18b3d4c70bb5f3dcb1d38c574",
            "356feba71df7412bac4d62cf7a467c26",
            "e5e8ca256dbb40ed9c4c6d0792d982c7",
            "719a1dcda3374fcaafea21ac8bc95db0",
            "c8bf58f0c657429bbecbcf739c734b24",
            "281e4fb673f143869eb79adb74b4fbb3",
            "86b5f84918be4127a718155f06a237b8",
            "d48e5a267c7342aca738d42422c4db9b",
            "f1f2db39c9b344d4bd73d2e73604e8fe",
            "80f42a0f87094e4991d2f88a764a3be4",
            "bc9186aaf5b44d6aa5796f280ef62e1c",
            "53f9395cf69b4025a69b752d9db6b752",
            "6e3aed5a9b064eefa817f3b5fc2cfc5d",
            "a72d99872bbd49caa6f2e9d3f8baa5de",
            "dc68b728f3074fe495255ca1fa7abb38"
          ]
        },
        "id": "migcZLo32FWo",
        "outputId": "a43e4b1e-04d9-4257-f85f-45fe1edcf2d9"
      },
      "execution_count": 9,
      "outputs": [
        {
          "output_type": "stream",
          "name": "stdout",
          "text": [
            "\u001b[1mDownloading and preparing dataset 11.42 MiB (download: 11.42 MiB, generated: 45.68 MiB, total: 57.10 MiB) to ~/tensorflow_datasets/spoken_digit/1.0.9...\u001b[0m\n"
          ]
        },
        {
          "output_type": "display_data",
          "data": {
            "text/plain": [
              "Dl Completed...: 0 url [00:00, ? url/s]"
            ],
            "application/vnd.jupyter.widget-view+json": {
              "version_major": 2,
              "version_minor": 0,
              "model_id": "be9d004442af44bcb62b4a69fdc99711"
            }
          },
          "metadata": {}
        },
        {
          "output_type": "display_data",
          "data": {
            "text/plain": [
              "Dl Size...: 0 MiB [00:00, ? MiB/s]"
            ],
            "application/vnd.jupyter.widget-view+json": {
              "version_major": 2,
              "version_minor": 0,
              "model_id": "adfe1d4675894039af125f17b0dc0511"
            }
          },
          "metadata": {}
        },
        {
          "output_type": "display_data",
          "data": {
            "text/plain": [
              "Extraction completed...: 0 file [00:00, ? file/s]"
            ],
            "application/vnd.jupyter.widget-view+json": {
              "version_major": 2,
              "version_minor": 0,
              "model_id": "ed6790abb5314f00a42990bebcd31088"
            }
          },
          "metadata": {}
        },
        {
          "output_type": "display_data",
          "data": {
            "text/plain": [
              "Generating splits...:   0%|          | 0/1 [00:00<?, ? splits/s]"
            ],
            "application/vnd.jupyter.widget-view+json": {
              "version_major": 2,
              "version_minor": 0,
              "model_id": "89e01c1203c445d590a356346092099b"
            }
          },
          "metadata": {}
        },
        {
          "output_type": "display_data",
          "data": {
            "text/plain": [
              "Generating train examples...:   0%|          | 0/2500 [00:00<?, ? examples/s]"
            ],
            "application/vnd.jupyter.widget-view+json": {
              "version_major": 2,
              "version_minor": 0,
              "model_id": "13ebb8c43c7946a1a769d99b625c6a03"
            }
          },
          "metadata": {}
        },
        {
          "output_type": "display_data",
          "data": {
            "text/plain": [
              "Shuffling ~/tensorflow_datasets/spoken_digit/1.0.9.incompleteG7T913/spoken_digit-train.tfrecord*...:   0%|    …"
            ],
            "application/vnd.jupyter.widget-view+json": {
              "version_major": 2,
              "version_minor": 0,
              "model_id": "c8bf58f0c657429bbecbcf739c734b24"
            }
          },
          "metadata": {}
        },
        {
          "output_type": "stream",
          "name": "stdout",
          "text": [
            "\u001b[1mDataset spoken_digit downloaded and prepared to ~/tensorflow_datasets/spoken_digit/1.0.9. Subsequent calls will reuse this data.\u001b[0m\n"
          ]
        }
      ]
    },
    {
      "cell_type": "code",
      "source": [
        "train_dataset.cardinality()"
      ],
      "metadata": {
        "colab": {
          "base_uri": "https://localhost:8080/"
        },
        "id": "I6jYxPeD47Yu",
        "outputId": "aeee607b-9ee3-4dc2-8c86-04b541fab5fd"
      },
      "execution_count": 12,
      "outputs": [
        {
          "output_type": "execute_result",
          "data": {
            "text/plain": [
              "<tf.Tensor: shape=(), dtype=int64, numpy=1500>"
            ]
          },
          "metadata": {},
          "execution_count": 12
        }
      ]
    },
    {
      "cell_type": "code",
      "source": [
        "waveform, label = next(iter(train_dataset))\n",
        "print(f\"waveform shape:{waveform.shape}, and dtype: {waveform.dtype}\")\n",
        "plt.plot(waveform)\n",
        "plt.title(f'Number: {label}')\n",
        "plt.show()\n",
        "display.display(display.Audio(waveform, rate=8000))"
      ],
      "metadata": {
        "colab": {
          "base_uri": "https://localhost:8080/",
          "height": 357
        },
        "id": "SI7Izy2S-h1u",
        "outputId": "2a3f9c75-4948-4b50-f603-97b42d16a079"
      },
      "execution_count": 39,
      "outputs": [
        {
          "output_type": "stream",
          "name": "stdout",
          "text": [
            "waveform shape:(1525,), and dtype: <dtype: 'int64'>\n"
          ]
        },
        {
          "output_type": "display_data",
          "data": {
            "text/plain": [
              "<Figure size 432x288 with 1 Axes>"
            ],
            "image/png": "[encoded data removed]"
          },
          "metadata": {
            "needs_background": "light"
          }
        },
        {
          "output_type": "display_data",
          "data": {
            "text/plain": [
              "<IPython.lib.display.Audio object>"
            ],
            "text/html": [
              "\n",
              "                <audio  controls=\"controls\" >\n",
              "                    <source src=\"data:audio/wav;base64,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\" type=\"audio/wav\" />\n",
              "                    Your browser does not support the audio element.\n",
              "                </audio>\n",
              "              "
            ]
          },
          "metadata": {}
        }
      ]
    },
    {
      "cell_type": "code",
      "source": [
        "def get_spectrogram(waveform):\n",
        "  # Convert the waveform to a spectrogram via a STFT.\n",
        "  spectrogram = tf.signal.stft(\n",
        "      waveform, frame_length=255, frame_step=128)\n",
        "  # Obtain the magnitude of the STFT.\n",
        "  spectrogram = tf.abs(spectrogram)\n",
        "  # Add a `channels` dimension, so that the spectrogram can be used\n",
        "  # as image-like input data with convolution layers (which expect\n",
        "  # shape (`batch_size`, `height`, `width`, `channels`).\n",
        "  spectrogram = spectrogram[..., tf.newaxis]\n",
        "  return spectrogram\n"
      ],
      "metadata": {
        "id": "PaLYwkeO8PT1"
      },
      "execution_count": 40,
      "outputs": []
    },
    {
      "cell_type": "code",
      "source": [
        "spectrogram = get_spectrogram(tf.cast(waveform, tf.float32) )\n",
        "print(f\"spectrogram shape: {spectrogram.shape}\")"
      ],
      "metadata": {
        "colab": {
          "base_uri": "https://localhost:8080/",
          "height": 113
        },
        "id": "sdHG5DNUMw56",
        "outputId": "f0e0c929-6c98-46a9-eb9d-c7f965423b50"
      },
      "execution_count": 41,
      "outputs": [
        {
          "output_type": "stream",
          "name": "stdout",
          "text": [
            "spectrogram shape: (10, 129, 1)\n"
          ]
        },
        {
          "output_type": "execute_result",
          "data": {
            "text/plain": [
              "<matplotlib.image.AxesImage at 0x7f63c4ad3910>"
            ]
          },
          "metadata": {},
          "execution_count": 41
        },
        {
          "output_type": "display_data",
          "data": {
            "text/plain": [
              "<Figure size 432x288 with 1 Axes>"
            ],
            "image/png": "[encoded data removed]"
          },
          "metadata": {
            "needs_background": "light"
          }
        }
      ]
    },
    {
      "cell_type": "code",
      "source": [
        "def plot_spectrogram(spectrogram, ax):\n",
        "  if len(spectrogram.shape) > 2:\n",
        "    assert len(spectrogram.shape) == 3\n",
        "    spectrogram = np.squeeze(spectrogram, axis=-1)\n",
        "  # Convert the frequencies to log scale and transpose, so that the time is\n",
        "  # represented on the x-axis (columns).\n",
        "  # Add an epsilon to avoid taking a log of zero.\n",
        "  ax.set_xlabel('time (s)')\n",
        "  ax.set_ylabel('frequency( Hz)')\n",
        "  log_spec = np.log(spectrogram.T + np.finfo(float).eps)\n",
        "  height = log_spec.shape[0]\n",
        "  width = log_spec.shape[1]\n",
        "  X = np.linspace(0, np.size(spectrogram), num=width, dtype=int)\n",
        "  Y = range(height)\n",
        "  ax.pcolormesh(X, Y, log_spec)"
      ],
      "metadata": {
        "id": "SXWO-5f6OsAO"
      },
      "execution_count": 44,
      "outputs": []
    },
    {
      "cell_type": "code",
      "source": [
        "plot_spectrogram(spectrogram, plt.gcf().gca())"
      ],
      "metadata": {
        "colab": {
          "base_uri": "https://localhost:8080/",
          "height": 279
        },
        "id": "X0XG2XHgOt2x",
        "outputId": "be93ddd4-2158-4914-e8a5-13a9fe93923c"
      },
      "execution_count": 45,
      "outputs": [
        {
          "output_type": "display_data",
          "data": {
            "text/plain": [
              "<Figure size 432x288 with 1 Axes>"
            ],
            "image/png": "[encoded data removed]"
          },
          "metadata": {
            "needs_background": "light"
          }
        }
      ]
    },
    {
      "cell_type": "code",
      "source": [
        "def plot_wave_spectre(waveform, spectrogram):\n",
        "    fig, (ax0,ax1) = plt.subplots(1,2, figsize=(10,4))\n",
        "    fig.suptitle(f'Number: {label}')\n",
        "    ax0.plot(waveform)\n",
        "    plot_spectrogram(spectrogram, ax1)\n",
        "    fig.show()"
      ],
      "metadata": {
        "id": "VsBBRpqiMWz4"
      },
      "execution_count": 51,
      "outputs": []
    },
    {
      "cell_type": "code",
      "source": [
        "for i, element in enumerate(train_dataset.take(5)):\n",
        "    waveform, label = element\n",
        "    waveform = tf.cast(waveform, tf.float64)\n",
        "    spectrogram = get_spectrogram(waveform)\n",
        "    # plot_wave_spectre(waveform, spectrogram)\n",
        "    fig, (ax0,ax1) = plt.subplots(1,2, figsize=(10,4))\n",
        "    fig.suptitle(f'Number: {label}')\n",
        "    ax0.plot(waveform)\n",
        "    plot_spectrogram(spectrogram, ax1)\n",
        "    fig.show()\n",
        "    print('Label:', label)\n",
        "    print('Waveform shape:', waveform.shape)\n",
        "    print('Spectrogram shape:', spectrogram.shape)\n",
        "    print('Audio playback')\n",
        "    display.display(display.Audio(waveform, rate=8000))"
      ],
      "metadata": {
        "colab": {
          "base_uri": "https://localhost:8080/",
          "height": 1000
        },
        "id": "E219Tmph5qo6",
        "outputId": "63be1a7b-1d95-45d2-9463-832287706ce1"
      },
      "execution_count": 53,
      "outputs": [
        {
          "output_type": "stream",
          "name": "stdout",
          "text": [
            "Label: tf.Tensor(2, shape=(), dtype=int64)\n",
            "Waveform shape: (1525,)\n",
            "Spectrogram shape: (10, 129, 1)\n",
            "Audio playback\n"
          ]
        },
        {
          "output_type": "display_data",
          "data": {
            "text/plain": [
              "<IPython.lib.display.Audio object>"
            ],
            "text/html": [
              "\n",
              "                <audio  controls=\"controls\" >\n",
              "                    <source src=\"data:audio/wav;base64,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\" type=\"audio/wav\" />\n",
              "                    Your browser does not support the audio element.\n",
              "                </audio>\n",
              "              "
            ]
          },
          "metadata": {}
        },
        {
          "output_type": "stream",
          "name": "stdout",
          "text": [
            "Label: tf.Tensor(1, shape=(), dtype=int64)\n",
            "Waveform shape: (2929,)\n",
            "Spectrogram shape: (21, 129, 1)\n",
            "Audio playback\n"
          ]
        },
        {
          "output_type": "display_data",
          "data": {
            "text/plain": [
              "<IPython.lib.display.Audio object>"
            ],
            "text/html": [
              "\n",
              "                <audio  controls=\"controls\" >\n",
              "                    <source src=\"data:audio/wav;base64,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\" type=\"audio/wav\" />\n",
              "                    Your browser does not support the audio element.\n",
              "                </audio>\n",
              "              "
            ]
          },
          "metadata": {}
        },
        {
          "output_type": "stream",
          "name": "stdout",
          "text": [
            "Label: tf.Tensor(9, shape=(), dtype=int64)\n",
            "Waveform shape: (6457,)\n",
            "Spectrogram shape: (49, 129, 1)\n",
            "Audio playback\n"
          ]
        },
        {
          "output_type": "display_data",
          "data": {
            "text/plain": [
              "<IPython.lib.display.Audio object>"
            ],
            "text/html": [
              "\n",
              "                <audio  controls=\"controls\" >\n",
              "                    <source src=\"data:audio/wav;base64,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\" type=\"audio/wav\" />\n",
              "                    Your browser does not support the audio element.\n",
              "                </audio>\n",
              "              "
            ]
          },
          "metadata": {}
        },
        {
          "output_type": "stream",
          "name": "stdout",
          "text": [
            "Label: tf.Tensor(9, shape=(), dtype=int64)\n",
            "Waveform shape: (3360,)\n",
            "Spectrogram shape: (25, 129, 1)\n",
            "Audio playback\n"
          ]
        },
        {
          "output_type": "display_data",
          "data": {
            "text/plain": [
              "<IPython.lib.display.Audio object>"
            ],
            "text/html": [
              "\n",
              "                <audio  controls=\"controls\" >\n",
              "                    <source src=\"data:audio/wav;base64,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\" type=\"audio/wav\" />\n",
              "                    Your browser does not support the audio element.\n",
              "                </audio>\n",
              "              "
            ]
          },
          "metadata": {}
        },
        {
          "output_type": "stream",
          "name": "stdout",
          "text": [
            "Label: tf.Tensor(7, shape=(), dtype=int64)\n",
            "Waveform shape: (2746,)\n",
            "Spectrogram shape: (20, 129, 1)\n",
            "Audio playback\n"
          ]
        },
        {
          "output_type": "display_data",
          "data": {
            "text/plain": [
              "<IPython.lib.display.Audio object>"
            ],
            "text/html": [
              "\n",
              "                <audio  controls=\"controls\" >\n",
              "                    <source src=\"data:audio/wav;base64,UklGRpgVAABXQVZFZm10IBAAAAABAAEAQB8AAIA+AAACABAAZGF0YXQVAADf+wAA3/sAAAAA3/vf+wAAvvcAAL733/u+99/73/vf+9/73/u+9wAAAADf+wAA3/sAAN/7AAC+99/73/vf+9/7AADf+wAA3/sAAAAAIQQAAAAA3/sAAL73vve+99/7vve+9773vve+99/7vve+953zvved853znfO+93zvnfO+953z3/u+9wAAQghCCIQQhBClFKUUxhiEEKUUxhiEEGMM3/u+953zOucZ49fa+N4Z4zrnOud877733/shBAAAQghCCCEEIQS+99/7nfM65zrn+N4Z4zrnGeNb653z3/vf+0IIQgilFKUUhBDGGOccSilrLYwxay1rLUopYwzf+1vrtta21lPKz7kyxrbW19o653zvIQSlFOcchBDnHMYYQgghBHzvGeM657bWttb43vjeOudb653z3/tCCAAAIQQhBAAAAAC+9773vvcAAN/7QgilFOcczjkxRnNOUkrvPSkl3/t873TO8L1srSqlbK0yxrbWGeMAAKUUKSWtNSklSikpJWMM3/sZ47bWU8pTyhHCdM743vjevvdCCGMM5xylFKUUQgghBJ3zfO865zrnW+u+9wAA5xwpJTFG1lo5Z7VWc07nHL73GePPuQmh6JxkjEupEcK21nzv5xwpJe89EEKMMWstCCHf+xnjldLPuc+5rrXPuXTOW+t872MMCCHnHGstxhhjDCEEfO/43rbW19q21nzv3/tCCGstzjnWWpxzvXf3XlJKYwwZ41PKCaEihCKEQ4hLqZXS+N4hBK01EEKUUpRSjDFrLaUUW+t0zvC9bK2Nsa618L3X2gAAYwwIIWstSimMMaUU3/u+99faldJTylPK19pb6yEEhBCMMTFG1lree713WmtSSsYY+N4RwgmhIoQBgCKECaGV0lvrQgiMMRBCc05zTq015xyEEFvrU8rPuSqlbK3PuTLG19ohBOccKSWMMUopay3GGN/7OufX2lPK8L0yxnTOW+vf+2MMSinOOXNOtVY5Zzln914xRgghW+sRwmytppRkjIWQCaFTynzvIQTGGM45EELvPc45pRSEEJ3zttYRwq61jbHwvXTOGePf++ccSimMMUopCCGlFAAAGeO21lPKEcIyxnTOGeO+94QQKSWtNTFGMUbWWtZaGGP3Xu89xhjX2vC9jbHHmKaUhZBLqZXSfO8hBKUUzjnOORBCjDGEEIQQfO+21vC9rrWutTLGdM4Z4wAA5xwIIa01ay3GGKUUnfMZ47bW8L3wvTLGldL43gAAhBAIIRBC7z0xRnNO1loYYxhj7z0pJXzvMsbwveicZIxkjMeY8L0Z49/7YwyMMRBCEELvPQghhBAhBNfaU8quta61jbFTyrbWfO+lFOccjDGtNQghxhgAAFvrttZTyq61EcJ0ztfafO9CCOccrTUQQs45EELvPTFGc05SSowxSikAAFPKMsauteicKqXonK6119qd89/7xhhrLUop7z0IIYQQYwyd89faMsbwvc+5ldLX2jrnAAClFAghay3nHIQQIQS+9xnjttYyxnTOttYZ4zrnQgilFCklay0pJWstSilrLWstay3OOa01rTXnHFvr+N621lPKz7kqpUupEcIZ4zrnW+uEEMYYjDEpJaUUhBCEEAAAGePX2nTO19r43vjeGePf+wAApRSlFCEEIQQhBL73fO865xnjW+ud8773vvdCCGMMYwxjDGMMQghjDEIIQgilFOccay1rLa01ay2lFEIIAABb6xnjMsYRwhHCldKV0tfaOued80IIYwxjDEIIQghCCN/73/t873zvW+t87773nfPf+wAAQghjDAAAvve+99/7nfOd83zvfO/f+9/73/vf+9/7AAAhBL73vve+9wAA3/shBEIIhBDnHCklSilrLa01KSXGGEIIIQSd81vrttZTyjLGldKV0tfa+N5b67733/sAAN/7IQRCCAAAIQQAAAAAQggAACEE3/vf+9/7vvff+53znfNb653znfO+953zvved89/73/sAAL73AADf+9/7AAAAAN/7IQQAACEEYwxjDKUUxhilFMYYhBClFIQQIQQAAL733/u+93zvfO9b6zrnfO9b653zfO++9773nfO+93zvnfOd83zvnfN8753zvvff+9/7AADf+wAA3/sAAN/73/u+9773vved8773vvcAAN/7IQRCCGMMYwxjDGMMQgghBAAAnfO+93zvnfOd87733/sAAEIIQgiEEIQQpRTGGKUUpRSEEGMMQggAAL73nfNb61vrGeMZ4xnjGeM65zrnW+tb653znfO+953zvved8773vved89/7vvff+9/7IQRCCGMMYwxCCGMMQgghBCEE3/vf+7733/u+99/7vvcAAN/7AADf+wAAAADf+wAA3/vf+wAAAAAhBCEEQghCCGMMQghjDEIIYwwhBAAA3/ud853zW+t871vrOud871vrfO9871vrnfN8753znfO+97733/u+99/7AADf+wAAAADf+wAAIQQAACEEIQQhBCEEIQQhBN/7IQQAACEE3/sAAAAAAAAhBN/7AADf+wAAAAC+99/73/u+99/7vvff+7733/u+99/7AADf+wAAIQQAACEEAAAhBAAAAAAAAN/7AADf+53zvved853znfO+953zvved89/7vvff+7733/u+99/7vvff+7733/vf+wAA3/sAAAAAIQQAACEEIQQhBAAA3/sAAN/7AADf+9/7vvff+7733/vf+7733/u+99/7vvff+7733/vf+7733/u+99/7AADf+wAAIQQAACEEAAAhBCEEQggAACEEAAAAAN/73/u+9773vved8773fO+d853zvved89/7vvff+7733/vf+9/7vvff+9/7vvff+773AADf+wAAAAAAAN/7AADf+wAAAADf+wAA3/sAAN/73/vf+7733/vf+7733/u+99/73/u+99/7vvff+9/73/shBAAAQgghBGMMQghjDEIIYwxCCCEE3/sAAL73vved853znfOd83zvW+ud83zvnfOd8773vvff+7733/u+99/7vvff+wAAvvcAAN/7AADf+wAAAAAhBAAAAAAAAAAAIQTf+wAA3/u+99/73/ud8773nfPf+9/7vvff+9/7AADf+yEEAABCCEIIhBCEEGMMpRSEEIQQhBAhBN/7nfO+91vrW+s65zrnOudb61vrW+ud853z3/vf+9/7vvcAAN/73/u+953zvve+99/7vvff+9/7AAAhBCEEAAAhBCEEAAAAAN/7vvff+773vved89/7vvff+7733/vf+wAA3/sAAN/7IQQhBCEEQghCCIQQxhjGGMYY5xznHOccQgid81vrGeMZ47bWdM621vjefO9b653z3/sAAEIIIQQAAN/7AADf+773W+t871vrnfO+953z3/sAAEIIQghCCCEEQgghBCEE3/ud83zvvve+9773nfO+9wAAAAAAAN/73/sAAN/73/u+9wAAAABCCEIIpRSlFCklKSVKKWstSikpJb73GePX2nTOldLPufC9dM5b653zvvff+0IIxhilFGMM3/sAAN/7nfMZ4/jeGeN8753znfPf+yEEYwylFIQQYwxCCGMMIQQAAJ3znfOd83zvW+t87773vvff+9/7AAAhBN/73/u+97733/vf+wAAIQRjDKUUCCEIIUopay2MMYwxCCG+9/je19p0zjLGjbHwvXTOfO+d853zIQRjDAghhBAhBAAAAADf+zrn+N621jrnOud8753zvvdCCGMMpRSEEKUUhBBCCCEE3/vf+9/7vved89/7vve+953znfOd89/7nfO+953z3/u+9773nfPf+wAAIQSEEIQQCCEIIUopSimMMWstSimEEBnj19qV0lPKEcKutVPK+N6+97733/tCCMYYxhiEECEEvvff+3zvOufX2tfaOudb653znfMAAEIIpRSEEIQQQghjDEIIIQQAAN/7AADf+wAAvve+9773vved853zvved89/7nfO+9773vvff+9/7AAAAAGMMpRTGGKUU5xwIIUopKSXnHOccvvdb6/je19q21jLGU8rX2jrnW+ud853zIQRjDGMMIQQAACEE3/ud81vrGeN871vrfO9877733/shBEIIIQRCCEIIhBBCCGMMIQQhBEIIIQQhBN/73/vf+53znfN8753znfOd853zfO++97733/u+9wAAAAAhBAAAAAAAAGMMQgiEEIQQxhjGGAghxhhjDGMMIQTf+1vrOuc65xnjGePX2vjeGeN873zvnfOd8773AAC+9773vvff+9/73/ud8773vvcAAL733/sAAEIIIQRCCAAAQghjDEIIQghCCCEEQggAAAAA3/vf+53zvved81vrfO9b63zvW+ud853znfPf+9/7QghCCIQQhBDGGMYY5xznHMYYpRRCCCEE3/u+9zrnOuf43hnj+N4Z4xnjW+tb653znfO+9773AAAAAL733/u+99/7nfO+953z3/u+9wAA3/sAAN/7IQQAAEIIIQRjDGMMYwxCCEIIQggAACEE3/vf+53znfNb61vrOudb63zvW+ud853z3/vf+yEEQgghBGMMYwyEEIQQpRSlFMYYpRSlFEIIQggAAL73nfNb6zrnW+sZ4xnjGeM653zvW+ud83zvvve+99/7vvff+7733/u+99/7vvff+7733/vf+wAAAAAhBAAAQghCCGMMYwxCCGMMIQRCCAAAAAC+9773nfN873zvW+t871vrnfN87773nfPf+773AADf+9/7IQQhBGMMQgiEEKUUpRTGGMYYhBBjDEIIIQQAAJ3zfO9b61vrGeMZ4xnjW+tb63zvnfOd87733/u+99/7vvff+7733/u+99/73/u+99/7vvcAAN/7IQQAACEEQghCCGMMQghCCCEEQggAACEE3/vf+9/7vved83zvnfOd83zvnfOd853zvvff+773AADf+yEEAABCCEIIYwyEEGMMpRSEEGMMhBAhBCEEAAC+953zW+t87zrnW+s65zrnW+t871vrnfN877733/vf+9/73/u+99/7vvff+9/7vvff+9/7AAAAACEEIQRCCCEEQgghBEIIIQRCCEIIIQQhBN/73/u+953zvvd8753zfO+d83zvnfO+953z3/u+99/73/sAACEEIQQhBEIIQghjDIQQYwxjDEIIYwxCCAAAAAC+9773nfN873zvfO9b63zvW+t873zvnfOd853zvved89/73/vf+7733/u+99/7vvcAAAAA3/sAAAAAIQQAAEIIIQRCCCEEIQQhBAAAIQTf+wAA3/vf+7733/ud8773vved8773vved8773vvff+9/73/sAAN/7AAAAACEEAABCCCEEQghCCCEEQgghBEIIAAAAAN/73/u+9773nfN8753znfN8753zfO+d83zvvved87733/u+99/7vvff+7733/u+9wAAAAAAAAAAAAAAACEEAAAhBAAAIQQhBCEEIQQAAAAA3/sAAAAAvvff+7733/vf+53zvved89/73/u+99/73/vf+wAAAADf+wAA3/sAAAAAIQQAACEEAABCCEIIAAAhBAAAIQQAAL733/u+9773nfO+93zvnfN8753zfO+d853znfO+953z3/vf+7733/sAAN/7AAAAAAAAAAAAAAAA3/sAAN/7AADf+wAA3/sAAN/7AADf+wAA3/sAAN/73/sAAL733/u+99/7vvff+7733/u+99/73/vf+wAAAAAAAAAA3/sAAN/7AADf+wAAAAAAACEEIQTf+wAA3/sAAAAA3/vf+9/7vve+953zvve+953zvved8773vve+99/7vvff+7733/vf+wAA3/sAAN/7AAAAAN/7AADf+wAAvvff+7733/u+9wAA3/sAAAAA3/sAAN/7AADf+wAA3/sAAN/7AAAAAN/7AADf+wAA3/sAAN/7AAAAAN/7AAAAACEEAAAhBAAAIQTf+wAA3/sAAL733/u+99/7vve+953zvve+953zvved89/73/vf+7733/u+99/7vvff+7733/u+99/7vve+99/73/sAAN/7AADf+wAAAADf+wAAAADf+wAA3/sAAN/7AAAAAN/7AAAAAN/7AADf+wAAAAAAAN/7IQQAACEEAAAhBAAAAAAAAAAAvvff+773vved8773vved853zfO++953zvved8773vvff+7733/u+99/73/sAAN/7AAAAAN/7AAAAAAAA3/sAAN/73/sAAAAAIQQAACEEAAAhBCEE3/sAAN/7AAAAAAAAvvff+7733/vf+9/73/vf+773AAAAAN/7AADf+wAAAADf+773AAC+99/7vvff+7733/u+99/7vvff+7733/u+99/7vvff+7733/u+99/73/vf+9/7vvff+7733/u+99/73/sAAN/7AAAAAAAAAAAAAAAA3/sAAAAAIQQAAN/7IQQAAAAA3/sAAN/7AADf+wAA3/sAAN/7AADf+wAA3/vf+7733/vf+53zvved8773nfO+953zvved8773vvff+7733/u+99/73/vf+9/7AAC+9wAA3/sAAN/7AAAAAN/7AADf+wAAAADf+9/7AAAAACEE3/sAAN/7AAAAAN/7AADf+wAA3/sAAAAA3/sAAN/73/sAAN/7AAAAAN/7AADf+9/7vvff+9/7vvff+53zvve+9773vvff+9/73/vf+7733/u+99/73/u+99/7vvff+9/73/vf+wAA3/sAAN/7AADf+wAAAADf+wAA3/sAAN/73/sAAN/7AAAAAN/7AADf+wAAAADf+wAA3/sAAN/7AAAAAN/7AADf+wAAvvff+7733/u+99/73/ud8773vved8773nfO+99/7vvff+7733/vf+7733/u+9wAA3/sAAN/7AADf+wAAAAAAAN/7AAAAAN/7AADf+wAA3/sAAAAA3/sAAAAAAADf+wAAAADf+wAA3/sAAN/7vvff+7733/vf+9/73/vf+7733/vf+9/73/u+99/73/vf+9/7vvff+7733/u+99/73/u+9wAA3/sAAAAA3/sAAN/7AADf+wAA3/sAAAAA3/sAAN/7AADf+wAA3/sAAAAA3/sAAN/7AAAAAAAAAAAAAAAAAAAAAN/73/u+99/7vvff+7733/u+99/73/vf+9/73/vf+9/7vvff+7733/u+99/7vvff+9/7vvff+7733/sAAAAA3/sAAN/7AADf+wAA3/sAAN/7AAAAAN/7AADf+wAAAADf+wAAAADf+wAA3/sAAN/73/u+99/7vvff+7733/u+99/7vvff+9/7vvff+773vvff+7733/u+99/7vvff+7733/u+99/7vvff+9/7vvff+773AAAAAA==\" type=\"audio/wav\" />\n",
              "                    Your browser does not support the audio element.\n",
              "                </audio>\n",
              "              "
            ]
          },
          "metadata": {}
        },
        {
          "output_type": "display_data",
          "data": {
            "text/plain": [
              "<Figure size 720x288 with 2 Axes>"
            ],
            "image/png": "[encoded data removed]"
          },
          "metadata": {
            "needs_background": "light"
          }
        },
        {
          "output_type": "display_data",
          "data": {
            "text/plain": [
              "<Figure size 720x288 with 2 Axes>"
            ],
            "image/png": "[encoded data removed]"
          },
          "metadata": {
            "needs_background": "light"
          }
        },
        {
          "output_type": "display_data",
          "data": {
            "text/plain": [
              "<Figure size 720x288 with 2 Axes>"
            ],
            "image/png": "[encoded data removed]"
          },
          "metadata": {
            "needs_background": "light"
          }
        },
        {
          "output_type": "display_data",
          "data": {
            "text/plain": [
              "<Figure size 720x288 with 2 Axes>"
            ],
            "image/png": "[encoded data removed]"
          },
          "metadata": {
            "needs_background": "light"
          }
        },
        {
          "output_type": "display_data",
          "data": {
            "text/plain": [
              "<Figure size 720x288 with 2 Axes>"
            ],
            "image/png": "[encoded data removed]"
          },
          "metadata": {
            "needs_background": "light"
          }
        }
      ]
    },
    {
      "cell_type": "code",
      "source": [],
      "metadata": {
        "id": "qZ2whLDL9RqF"
      },
      "execution_count": null,
      "outputs": []
    }
  ]
}