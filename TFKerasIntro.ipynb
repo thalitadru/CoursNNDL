{
 "cells": [
  {
   "cell_type": "markdown",
   "id": "9254168e-5200-4b35-9282-ae682c7f746f",
   "metadata": {},
   "source": [
    "# Intro TensorFlow avec tf.keras\n",
    "\n",
    "[![Open In Colab](https://colab.research.google.com/assets/colab-badge.svg)](https://colab.research.google.com/github/thalitadruCoursNNDL/blob/master/TFKerasIntro.ipynb)\n",
    "\n",
    "tf.keras est l'API haut-niveau par défaut de Tensorflow. Pour la plupart des projets, elle sera souvent suffisante pour exprimer vos modèles, avec l'avantage d'éliminer pas mal de code répétitif \"boiler-plate\" avec pas mal d'abstractions sur les solveurs d'optimisation (`optimisers`) et sur boucles d'entraînement et validation (`model.fit()` et `model.evaluate()`).\n",
    "Il s'agit en plus d'une API bien documentée et réputée pour sa facilité de prise en main."
   ]
  },
  {
   "cell_type": "code",
   "execution_count": 1,
   "id": "d1f94240-c477-4b43-af68-6ca74e3cec09",
   "metadata": {},
   "outputs": [],
   "source": [
    "import matplotlib.pyplot as plt\n",
    "import numpy as np\n",
    "import tensorflow as tf\n",
    "import tensorflow.keras as keras\n",
    "from tensorflow.keras import layers, losses, optimizers\n",
    "\n",
    "SEED = 0\n",
    "np.random.seed(SEED)\n",
    "rng = np.random.RandomState(SEED)\n",
    "tf.random.get_global_generator().reset_from_seed(SEED)\n",
    "tfseed = tf.random.get_global_generator().reset_from_seed"
   ]
  },
  {
   "cell_type": "markdown",
   "id": "9a96984e-fe95-4dd8-ae13-3415d061a3f3",
   "metadata": {
    "tags": []
   },
   "source": [
    "## Modèle `Sequential `\n",
    "\n",
    "Avec `tf.keras.Sequential` on peut construire des modèles par empilement de couches (`layers`). Elle est adapté à tout modèle qui reçoit un seul tenseur en entrée et renvoie un unique tenseur en sortie."
   ]
  },
  {
   "cell_type": "code",
   "execution_count": 2,
   "id": "c8cb48ca-42a7-4441-83df-9c27c2b06aca",
   "metadata": {
    "tags": []
   },
   "outputs": [
    {
     "data": {
      "text/plain": [
       "<tensorflow.python.keras.engine.sequential.Sequential at 0x7fc1a00c6070>"
      ]
     },
     "execution_count": 2,
     "metadata": {},
     "output_type": "execute_result"
    }
   ],
   "source": [
    "# Define Sequential model with 3 layers\n",
    "model = keras.Sequential(\n",
    "    [\n",
    "        layers.Input(shape=(8,)),\n",
    "        keras.layers.Dense(\n",
    "            units=4,\n",
    "            activation=\"relu\",\n",
    "            name=\"layer1\",\n",
    "        ),\n",
    "        keras.layers.Dense(\n",
    "            3,\n",
    "            activation=\"relu\",\n",
    "            name=\"layer2\",\n",
    "        ),\n",
    "        keras.layers.Dense(\n",
    "            1,\n",
    "            name=\"layer3\",\n",
    "        ),\n",
    "    ]\n",
    ")\n",
    "model"
   ]
  },
  {
   "cell_type": "code",
   "execution_count": 3,
   "id": "e1fa5951-c628-492b-b9bf-d759bafe9b4a",
   "metadata": {
    "tags": []
   },
   "outputs": [
    {
     "name": "stdout",
     "output_type": "stream",
     "text": [
      "Model: \"sequential\"\n",
      "_________________________________________________________________\n",
      "Layer (type)                 Output Shape              Param #   \n",
      "=================================================================\n",
      "layer1 (Dense)               (None, 4)                 36        \n",
      "_________________________________________________________________\n",
      "layer2 (Dense)               (None, 3)                 15        \n",
      "_________________________________________________________________\n",
      "layer3 (Dense)               (None, 1)                 4         \n",
      "=================================================================\n",
      "Total params: 55\n",
      "Trainable params: 55\n",
      "Non-trainable params: 0\n",
      "_________________________________________________________________\n"
     ]
    }
   ],
   "source": [
    "model.summary()"
   ]
  },
  {
   "cell_type": "code",
   "execution_count": 4,
   "id": "a66b3101-6865-4ef1-b525-813811488cd8",
   "metadata": {},
   "outputs": [
    {
     "data": {
      "image/png": "[encoded data removed]",
      "text/plain": [
       "<PIL.Image.Image image mode=RGBA size=107x63 at 0x7FC1980A4C70>"
      ]
     },
     "execution_count": 4,
     "metadata": {},
     "output_type": "execute_result"
    }
   ],
   "source": [
    "import visualkeras as vk\n",
    "\n",
    "vk.layered_view(model, legend=True)"
   ]
  },
  {
   "cell_type": "code",
   "execution_count": 5,
   "id": "5f72cdfb-32c1-466b-a287-119e4fb7fe0e",
   "metadata": {},
   "outputs": [
    {
     "data": {
      "image/png": "[encoded data removed]",
      "text/plain": [
       "<IPython.core.display.Image object>"
      ]
     },
     "execution_count": 5,
     "metadata": {},
     "output_type": "execute_result"
    }
   ],
   "source": [
    "keras.utils.plot_model(model)"
   ]
  },
  {
   "cell_type": "code",
   "execution_count": 6,
   "id": "2b009bcf-19c5-4c9c-8c24-09332f8affe5",
   "metadata": {},
   "outputs": [
    {
     "data": {
      "text/plain": [
       "<tf.Tensor: shape=(2, 8), dtype=int32, numpy=\n",
       "array([[ 0,  1,  2,  3,  4,  5,  6,  7],\n",
       "       [ 8,  9, 10, 11, 12, 13, 14, 15]], dtype=int32)>"
      ]
     },
     "execution_count": 6,
     "metadata": {},
     "output_type": "execute_result"
    }
   ],
   "source": [
    "x = tf.reshape(tf.range(0, 16), shape=(2, -1))\n",
    "x"
   ]
  },
  {
   "cell_type": "code",
   "execution_count": 7,
   "id": "f5a37ce4-078b-4c38-bdea-3d81969a960e",
   "metadata": {
    "tags": []
   },
   "outputs": [
    {
     "data": {
      "text/plain": [
       "<tf.Tensor: shape=(2, 1), dtype=float32, numpy=\n",
       "array([[ 2.5849366 ],\n",
       "       [-0.45303398]], dtype=float32)>"
      ]
     },
     "execution_count": 7,
     "metadata": {},
     "output_type": "execute_result"
    }
   ],
   "source": [
    "y = model(x)\n",
    "y"
   ]
  },
  {
   "cell_type": "markdown",
   "id": "e0a03ba3-6aa8-4c66-ab8b-8f59031abf4c",
   "metadata": {},
   "source": [
    "Un modèle `Sequential` n'est pas approprié si:\n",
    "\n",
    "- Votre modèle (ou une de ses couches) a plusieurs entrées et ou sorties\n",
    "- Vous désirez partager des poids entre des couches (_layer sharing_)\n",
    "- Vous souhaitez une topologie non-linéaire (connections qui sautent des couches comme dans les ResNets ou chemins parallèles comme dans les Inception)\n",
    "\n",
    "Vous devez alors faire appel à l'API fonctionnelle."
   ]
  },
  {
   "cell_type": "markdown",
   "id": "9ae271bd-d158-446a-adcf-9d28f171dc28",
   "metadata": {},
   "source": [
    "### Parenthese: Controle de l'initialization\n",
    "Afin de pouvoir réproduire les mêmes résultats, je redéclare le modèle ici en precisant la seed et le mode d'initialisation utilisé pour chaque couche."
   ]
  },
  {
   "cell_type": "code",
   "execution_count": 8,
   "id": "33ff111a-fad1-41e9-a9d9-48e0b5894fc5",
   "metadata": {
    "tags": []
   },
   "outputs": [
    {
     "data": {
      "text/plain": [
       "<tensorflow.python.keras.engine.sequential.Sequential at 0x7fc1f9fcad60>"
      ]
     },
     "execution_count": 8,
     "metadata": {},
     "output_type": "execute_result"
    }
   ],
   "source": [
    "# Define Sequential model with 3 layers\n",
    "model = keras.Sequential(\n",
    "    [\n",
    "        layers.Input(shape=(8,)),\n",
    "        layers.BatchNormalization(),\n",
    "        keras.layers.Dense(\n",
    "            units=4,\n",
    "            activation=\"relu\",\n",
    "            kernel_initializer=tf.keras.initializers.GlorotNormal(seed=SEED),\n",
    "            name=\"layer1\",\n",
    "        ),\n",
    "        keras.layers.Dense(\n",
    "            3,\n",
    "            activation=\"relu\",\n",
    "            kernel_initializer=tf.keras.initializers.GlorotNormal(seed=SEED),\n",
    "            name=\"layer2\",\n",
    "        ),\n",
    "        keras.layers.Dense(\n",
    "            1,\n",
    "            kernel_initializer=tf.keras.initializers.GlorotNormal(seed=SEED),\n",
    "            name=\"layer3\",\n",
    "        ),\n",
    "    ]\n",
    ")\n",
    "model"
   ]
  },
  {
   "cell_type": "markdown",
   "id": "ee3f0922-efbc-4ba2-b63e-78ed425cecf8",
   "metadata": {},
   "source": [
    "## Avant l'entrainement: `compile`\n",
    "\n",
    "Avant pouvoir appeler `fit`, il faut effectuer l'étape `compile`.\n",
    "Pour cela on doit choisir une fonction de cout `loss`\n",
    "\n",
    "De plus, on peut aussi choisir:\n",
    "- `optimizer`: un algorithme de descente du gradient: SGD, Adam, RMSprop, etc., et son taux d'apprentissage `learning_rate`\n",
    "- `metrics`: des métriques additionnelles à calculer\n",
    "\n",
    "Si on n'informe rien, des valeurs par défaut seront utilisées."
   ]
  },
  {
   "cell_type": "code",
   "execution_count": 9,
   "id": "8d90a1e0-c525-43aa-9d71-9783c583b4a8",
   "metadata": {},
   "outputs": [],
   "source": [
    "model.compile(\n",
    "    optimizer=optimizers.Adagrad(learning_rate=0.001),\n",
    "    loss=tf.keras.losses.MeanSquaredError(),\n",
    ")"
   ]
  },
  {
   "cell_type": "markdown",
   "id": "206d69b3-6b5e-41e5-95f6-8f74754d354b",
   "metadata": {},
   "source": [
    "## Fit"
   ]
  },
  {
   "cell_type": "markdown",
   "id": "17e0e686-c584-40d9-98f2-a43ef893ddd9",
   "metadata": {},
   "source": [
    "### Exemple : NN sur California Housing data\n",
    " Le modèle qu'on vient de crèer :\n",
    " - prends 8 attributs en entrée\n",
    " - renvoi une valuer réele en sortie\n",
    " \n",
    "Il correspond aux dimensions du dataset CaliforniaHousing que vous avez utilisé lors du TD précédent.\n",
    "Chargez ce dataset ici et entraînez ce modèle à l'aide de sa méthode `fit`.\n",
    "Donnez en entrée :\n",
    "- les données `X`,\n",
    "- les targets `y`,\n",
    "- un nombre d'époques `epochs`,\n",
    "- et choisissez une fraction des données pour le `validation_split`.\n"
   ]
  },
  {
   "cell_type": "code",
   "execution_count": 10,
   "id": "48f7439d-344a-41a0-bead-ee7c9683bb53",
   "metadata": {},
   "outputs": [],
   "source": [
    "from sklearn.datasets import fetch_california_housing\n",
    "from sklearn.model_selection import train_test_split"
   ]
  },
  {
   "cell_type": "code",
   "execution_count": 11,
   "id": "93840461-4598-490e-b949-c7090eb2141d",
   "metadata": {},
   "outputs": [],
   "source": [
    "# chargez le dataset ici\n",
    "# fetch_california_housing\n",
    "d = fetch_california_housing()\n",
    "X, y = d.data, d.target\n",
    "X_train, X_test, y_train, y_test = train_test_split(X, y, random_state=rng)"
   ]
  },
  {
   "cell_type": "code",
   "execution_count": 12,
   "id": "32c6ccc1-bca3-4553-b17a-88f4ecd0ed0a",
   "metadata": {},
   "outputs": [
    {
     "name": "stdout",
     "output_type": "stream",
     "text": [
      "Epoch 1/5\n",
      "13932/13932 [==============================] - 9s 659us/step - loss: 5.3027 - val_loss: 59765804.0000\n",
      "Epoch 2/5\n",
      "13932/13932 [==============================] - 9s 656us/step - loss: 4.8300 - val_loss: 63357392.0000\n",
      "Epoch 3/5\n",
      "13932/13932 [==============================] - 9s 648us/step - loss: 4.5319 - val_loss: 77080832.0000\n",
      "Epoch 4/5\n",
      "13932/13932 [==============================] - 10s 682us/step - loss: 4.3987 - val_loss: 64142624.0000\n",
      "Epoch 5/5\n",
      "13932/13932 [==============================] - 8s 600us/step - loss: 4.1085 - val_loss: 70874048.0000\n"
     ]
    }
   ],
   "source": [
    "## completez l'appel a fit\n",
    "out = model.fit(\n",
    "    X_train,\n",
    "    y=y_train,\n",
    "    epochs=5,\n",
    "    batch_size=1,\n",
    "    validation_split=0.1,\n",
    ")"
   ]
  },
  {
   "cell_type": "code",
   "execution_count": 13,
   "id": "4154e1a9-34cb-4453-a306-1e97c8fd1016",
   "metadata": {},
   "outputs": [],
   "source": [
    "# ??model1.fit"
   ]
  },
  {
   "cell_type": "markdown",
   "id": "28831519-9614-41c4-867d-d4ae75747609",
   "metadata": {},
   "source": [
    "### `History` de l'entraînement\n",
    "\n",
    "L'appel de `fit` renvoie une structure contenant les valeurs des métriques au cours de l'entraînement."
   ]
  },
  {
   "cell_type": "code",
   "execution_count": 14,
   "id": "328b3694-1c9f-4037-9bce-b045585bdbc7",
   "metadata": {},
   "outputs": [
    {
     "data": {
      "text/plain": [
       "dict_keys(['loss', 'val_loss'])"
      ]
     },
     "execution_count": 14,
     "metadata": {},
     "output_type": "execute_result"
    }
   ],
   "source": [
    "out.history.keys()"
   ]
  },
  {
   "cell_type": "code",
   "execution_count": 15,
   "id": "a764036c-f9a7-4293-ab1d-58d4217c255d",
   "metadata": {},
   "outputs": [
    {
     "data": {
      "text/plain": [
       "[5.112608909606934, 4.70013427734375, 4.451781272888184, 4.2615156173706055]"
      ]
     },
     "execution_count": 15,
     "metadata": {},
     "output_type": "execute_result"
    }
   ],
   "source": [
    "out.history[\"loss\"][-5:-1]"
   ]
  },
  {
   "cell_type": "code",
   "execution_count": 16,
   "id": "cfae108b-fbfe-41b1-b64a-656232ff7268",
   "metadata": {},
   "outputs": [
    {
     "data": {
      "text/plain": [
       "[59765804.0, 63357392.0, 77080832.0, 64142624.0]"
      ]
     },
     "execution_count": 16,
     "metadata": {},
     "output_type": "execute_result"
    }
   ],
   "source": [
    "out.history[\"val_loss\"][-5:-1]"
   ]
  },
  {
   "cell_type": "code",
   "execution_count": 17,
   "id": "3db8dec6-45e8-4d1a-a203-4ab506470808",
   "metadata": {},
   "outputs": [
    {
     "data": {
      "text/plain": [
       "<bound method Model.fit of <tensorflow.python.keras.engine.sequential.Sequential object at 0x7fc1f9fcad60>>"
      ]
     },
     "execution_count": 17,
     "metadata": {},
     "output_type": "execute_result"
    }
   ],
   "source": [
    "model.fit"
   ]
  },
  {
   "cell_type": "markdown",
   "id": "b23a37ed-52e8-4e68-9d3a-af7767532982",
   "metadata": {},
   "source": [
    "## Evaluate\n",
    "Regardons le score de notre modèle sur l'ensemble complet d'entraînement et sur celui de test"
   ]
  },
  {
   "cell_type": "code",
   "execution_count": 18,
   "id": "463ec04b-0cc3-48ce-9304-4e1b1819b0dd",
   "metadata": {
    "tags": []
   },
   "outputs": [
    {
     "name": "stdout",
     "output_type": "stream",
     "text": [
      "484/484 [==============================] - 0s 777us/step - loss: 70537008.0000\n"
     ]
    },
    {
     "data": {
      "text/plain": [
       "70537008.0"
      ]
     },
     "execution_count": 18,
     "metadata": {},
     "output_type": "execute_result"
    }
   ],
   "source": [
    "model.evaluate(X_train, y_train)"
   ]
  },
  {
   "cell_type": "code",
   "execution_count": 19,
   "id": "96961243-f2be-4ac9-adcf-5e59c07effbc",
   "metadata": {
    "tags": []
   },
   "outputs": [
    {
     "name": "stdout",
     "output_type": "stream",
     "text": [
      "162/162 [==============================] - 0s 849us/step - loss: 69710224.0000\n"
     ]
    },
    {
     "data": {
      "text/plain": [
       "69710224.0"
      ]
     },
     "execution_count": 19,
     "metadata": {},
     "output_type": "execute_result"
    }
   ],
   "source": [
    "model.evaluate(X_test, y_test)"
   ]
  },
  {
   "cell_type": "markdown",
   "id": "9092f0ce-6dd2-4ddf-a626-2b74a6ee24aa",
   "metadata": {
    "tags": []
   },
   "source": [
    "## Courbes d'apprentissage"
   ]
  },
  {
   "cell_type": "markdown",
   "id": "4d2cae9e-4190-4775-bbea-7ed1b9d323fa",
   "metadata": {},
   "source": [
    "Ces courbes sauvegardes dans `history` son des courbes d'apprentissage.\n",
    "On peut les afficher dans un graphique ainsi:"
   ]
  },
  {
   "cell_type": "code",
   "execution_count": 20,
   "id": "4fa33054-d375-44aa-808e-1b79bf39e7d7",
   "metadata": {},
   "outputs": [
    {
     "data": {
      "text/plain": [
       "<matplotlib.legend.Legend at 0x7fc1702b8310>"
      ]
     },
     "execution_count": 20,
     "metadata": {},
     "output_type": "execute_result"
    },
    {
     "data": {
      "image/png": "[encoded data removed]",
      "text/plain": [
       "<Figure size 432x288 with 1 Axes>"
      ]
     },
     "metadata": {
      "needs_background": "light"
     },
     "output_type": "display_data"
    }
   ],
   "source": [
    "plt.plot(out.history[\"loss\"][1:], label=\"train\")\n",
    "plt.plot(out.history[\"val_loss\"][1:], label=\"val\")\n",
    "plt.legend()"
   ]
  },
  {
   "cell_type": "markdown",
   "id": "3f3f4268-aa9f-474d-a409-2ea18bd69daa",
   "metadata": {},
   "source": [
    "### Courbes d'apprentissage et early stopping\n",
    "Les courbes d'apprentissage servent a suivre l'entraînement du modèle et voir le moment ou il a donnée le meilleurs score en validation (et donc son meilleur potentiel de généralisation). Meme si l'erreur en validation commence à augmenter en fin d'entrainement, il suffit de sauvegarder des checkpoints du modèle sur le époques ou ce, on peut a la fin reprendre le modèle quand le `val_loss` était le plus bas."
   ]
  },
  {
   "cell_type": "markdown",
   "id": "e0cf3c92-3945-4eec-b45d-586e8a04238f",
   "metadata": {},
   "source": [
    "## Partial fit\n",
    "Sans réinitialiser le modèle, chaque appel à fit continue l'entraînement du réseau pour le nombre d'époques spécifié.\n",
    "Chaque appel réalise donc un fitting partiel."
   ]
  },
  {
   "cell_type": "code",
   "execution_count": 21,
   "id": "932bafa4-32b5-484c-9bae-31561cc2fa7a",
   "metadata": {},
   "outputs": [
    {
     "name": "stdout",
     "output_type": "stream",
     "text": [
      "Epoch 1/10\n",
      "258/258 [==============================] - 0s 1ms/step - loss: 3.6993 - val_loss: 4.5353\n",
      "Epoch 2/10\n",
      "258/258 [==============================] - 0s 1ms/step - loss: 3.4822 - val_loss: 4.3015\n",
      "Epoch 3/10\n",
      "258/258 [==============================] - 0s 1ms/step - loss: 3.2899 - val_loss: 4.0870\n",
      "Epoch 4/10\n",
      "258/258 [==============================] - 0s 1ms/step - loss: 3.1146 - val_loss: 3.8900\n",
      "Epoch 5/10\n",
      "258/258 [==============================] - 0s 1ms/step - loss: 2.9548 - val_loss: 3.7092\n",
      "Epoch 6/10\n",
      "258/258 [==============================] - 0s 1ms/step - loss: 2.8091 - val_loss: 3.5432\n",
      "Epoch 7/10\n",
      "258/258 [==============================] - 0s 1ms/step - loss: 2.6762 - val_loss: 3.3905\n",
      "Epoch 8/10\n",
      "258/258 [==============================] - 0s 1ms/step - loss: 2.5550 - val_loss: 3.2502\n",
      "Epoch 9/10\n",
      "258/258 [==============================] - 0s 1ms/step - loss: 2.4444 - val_loss: 3.1211\n",
      "Epoch 10/10\n",
      "258/258 [==============================] - 0s 1ms/step - loss: 2.3436 - val_loss: 3.0024\n"
     ]
    }
   ],
   "source": [
    "model.optimizer.learning_rate = 0.1\n",
    "out2 = model.fit(\n",
    "    X,\n",
    "    y=y,\n",
    "    epochs=10,\n",
    "    batch_size=64,\n",
    "    validation_split=0.2,\n",
    ")"
   ]
  },
  {
   "cell_type": "code",
   "execution_count": 22,
   "id": "1a83d381-be57-41a4-8e69-f3aabbba026c",
   "metadata": {},
   "outputs": [
    {
     "data": {
      "text/plain": [
       "<matplotlib.legend.Legend at 0x7fc17003fca0>"
      ]
     },
     "execution_count": 22,
     "metadata": {},
     "output_type": "execute_result"
    },
    {
     "data": {
      "image/png": "[encoded data removed]",
      "text/plain": [
       "<Figure size 432x288 with 1 Axes>"
      ]
     },
     "metadata": {
      "needs_background": "light"
     },
     "output_type": "display_data"
    }
   ],
   "source": [
    "plt.plot(out.history[\"loss\"][1:] + out2.history[\"loss\"], label=\"train\")\n",
    "plt.plot(out.history[\"val_loss\"][1:] + out2.history[\"loss\"], label=\"val\")\n",
    "plt.legend()"
   ]
  },
  {
   "cell_type": "code",
   "execution_count": 23,
   "id": "f1127ed9-b15c-4821-ae8d-0a86027fdccc",
   "metadata": {},
   "outputs": [
    {
     "data": {
      "text/plain": [
       "<matplotlib.legend.Legend at 0x7fc1704b75e0>"
      ]
     },
     "execution_count": 23,
     "metadata": {},
     "output_type": "execute_result"
    },
    {
     "data": {
      "image/png": "[encoded data removed]",
      "text/plain": [
       "<Figure size 432x288 with 1 Axes>"
      ]
     },
     "metadata": {
      "needs_background": "light"
     },
     "output_type": "display_data"
    }
   ],
   "source": [
    "plt.plot(out2.history[\"loss\"], label=\"train\")\n",
    "plt.plot(out2.history[\"loss\"], label=\"val\")\n",
    "plt.legend()"
   ]
  },
  {
   "cell_type": "markdown",
   "id": "c91b4150-6b8a-4d8d-8d80-fa658f5f3ddc",
   "metadata": {},
   "source": [
    "### Exercice\n",
    "Évaluez le modèle sur train et test une nouvelle fois. Est-ce que sa généralisation a amélioré?"
   ]
  },
  {
   "cell_type": "markdown",
   "id": "03c9dfb8-9905-4b83-b149-cab635ab41d9",
   "metadata": {},
   "source": [
    "## Callbacks"
   ]
  },
  {
   "cell_type": "code",
   "execution_count": 24,
   "id": "82a0c45c-9fd7-4889-aa64-27e2421de70a",
   "metadata": {},
   "outputs": [
    {
     "data": {
      "text/plain": [
       "\u001b[0;31mInit signature:\u001b[0m\n",
       "\u001b[0mtf\u001b[0m\u001b[0;34m.\u001b[0m\u001b[0mkeras\u001b[0m\u001b[0;34m.\u001b[0m\u001b[0mcallbacks\u001b[0m\u001b[0;34m.\u001b[0m\u001b[0mEarlyStopping\u001b[0m\u001b[0;34m(\u001b[0m\u001b[0;34m\u001b[0m\n",
       "\u001b[0;34m\u001b[0m    \u001b[0mmonitor\u001b[0m\u001b[0;34m=\u001b[0m\u001b[0;34m'val_loss'\u001b[0m\u001b[0;34m,\u001b[0m\u001b[0;34m\u001b[0m\n",
       "\u001b[0;34m\u001b[0m    \u001b[0mmin_delta\u001b[0m\u001b[0;34m=\u001b[0m\u001b[0;36m0\u001b[0m\u001b[0;34m,\u001b[0m\u001b[0;34m\u001b[0m\n",
       "\u001b[0;34m\u001b[0m    \u001b[0mpatience\u001b[0m\u001b[0;34m=\u001b[0m\u001b[0;36m0\u001b[0m\u001b[0;34m,\u001b[0m\u001b[0;34m\u001b[0m\n",
       "\u001b[0;34m\u001b[0m    \u001b[0mverbose\u001b[0m\u001b[0;34m=\u001b[0m\u001b[0;36m0\u001b[0m\u001b[0;34m,\u001b[0m\u001b[0;34m\u001b[0m\n",
       "\u001b[0;34m\u001b[0m    \u001b[0mmode\u001b[0m\u001b[0;34m=\u001b[0m\u001b[0;34m'auto'\u001b[0m\u001b[0;34m,\u001b[0m\u001b[0;34m\u001b[0m\n",
       "\u001b[0;34m\u001b[0m    \u001b[0mbaseline\u001b[0m\u001b[0;34m=\u001b[0m\u001b[0;32mNone\u001b[0m\u001b[0;34m,\u001b[0m\u001b[0;34m\u001b[0m\n",
       "\u001b[0;34m\u001b[0m    \u001b[0mrestore_best_weights\u001b[0m\u001b[0;34m=\u001b[0m\u001b[0;32mFalse\u001b[0m\u001b[0;34m,\u001b[0m\u001b[0;34m\u001b[0m\n",
       "\u001b[0;34m\u001b[0m\u001b[0;34m)\u001b[0m\u001b[0;34m\u001b[0m\u001b[0;34m\u001b[0m\u001b[0m\n",
       "\u001b[0;31mDocstring:\u001b[0m     \n",
       "Stop training when a monitored metric has stopped improving.\n",
       "\n",
       "Assuming the goal of a training is to minimize the loss. With this, the\n",
       "metric to be monitored would be `'loss'`, and mode would be `'min'`. A\n",
       "`model.fit()` training loop will check at end of every epoch whether\n",
       "the loss is no longer decreasing, considering the `min_delta` and\n",
       "`patience` if applicable. Once it's found no longer decreasing,\n",
       "`model.stop_training` is marked True and the training terminates.\n",
       "\n",
       "The quantity to be monitored needs to be available in `logs` dict.\n",
       "To make it so, pass the loss or metrics at `model.compile()`.\n",
       "\n",
       "Arguments:\n",
       "  monitor: Quantity to be monitored.\n",
       "  min_delta: Minimum change in the monitored quantity\n",
       "      to qualify as an improvement, i.e. an absolute\n",
       "      change of less than min_delta, will count as no\n",
       "      improvement.\n",
       "  patience: Number of epochs with no improvement\n",
       "      after which training will be stopped.\n",
       "  verbose: verbosity mode.\n",
       "  mode: One of `{\"auto\", \"min\", \"max\"}`. In `min` mode,\n",
       "      training will stop when the quantity\n",
       "      monitored has stopped decreasing; in `\"max\"`\n",
       "      mode it will stop when the quantity\n",
       "      monitored has stopped increasing; in `\"auto\"`\n",
       "      mode, the direction is automatically inferred\n",
       "      from the name of the monitored quantity.\n",
       "  baseline: Baseline value for the monitored quantity.\n",
       "      Training will stop if the model doesn't show improvement over the\n",
       "      baseline.\n",
       "  restore_best_weights: Whether to restore model weights from\n",
       "      the epoch with the best value of the monitored quantity.\n",
       "      If False, the model weights obtained at the last step of\n",
       "      training are used.\n",
       "\n",
       "Example:\n",
       "\n",
       ">>> callback = tf.keras.callbacks.EarlyStopping(monitor='loss', patience=3)\n",
       ">>> # This callback will stop the training when there is no improvement in\n",
       ">>> # the validation loss for three consecutive epochs.\n",
       ">>> model = tf.keras.models.Sequential([tf.keras.layers.Dense(10)])\n",
       ">>> model.compile(tf.keras.optimizers.SGD(), loss='mse')\n",
       ">>> history = model.fit(np.arange(100).reshape(5, 20), np.zeros(5),\n",
       "...                     epochs=10, batch_size=1, callbacks=[callback],\n",
       "...                     verbose=0)\n",
       ">>> len(history.history['loss'])  # Only 4 epochs are run.\n",
       "4\n",
       "\u001b[0;31mFile:\u001b[0m           /mnt/Data/miniconda3/envs/CoursNNDL/lib/python3.8/site-packages/tensorflow/python/keras/callbacks.py\n",
       "\u001b[0;31mType:\u001b[0m           type\n",
       "\u001b[0;31mSubclasses:\u001b[0m     \n"
      ]
     },
     "metadata": {},
     "output_type": "display_data"
    }
   ],
   "source": [
    "?tf.keras.callbacks.EarlyStopping"
   ]
  },
  {
   "cell_type": "code",
   "execution_count": 25,
   "id": "eda6f375-f03f-42b1-9241-4fb76976516e",
   "metadata": {},
   "outputs": [],
   "source": [
    "early_stop = tf.keras.callbacks.EarlyStopping(\n",
    "    monitor=\"val_loss\",\n",
    "    patience=3,\n",
    "    verbose=1,\n",
    "    mode=\"auto\",\n",
    "    restore_best_weights=True,\n",
    ")"
   ]
  },
  {
   "cell_type": "code",
   "execution_count": 26,
   "id": "c98ed022-719a-4f69-bdaa-57c2af00c6bd",
   "metadata": {},
   "outputs": [
    {
     "data": {
      "text/plain": [
       "\u001b[0;31mInit signature:\u001b[0m\n",
       "\u001b[0mtf\u001b[0m\u001b[0;34m.\u001b[0m\u001b[0mkeras\u001b[0m\u001b[0;34m.\u001b[0m\u001b[0mcallbacks\u001b[0m\u001b[0;34m.\u001b[0m\u001b[0mReduceLROnPlateau\u001b[0m\u001b[0;34m(\u001b[0m\u001b[0;34m\u001b[0m\n",
       "\u001b[0;34m\u001b[0m    \u001b[0mmonitor\u001b[0m\u001b[0;34m=\u001b[0m\u001b[0;34m'val_loss'\u001b[0m\u001b[0;34m,\u001b[0m\u001b[0;34m\u001b[0m\n",
       "\u001b[0;34m\u001b[0m    \u001b[0mfactor\u001b[0m\u001b[0;34m=\u001b[0m\u001b[0;36m0.1\u001b[0m\u001b[0;34m,\u001b[0m\u001b[0;34m\u001b[0m\n",
       "\u001b[0;34m\u001b[0m    \u001b[0mpatience\u001b[0m\u001b[0;34m=\u001b[0m\u001b[0;36m10\u001b[0m\u001b[0;34m,\u001b[0m\u001b[0;34m\u001b[0m\n",
       "\u001b[0;34m\u001b[0m    \u001b[0mverbose\u001b[0m\u001b[0;34m=\u001b[0m\u001b[0;36m0\u001b[0m\u001b[0;34m,\u001b[0m\u001b[0;34m\u001b[0m\n",
       "\u001b[0;34m\u001b[0m    \u001b[0mmode\u001b[0m\u001b[0;34m=\u001b[0m\u001b[0;34m'auto'\u001b[0m\u001b[0;34m,\u001b[0m\u001b[0;34m\u001b[0m\n",
       "\u001b[0;34m\u001b[0m    \u001b[0mmin_delta\u001b[0m\u001b[0;34m=\u001b[0m\u001b[0;36m0.0001\u001b[0m\u001b[0;34m,\u001b[0m\u001b[0;34m\u001b[0m\n",
       "\u001b[0;34m\u001b[0m    \u001b[0mcooldown\u001b[0m\u001b[0;34m=\u001b[0m\u001b[0;36m0\u001b[0m\u001b[0;34m,\u001b[0m\u001b[0;34m\u001b[0m\n",
       "\u001b[0;34m\u001b[0m    \u001b[0mmin_lr\u001b[0m\u001b[0;34m=\u001b[0m\u001b[0;36m0\u001b[0m\u001b[0;34m,\u001b[0m\u001b[0;34m\u001b[0m\n",
       "\u001b[0;34m\u001b[0m    \u001b[0;34m**\u001b[0m\u001b[0mkwargs\u001b[0m\u001b[0;34m,\u001b[0m\u001b[0;34m\u001b[0m\n",
       "\u001b[0;34m\u001b[0m\u001b[0;34m)\u001b[0m\u001b[0;34m\u001b[0m\u001b[0;34m\u001b[0m\u001b[0m\n",
       "\u001b[0;31mDocstring:\u001b[0m     \n",
       "Reduce learning rate when a metric has stopped improving.\n",
       "\n",
       "Models often benefit from reducing the learning rate by a factor\n",
       "of 2-10 once learning stagnates. This callback monitors a\n",
       "quantity and if no improvement is seen for a 'patience' number\n",
       "of epochs, the learning rate is reduced.\n",
       "\n",
       "Example:\n",
       "\n",
       "```python\n",
       "reduce_lr = ReduceLROnPlateau(monitor='val_loss', factor=0.2,\n",
       "                              patience=5, min_lr=0.001)\n",
       "model.fit(X_train, Y_train, callbacks=[reduce_lr])\n",
       "```\n",
       "\n",
       "Arguments:\n",
       "    monitor: quantity to be monitored.\n",
       "    factor: factor by which the learning rate will be reduced.\n",
       "      `new_lr = lr * factor`.\n",
       "    patience: number of epochs with no improvement after which learning rate\n",
       "      will be reduced.\n",
       "    verbose: int. 0: quiet, 1: update messages.\n",
       "    mode: one of `{'auto', 'min', 'max'}`. In `'min'` mode,\n",
       "      the learning rate will be reduced when the\n",
       "      quantity monitored has stopped decreasing; in `'max'` mode it will be\n",
       "      reduced when the quantity monitored has stopped increasing; in `'auto'`\n",
       "      mode, the direction is automatically inferred from the name of the\n",
       "      monitored quantity.\n",
       "    min_delta: threshold for measuring the new optimum, to only focus on\n",
       "      significant changes.\n",
       "    cooldown: number of epochs to wait before resuming normal operation after\n",
       "      lr has been reduced.\n",
       "    min_lr: lower bound on the learning rate.\n",
       "\u001b[0;31mFile:\u001b[0m           /mnt/Data/miniconda3/envs/CoursNNDL/lib/python3.8/site-packages/tensorflow/python/keras/callbacks.py\n",
       "\u001b[0;31mType:\u001b[0m           type\n",
       "\u001b[0;31mSubclasses:\u001b[0m     \n"
      ]
     },
     "metadata": {},
     "output_type": "display_data"
    }
   ],
   "source": [
    "?tf.keras.callbacks.ReduceLROnPlateau"
   ]
  },
  {
   "cell_type": "code",
   "execution_count": 27,
   "id": "628bf99e-9d7b-419d-bac6-b3da68690342",
   "metadata": {},
   "outputs": [],
   "source": [
    "reduce_lr = tf.keras.callbacks.ReduceLROnPlateau(\n",
    "    monitor=\"val_loss\",\n",
    "    factor=0.2,\n",
    "    patience=5,\n",
    "    verbose=1,\n",
    "    mode=\"auto\",\n",
    "    min_delta=0.0001,\n",
    "    cooldown=0,\n",
    "    min_lr=0.001,\n",
    ")"
   ]
  },
  {
   "cell_type": "code",
   "execution_count": 28,
   "id": "612f6306-3a3f-484e-9eae-8f6341c0f96a",
   "metadata": {},
   "outputs": [],
   "source": [
    "nan_stop = tf.keras.callbacks.TerminateOnNaN()"
   ]
  },
  {
   "cell_type": "code",
   "execution_count": 29,
   "id": "aa2e2fa2-ddf6-470d-bff0-d85a06693829",
   "metadata": {},
   "outputs": [],
   "source": [
    "callbacks = [\n",
    "    early_stop,\n",
    "    reduce_lr,\n",
    "    nan_stop,\n",
    "]"
   ]
  },
  {
   "cell_type": "code",
   "execution_count": 30,
   "id": "b83a4fb0-998f-4525-b075-6d0334a66cd2",
   "metadata": {},
   "outputs": [
    {
     "name": "stdout",
     "output_type": "stream",
     "text": [
      "Restoring model weights from the end of the best epoch.\n",
      "Epoch 00028: early stopping\n"
     ]
    }
   ],
   "source": [
    "model.optimizer.learning_rate = 0.5\n",
    "out2 = model.fit(\n",
    "    X,\n",
    "    y=y,\n",
    "    epochs=100,\n",
    "    batch_size=64,\n",
    "    validation_split=0.2,\n",
    "    verbose=0,\n",
    "    callbacks=callbacks,\n",
    ")"
   ]
  },
  {
   "cell_type": "code",
   "execution_count": 31,
   "id": "234d3312-52a3-4f36-b9a2-87424eeab2cc",
   "metadata": {},
   "outputs": [
    {
     "data": {
      "text/plain": [
       "<matplotlib.legend.Legend at 0x7fc161ffbac0>"
      ]
     },
     "execution_count": 31,
     "metadata": {},
     "output_type": "execute_result"
    },
    {
     "data": {
      "image/png": "[encoded data removed]",
      "text/plain": [
       "<Figure size 432x288 with 1 Axes>"
      ]
     },
     "metadata": {
      "needs_background": "light"
     },
     "output_type": "display_data"
    }
   ],
   "source": [
    "plt.plot(out2.history[\"loss\"], label=\"train\")\n",
    "plt.plot(out2.history[\"loss\"], label=\"val\")\n",
    "plt.legend()"
   ]
  },
  {
   "cell_type": "markdown",
   "id": "59369756-0e9f-4ac2-8150-e374fc080845",
   "metadata": {},
   "source": [
    "### Exercice\n",
    "Évaluez le modèle sur train et test une nouvelle fois. Est-ce que sa généralisation a amélioré?"
   ]
  }
 ],
 "metadata": {
  "kernelspec": {
   "display_name": "CoursNNDL",
   "language": "python",
   "name": "coursnndl"
  },
  "language_info": {
   "codemirror_mode": {
    "name": "ipython",
    "version": 3
   },
   "file_extension": ".py",
   "mimetype": "text/x-python",
   "name": "python",
   "nbconvert_exporter": "python",
   "pygments_lexer": "ipython3",
   "version": "3.8.10"
  },
  "toc-autonumbering": true,
  "toc-showmarkdowntxt": false
 },
 "nbformat": 4,
 "nbformat_minor": 5
}
