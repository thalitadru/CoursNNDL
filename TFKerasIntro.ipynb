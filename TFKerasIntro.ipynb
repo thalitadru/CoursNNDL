{
 "cells": [
  {
   "cell_type": "markdown",
   "id": "9254168e-5200-4b35-9282-ae682c7f746f",
   "metadata": {},
   "source": [
    "# Intro TensorFlow avec tf.keras\n",
    "\n",
    "[![Open In Colab](https://colab.research.google.com/assets/colab-badge.svg)](https://colab.research.google.com/github/thalitadru/CoursNNDL/blob/master/TFKerasIntro.ipynb)\n",
    "\n",
    "tf.keras est l'API haut-niveau par défaut de Tensorflow. Pour la plupart des projets, elle sera souvent suffisante pour exprimer vos modèles, avec l'avantage d'éliminer pas mal de code répétitif \"boiler-plate\" avec pas mal d'abstractions sur les solveurs d'optimisation (`optimisers`) et sur boucles d'entraînement et validation (`model.fit()` et `model.evaluate()`).\n",
    "Il s'agit en plus d'une API bien documentée et réputée pour sa facilité de prise en main."
   ]
  },
  {
   "cell_type": "code",
   "execution_count": null,
   "id": "d1f94240-c477-4b43-af68-6ca74e3cec09",
   "metadata": {},
   "outputs": [],
   "source": [
    "import matplotlib.pyplot as plt\n",
    "import numpy as np\n",
    "import tensorflow as tf\n",
    "import tensorflow.keras as keras\n",
    "from tensorflow.keras import layers, losses, optimizers\n",
    "\n",
    "SEED = 0\n",
    "np.random.seed(SEED)\n",
    "rng = np.random.RandomState(SEED)\n",
    "tf.random.get_global_generator().reset_from_seed(SEED)\n",
    "tfseed = tf.random.get_global_generator().reset_from_seed"
   ]
  },
  {
   "cell_type": "markdown",
   "id": "9a96984e-fe95-4dd8-ae13-3415d061a3f3",
   "metadata": {
    "tags": []
   },
   "source": [
    "## Modèle `Sequential `\n",
    "\n",
    "Avec `tf.keras.Sequential` on peut construire des modèles par empilement de couches (`layers`). Elle est adapté à tout modèle qui reçoit un seul tenseur en entrée et renvoie un unique tenseur en sortie."
   ]
  },
  {
   "cell_type": "code",
   "execution_count": null,
   "id": "c8cb48ca-42a7-4441-83df-9c27c2b06aca",
   "metadata": {
    "tags": []
   },
   "outputs": [],
   "source": [
    "# Define Sequential model with 3 layers\n",
    "model = keras.Sequential(\n",
    "    [\n",
    "        layers.Input(shape=(8,)),\n",
    "        keras.layers.Dense(\n",
    "            units=4,\n",
    "            activation=\"relu\",\n",
    "            name=\"layer1\",\n",
    "        ),\n",
    "        keras.layers.Dense(\n",
    "            3,\n",
    "            activation=\"relu\",\n",
    "            name=\"layer2\",\n",
    "        ),\n",
    "        keras.layers.Dense(\n",
    "            1,\n",
    "            name=\"layer3\",\n",
    "        ),\n",
    "    ]\n",
    ")\n",
    "model"
   ]
  },
  {
   "cell_type": "code",
   "execution_count": null,
   "id": "e1fa5951-c628-492b-b9bf-d759bafe9b4a",
   "metadata": {
    "tags": []
   },
   "outputs": [],
   "source": [
    "model.summary()"
   ]
  },
  {
   "cell_type": "code",
   "execution_count": null,
   "id": "a66b3101-6865-4ef1-b525-813811488cd8",
   "metadata": {},
   "outputs": [],
   "source": [
    "!pip install visualkeras\n",
    "import visualkeras as vk\n",
    "\n",
    "vk.layered_view(model, legend=True)"
   ]
  },
  {
   "cell_type": "code",
   "execution_count": null,
   "id": "5f72cdfb-32c1-466b-a287-119e4fb7fe0e",
   "metadata": {},
   "outputs": [],
   "source": [
    "keras.utils.plot_model(model)"
   ]
  },
  {
   "cell_type": "code",
   "execution_count": null,
   "id": "2b009bcf-19c5-4c9c-8c24-09332f8affe5",
   "metadata": {},
   "outputs": [],
   "source": [
    "x = tf.reshape(tf.range(0, 16), shape=(2, -1))\n",
    "x"
   ]
  },
  {
   "cell_type": "code",
   "execution_count": null,
   "id": "f5a37ce4-078b-4c38-bdea-3d81969a960e",
   "metadata": {
    "tags": []
   },
   "outputs": [],
   "source": [
    "y = model(x)\n",
    "y"
   ]
  },
  {
   "cell_type": "markdown",
   "id": "e0a03ba3-6aa8-4c66-ab8b-8f59031abf4c",
   "metadata": {},
   "source": [
    "Un modèle `Sequential` n'est pas approprié si:\n",
    "\n",
    "- Votre modèle (ou une de ses couches) a plusieurs entrées et ou sorties\n",
    "- Vous désirez partager des poids entre des couches (_layer sharing_)\n",
    "- Vous souhaitez une topologie non-linéaire (connections qui sautent des couches comme dans les ResNets ou chemins parallèles comme dans les Inception)\n",
    "\n",
    "Vous devez alors faire appel à l'API fonctionnelle."
   ]
  },
  {
   "cell_type": "markdown",
   "id": "9ae271bd-d158-446a-adcf-9d28f171dc28",
   "metadata": {},
   "source": [
    "### Parenthese: Controle de l'initialization\n",
    "Afin de pouvoir réproduire les mêmes résultats, je redéclare le modèle ici en precisant la seed et le mode d'initialisation utilisé pour chaque couche."
   ]
  },
  {
   "cell_type": "code",
   "execution_count": null,
   "id": "33ff111a-fad1-41e9-a9d9-48e0b5894fc5",
   "metadata": {
    "tags": []
   },
   "outputs": [],
   "source": [
    "# Define Sequential model with 3 layers\n",
    "model = keras.Sequential(\n",
    "    [\n",
    "        layers.Input(shape=(8,)),\n",
    "        layers.BatchNormalization(),\n",
    "        keras.layers.Dense(\n",
    "            units=4,\n",
    "            activation=\"relu\",\n",
    "            kernel_initializer=tf.keras.initializers.GlorotNormal(seed=SEED),\n",
    "            name=\"layer1\",\n",
    "        ),\n",
    "        keras.layers.Dense(\n",
    "            3,\n",
    "            activation=\"relu\",\n",
    "            kernel_initializer=tf.keras.initializers.GlorotNormal(seed=SEED),\n",
    "            name=\"layer2\",\n",
    "        ),\n",
    "        keras.layers.Dense(\n",
    "            1,\n",
    "            kernel_initializer=tf.keras.initializers.GlorotNormal(seed=SEED),\n",
    "            name=\"layer3\",\n",
    "        ),\n",
    "    ]\n",
    ")\n",
    "model"
   ]
  },
  {
   "cell_type": "markdown",
   "id": "ee3f0922-efbc-4ba2-b63e-78ed425cecf8",
   "metadata": {},
   "source": [
    "## Avant l'entrainement: `compile`\n",
    "\n",
    "Avant pouvoir appeler `fit`, il faut effectuer l'étape `compile`.\n",
    "Pour cela on doit choisir une fonction de cout `loss`\n",
    "\n",
    "De plus, on peut aussi choisir:\n",
    "- `optimizer`: un algorithme de descente du gradient: SGD, Adam, RMSprop, etc., et son taux d'apprentissage `learning_rate`\n",
    "- `metrics`: des métriques additionnelles à calculer\n",
    "\n",
    "Si on n'informe rien, des valeurs par défaut seront utilisées."
   ]
  },
  {
   "cell_type": "code",
   "execution_count": null,
   "id": "8d90a1e0-c525-43aa-9d71-9783c583b4a8",
   "metadata": {},
   "outputs": [],
   "source": [
    "model.compile(\n",
    "    optimizer=optimizers.Adagrad(learning_rate=0.001),\n",
    "    loss=tf.keras.losses.MeanSquaredError(),\n",
    ")\n",
    "model.save_weights(\"init.h5\")"
   ]
  },
  {
   "cell_type": "markdown",
   "id": "206d69b3-6b5e-41e5-95f6-8f74754d354b",
   "metadata": {},
   "source": [
    "## Fit"
   ]
  },
  {
   "cell_type": "markdown",
   "id": "17e0e686-c584-40d9-98f2-a43ef893ddd9",
   "metadata": {},
   "source": [
    "### Exemple : NN sur California Housing data\n",
    " Le modèle qu'on vient de crèer :\n",
    " - prends 8 attributs en entrée\n",
    " - renvoi une valuer réele en sortie\n",
    " \n",
    "Il correspond aux dimensions du dataset CaliforniaHousing que vous avez utilisé lors du TD précédent.\n",
    "Chargez ce dataset ici et entraînez ce modèle à l'aide de sa méthode `fit`.\n",
    "Donnez en entrée :\n",
    "- les données `X`,\n",
    "- les targets `y`,\n",
    "- un nombre d'époques `epochs`,\n",
    "- et choisissez une fraction des données pour le `validation_split`.\n"
   ]
  },
  {
   "cell_type": "code",
   "execution_count": null,
   "id": "48f7439d-344a-41a0-bead-ee7c9683bb53",
   "metadata": {},
   "outputs": [],
   "source": [
    "from sklearn.datasets import fetch_california_housing\n",
    "from sklearn.model_selection import train_test_split"
   ]
  },
  {
   "cell_type": "code",
   "execution_count": null,
   "id": "93840461-4598-490e-b949-c7090eb2141d",
   "metadata": {},
   "outputs": [],
   "source": [
    "# chargez le dataset ici\n",
    "# fetch_california_housing\n",
    "d = fetch_california_housing()\n",
    "X, y = d.data, d.target\n",
    "X_train, X_test, y_train, y_test = train_test_split(X, y, random_state=rng)"
   ]
  },
  {
   "cell_type": "code",
   "execution_count": null,
   "id": "32c6ccc1-bca3-4553-b17a-88f4ecd0ed0a",
   "metadata": {},
   "outputs": [],
   "source": [
    "model.load_weights(\"init.h5\")\n",
    "## completez l'appel a fit\n",
    "out = model.fit(\n",
    "    X_train,\n",
    "    y=y_train,\n",
    "    epochs=5,\n",
    "    batch_size=1,\n",
    "    validation_split=0.1,\n",
    ")"
   ]
  },
  {
   "cell_type": "code",
   "execution_count": null,
   "id": "4154e1a9-34cb-4453-a306-1e97c8fd1016",
   "metadata": {},
   "outputs": [],
   "source": [
    "# ??model1.fit"
   ]
  },
  {
   "cell_type": "markdown",
   "id": "e0cf3c92-3945-4eec-b45d-586e8a04238f",
   "metadata": {},
   "source": [
    "### Partial fit\n",
    "Sans réinitialiser le modèle, chaque appel à fit continue l'entraînement du réseau pour le nombre d'époques spécifié.\n",
    "Chaque appel réalise donc un fitting partiel."
   ]
  },
  {
   "cell_type": "code",
   "execution_count": null,
   "id": "932bafa4-32b5-484c-9bae-31561cc2fa7a",
   "metadata": {},
   "outputs": [],
   "source": [
    "model.optimizer.learning_rate = 0.1\n",
    "out2 = model.fit(\n",
    "    X,\n",
    "    y=y,\n",
    "    epochs=10,\n",
    "    batch_size=64,\n",
    "    validation_split=0.2,\n",
    ")"
   ]
  },
  {
   "cell_type": "markdown",
   "id": "b23a37ed-52e8-4e68-9d3a-af7767532982",
   "metadata": {},
   "source": [
    "## Evaluate\n",
    "Regardons le score de notre modèle sur l'ensemble complet d'entraînement et sur celui de test"
   ]
  },
  {
   "cell_type": "code",
   "execution_count": null,
   "id": "463ec04b-0cc3-48ce-9304-4e1b1819b0dd",
   "metadata": {
    "tags": []
   },
   "outputs": [],
   "source": [
    "model.evaluate(X_train, y_train)"
   ]
  },
  {
   "cell_type": "code",
   "execution_count": null,
   "id": "96961243-f2be-4ac9-adcf-5e59c07effbc",
   "metadata": {
    "tags": []
   },
   "outputs": [],
   "source": [
    "model.evaluate(X_test, y_test)"
   ]
  },
  {
   "cell_type": "markdown",
   "id": "9092f0ce-6dd2-4ddf-a626-2b74a6ee24aa",
   "metadata": {
    "tags": []
   },
   "source": [
    "## Courbes d'apprentissage"
   ]
  },
  {
   "cell_type": "markdown",
   "id": "28831519-9614-41c4-867d-d4ae75747609",
   "metadata": {},
   "source": [
    "### `History` de l'entraînement\n",
    "\n",
    "L'appel de `fit` renvoie une structure contenant les valeurs des métriques au cours de l'entraînement."
   ]
  },
  {
   "cell_type": "code",
   "execution_count": null,
   "id": "328b3694-1c9f-4037-9bce-b045585bdbc7",
   "metadata": {},
   "outputs": [],
   "source": [
    "out.history.keys()"
   ]
  },
  {
   "cell_type": "code",
   "execution_count": null,
   "id": "a764036c-f9a7-4293-ab1d-58d4217c255d",
   "metadata": {},
   "outputs": [],
   "source": [
    "out.history[\"loss\"][-5:-1]"
   ]
  },
  {
   "cell_type": "code",
   "execution_count": null,
   "id": "cfae108b-fbfe-41b1-b64a-656232ff7268",
   "metadata": {},
   "outputs": [],
   "source": [
    "out.history[\"val_loss\"][-5:-1]"
   ]
  },
  {
   "cell_type": "code",
   "execution_count": null,
   "id": "3db8dec6-45e8-4d1a-a203-4ab506470808",
   "metadata": {},
   "outputs": [],
   "source": [
    "model.fit"
   ]
  },
  {
   "cell_type": "markdown",
   "id": "4d2cae9e-4190-4775-bbea-7ed1b9d323fa",
   "metadata": {},
   "source": [
    "Ces courbes sauvegardes dans `history` son des courbes d'apprentissage.\n",
    "On peut les afficher dans un graphique ainsi:"
   ]
  },
  {
   "cell_type": "code",
   "execution_count": null,
   "id": "4fa33054-d375-44aa-808e-1b79bf39e7d7",
   "metadata": {},
   "outputs": [],
   "source": [
    "plt.plot(out.history[\"loss\"][1:], label=\"train\")\n",
    "plt.plot(out.history[\"val_loss\"][1:], label=\"val\")\n",
    "plt.legend()"
   ]
  },
  {
   "cell_type": "code",
   "execution_count": null,
   "id": "b0fc054d-0cdf-4039-9746-e9037d818759",
   "metadata": {},
   "outputs": [],
   "source": [
    "def learning_curves(history, **kwargs):\n",
    "    loss = history.history[\"loss\"]\n",
    "    val_loss = history.history[\"val_loss\"]\n",
    "\n",
    "    epochs_range = range(1, len(loss) + 1)\n",
    "\n",
    "    plt.plot(\n",
    "        epochs_range,\n",
    "        history.history[\"loss\"],\n",
    "        marker=\"o\",\n",
    "        linestyle=\"dashed\",\n",
    "        label=\"Train loss\",\n",
    "        **kwargs\n",
    "    )\n",
    "    plt.plot(\n",
    "        epochs_range,\n",
    "        history.history[\"val_loss\"],\n",
    "        marker=\"o\",\n",
    "        linestyle=\"dashed\",\n",
    "        label=\"Valid loss\",\n",
    "        **kwargs\n",
    "    )\n",
    "    plt.xlabel(\"epochs\")\n",
    "    plt.ylabel(\"loss\")\n",
    "    plt.title(\"courbe d'apprentisage x époques\")\n",
    "    plt.legend()"
   ]
  },
  {
   "cell_type": "code",
   "execution_count": null,
   "id": "bd722c6c-a98a-4390-aac4-1d04c6a5b46f",
   "metadata": {},
   "outputs": [],
   "source": [
    "learning_curves(out)"
   ]
  },
  {
   "cell_type": "markdown",
   "id": "3f3f4268-aa9f-474d-a409-2ea18bd69daa",
   "metadata": {},
   "source": [
    "### Courbes d'apprentissage et early stopping\n",
    "Les courbes d'apprentissage servent a suivre l'entraînement du modèle et voir le moment ou il a donnée le meilleurs score en validation (et donc son meilleur potentiel de généralisation). Meme si l'erreur en validation commence à augmenter en fin d'entrainement, il suffit de sauvegarder des checkpoints du modèle sur le époques ou ce, on peut a la fin reprendre le modèle quand le `val_loss` était le plus bas."
   ]
  },
  {
   "cell_type": "markdown",
   "id": "03c9dfb8-9905-4b83-b149-cab635ab41d9",
   "metadata": {},
   "source": [
    "## Callbacks"
   ]
  },
  {
   "cell_type": "code",
   "execution_count": null,
   "id": "82a0c45c-9fd7-4889-aa64-27e2421de70a",
   "metadata": {},
   "outputs": [],
   "source": [
    "?tf.keras.callbacks.EarlyStopping"
   ]
  },
  {
   "cell_type": "code",
   "execution_count": null,
   "id": "eda6f375-f03f-42b1-9241-4fb76976516e",
   "metadata": {},
   "outputs": [],
   "source": [
    "early_stop = tf.keras.callbacks.EarlyStopping(\n",
    "    monitor=\"val_loss\",\n",
    "    patience=3,\n",
    "    verbose=1,\n",
    "    mode=\"auto\",\n",
    "    restore_best_weights=True,\n",
    ")"
   ]
  },
  {
   "cell_type": "code",
   "execution_count": null,
   "id": "c98ed022-719a-4f69-bdaa-57c2af00c6bd",
   "metadata": {},
   "outputs": [],
   "source": [
    "?tf.keras.callbacks.ReduceLROnPlateau"
   ]
  },
  {
   "cell_type": "code",
   "execution_count": null,
   "id": "628bf99e-9d7b-419d-bac6-b3da68690342",
   "metadata": {},
   "outputs": [],
   "source": [
    "reduce_lr = tf.keras.callbacks.ReduceLROnPlateau(\n",
    "    monitor=\"val_loss\",\n",
    "    factor=0.2,\n",
    "    patience=5,\n",
    "    verbose=1,\n",
    "    mode=\"auto\",\n",
    "    min_delta=0.0001,\n",
    "    cooldown=0,\n",
    "    min_lr=0.001,\n",
    ")"
   ]
  },
  {
   "cell_type": "code",
   "execution_count": null,
   "id": "612f6306-3a3f-484e-9eae-8f6341c0f96a",
   "metadata": {},
   "outputs": [],
   "source": [
    "nan_stop = tf.keras.callbacks.TerminateOnNaN()"
   ]
  },
  {
   "cell_type": "code",
   "execution_count": null,
   "id": "aa2e2fa2-ddf6-470d-bff0-d85a06693829",
   "metadata": {},
   "outputs": [],
   "source": [
    "callbacks = [\n",
    "    early_stop,\n",
    "    reduce_lr,\n",
    "    nan_stop,\n",
    "]"
   ]
  },
  {
   "cell_type": "code",
   "execution_count": null,
   "id": "b83a4fb0-998f-4525-b075-6d0334a66cd2",
   "metadata": {},
   "outputs": [],
   "source": [
    "model.optimizer.learning_rate = 0.5\n",
    "model.load_weights(\"init.h5\")\n",
    "out2 = model.fit(\n",
    "    X_train,\n",
    "    y=y_train,\n",
    "    epochs=100,\n",
    "    batch_size=X_train.shape[0],  # nombre total d'échantillons\n",
    "    validation_split=0.2,\n",
    "    verbose=0,\n",
    "    callbacks=callbacks,\n",
    ")"
   ]
  },
  {
   "cell_type": "code",
   "execution_count": null,
   "id": "234d3312-52a3-4f36-b9a2-87424eeab2cc",
   "metadata": {},
   "outputs": [],
   "source": [
    "learning_curves(out2)"
   ]
  },
  {
   "cell_type": "markdown",
   "id": "59369756-0e9f-4ac2-8150-e374fc080845",
   "metadata": {},
   "source": [
    "### Exercice\n",
    "Évaluez le modèle sur train et test une nouvelle fois. Est-ce que sa généralisation a amélioré?"
   ]
  },
  {
   "cell_type": "markdown",
   "id": "b8d3ad6d-0773-42e8-8336-c4d52aef16f5",
   "metadata": {},
   "source": [
    "# La suite: tutoriel Image Classification\n",
    "1. Sauvegardez et téléchargez le present notebook sur votre machine;\n",
    "1. Cliquez [ici](https://colab.research.google.com/github/tensorflow/docs/blob/master/site/en/tutorials/images/classification.ipynb)"
   ]
  }
 ],
 "metadata": {
  "kernelspec": {
   "display_name": "CoursNNDL",
   "language": "python",
   "name": "coursnndl"
  },
  "language_info": {
   "codemirror_mode": {
    "name": "ipython",
    "version": 3
   },
   "file_extension": ".py",
   "mimetype": "text/x-python",
   "name": "python",
   "nbconvert_exporter": "python",
   "pygments_lexer": "ipython3",
   "version": "3.8.10"
  },
  "toc-autonumbering": true,
  "toc-showmarkdowntxt": false
 },
 "nbformat": 4,
 "nbformat_minor": 5
}
