{
 "cells": [
  {
   "cell_type": "markdown",
   "metadata": {},
   "source": [
    "- Tous les notebooks sont accesibles aussi [ici](https://github.com/thalitadru/CoursNNDL)"
   ]
  },
  {
   "cell_type": "markdown",
   "metadata": {},
   "source": [
    "# Bibliothèques indispensbles en Python\n",
    "Pour traviller avec le machine learning ou la data science en Python, il y a certaines bibliothèques incontournables:\n",
    "- [NumPy](https://numpy.org) pour les arrays N-dimensionnels et l'algèbre lineaire (eventuellement associé a [SciPy](https://scipy.org))\n",
    "- [Matplotlib](https://matplotlib.org) pour générer des graphiques (ou autres bibliothèques similaires comme [Plotly](https://plotly.com/python/))\n",
    "- [Pandas](https://pandas.org) pour la manipulation de tableaux de données -- les Data Frames\n",
    "- [Scikit-learn](https://scikit-learn.org) pour réaliser facilement des pipelines de ML\n",
    "\n",
    "Dans ce notebook on va introduire de façon résumé des fondamentaux sur deux de ces bibliothèques: **NumpPy** et **Matplotlib**."
   ]
  },
  {
   "cell_type": "code",
   "execution_count": null,
   "metadata": {
    "ExecuteTime": {
     "end_time": "2021-05-26T17:01:20.543975Z",
     "start_time": "2021-05-26T17:01:20.355286Z"
    }
   },
   "outputs": [],
   "source": [
    "import numpy as np\n",
    "import matplotlib"
   ]
  },
  {
   "cell_type": "markdown",
   "metadata": {},
   "source": [
    "## Vecteurs et matrices sur NumPy"
   ]
  },
  {
   "cell_type": "markdown",
   "metadata": {},
   "source": [
    "Numpy va nous permettre de créer des matrices et vecterus, et de faire des operations mathématiques assez facilement. On peut créer des tableaux de la taille qu'on veut. Un vecteur d'une seulle dimension se fait ainsi:"
   ]
  },
  {
   "cell_type": "code",
   "execution_count": null,
   "metadata": {
    "ExecuteTime": {
     "end_time": "2021-05-26T17:01:20.561362Z",
     "start_time": "2021-05-26T17:01:20.552219Z"
    }
   },
   "outputs": [],
   "source": [
    "np.array([1,2,3])"
   ]
  },
  {
   "cell_type": "markdown",
   "metadata": {},
   "source": [
    "Ce vecteur n'est ni ligne ni colonne, car il a une seule dimension. On peut le voir dans l'attribut `ndim`"
   ]
  },
  {
   "cell_type": "code",
   "execution_count": null,
   "metadata": {
    "ExecuteTime": {
     "end_time": "2021-05-26T17:01:20.610020Z",
     "start_time": "2021-05-26T17:01:20.606369Z"
    }
   },
   "outputs": [],
   "source": [
    "np.array([1,2,3]).ndim"
   ]
  },
  {
   "cell_type": "markdown",
   "metadata": {},
   "source": [
    "On peut creer un vrai vecteur-ligne de la façon suivante:"
   ]
  },
  {
   "cell_type": "code",
   "execution_count": null,
   "metadata": {
    "ExecuteTime": {
     "end_time": "2021-05-26T17:01:20.660185Z",
     "start_time": "2021-05-26T17:01:20.656514Z"
    }
   },
   "outputs": [],
   "source": [
    "np.array([[1,2,3]])"
   ]
  },
  {
   "cell_type": "markdown",
   "metadata": {},
   "source": [
    "Et un vecteur colonne de façon similaire"
   ]
  },
  {
   "cell_type": "code",
   "execution_count": null,
   "metadata": {
    "ExecuteTime": {
     "end_time": "2021-05-26T17:01:20.710563Z",
     "start_time": "2021-05-26T17:01:20.706557Z"
    }
   },
   "outputs": [],
   "source": [
    "np.array([[1],[2],[3]])"
   ]
  },
  {
   "cell_type": "markdown",
   "metadata": {},
   "source": [
    "Une façon plus courte de l'écrire est de l'écrire en ligne et ensuite demander son transposé."
   ]
  },
  {
   "cell_type": "code",
   "execution_count": null,
   "metadata": {
    "ExecuteTime": {
     "end_time": "2021-05-26T17:01:20.762926Z",
     "start_time": "2021-05-26T17:01:20.758845Z"
    }
   },
   "outputs": [],
   "source": [
    "np.array([[1,2,3]]).T"
   ]
  },
  {
   "cell_type": "markdown",
   "metadata": {},
   "source": [
    "Avec la même fonction on peut creer une matrice"
   ]
  },
  {
   "cell_type": "code",
   "execution_count": null,
   "metadata": {
    "ExecuteTime": {
     "end_time": "2021-05-26T17:01:20.816663Z",
     "start_time": "2021-05-26T17:01:20.810359Z"
    }
   },
   "outputs": [],
   "source": [
    "np.array([[1,2,3],[4,5,6],[7,8,9],[10,11,12]])"
   ]
  },
  {
   "cell_type": "markdown",
   "metadata": {},
   "source": [
    "Tout ces tableaux sont des objets de la classe `ndarray`"
   ]
  },
  {
   "cell_type": "code",
   "execution_count": null,
   "metadata": {
    "ExecuteTime": {
     "end_time": "2021-05-26T17:01:20.867080Z",
     "start_time": "2021-05-26T17:01:20.862678Z"
    }
   },
   "outputs": [],
   "source": [
    "M = np.array([[1,2,3],[4,5,6],[7,8,9],[10,11,12]])\n",
    "v = np.array([[2,2,2,2]]).T"
   ]
  },
  {
   "cell_type": "code",
   "execution_count": null,
   "metadata": {
    "ExecuteTime": {
     "end_time": "2021-05-26T17:01:20.877114Z",
     "start_time": "2021-05-26T17:01:20.869908Z"
    }
   },
   "outputs": [],
   "source": [
    "print(M)\n",
    "print(type(M))"
   ]
  },
  {
   "cell_type": "code",
   "execution_count": null,
   "metadata": {
    "ExecuteTime": {
     "end_time": "2021-05-26T17:01:20.886548Z",
     "start_time": "2021-05-26T17:01:20.879263Z"
    }
   },
   "outputs": [],
   "source": [
    "print(v)\n",
    "print(type(v))"
   ]
  },
  {
   "cell_type": "markdown",
   "metadata": {},
   "source": [
    "### Vérifier la taille avec `shape`"
   ]
  },
  {
   "cell_type": "markdown",
   "metadata": {},
   "source": [
    "On peut verifier la taille d'un vecteur ou matrice en regardant leur variable `shape`."
   ]
  },
  {
   "cell_type": "code",
   "execution_count": null,
   "metadata": {
    "ExecuteTime": {
     "end_time": "2021-05-26T17:01:20.975519Z",
     "start_time": "2021-05-26T17:01:20.972084Z"
    },
    "scrolled": true
   },
   "outputs": [],
   "source": [
    "M.shape"
   ]
  },
  {
   "cell_type": "markdown",
   "metadata": {},
   "source": [
    "Cela nous dit que M a 4 lignes et 3 colonnes. L'ordre est toujours ligne puis colonne."
   ]
  },
  {
   "cell_type": "code",
   "execution_count": null,
   "metadata": {
    "ExecuteTime": {
     "end_time": "2021-05-26T17:01:21.026677Z",
     "start_time": "2021-05-26T17:01:21.023432Z"
    }
   },
   "outputs": [],
   "source": [
    "v.shape"
   ]
  },
  {
   "cell_type": "markdown",
   "metadata": {},
   "source": [
    "Cela nous dit que v a 4 lignes et une colonne (donc un vecteur colone)"
   ]
  },
  {
   "cell_type": "markdown",
   "metadata": {},
   "source": [
    "### Opérations le long d'une ligne ou colonne\n",
    "\n",
    "On peut réaliser des opérations qui combinent les élements des lignes ou des colonnes d'une matrice: la somme `sum`, la moyenne `mean`, la variance `std`, le `max` ou le `min`.\n",
    "\n",
    "Prennons par exemple une matrice de 1s de taille 3x5:\n"
   ]
  },
  {
   "cell_type": "code",
   "execution_count": null,
   "metadata": {
    "ExecuteTime": {
     "end_time": "2021-05-26T17:01:21.122497Z",
     "start_time": "2021-05-26T17:01:21.118462Z"
    }
   },
   "outputs": [],
   "source": [
    "A = np.ones((3,5))\n",
    "A"
   ]
  },
  {
   "cell_type": "markdown",
   "metadata": {},
   "source": [
    "Si on veut sommer au long de chaque colonne, on peut faire le suivant:"
   ]
  },
  {
   "cell_type": "code",
   "execution_count": null,
   "metadata": {
    "ExecuteTime": {
     "end_time": "2021-05-26T17:01:21.174306Z",
     "start_time": "2021-05-26T17:01:21.169415Z"
    }
   },
   "outputs": [],
   "source": [
    "A.sum(axis=0)"
   ]
  },
  {
   "cell_type": "code",
   "execution_count": null,
   "metadata": {
    "ExecuteTime": {
     "end_time": "2021-05-26T17:01:21.185390Z",
     "start_time": "2021-05-26T17:01:21.177331Z"
    }
   },
   "outputs": [],
   "source": [
    "np.sum(A, axis=0)"
   ]
  },
  {
   "cell_type": "markdown",
   "metadata": {},
   "source": [
    "Si on veut le faire au long de chaque ligne, on utilise `axis=1`"
   ]
  },
  {
   "cell_type": "code",
   "execution_count": null,
   "metadata": {
    "ExecuteTime": {
     "end_time": "2021-05-26T17:01:21.236343Z",
     "start_time": "2021-05-26T17:01:21.231401Z"
    }
   },
   "outputs": [],
   "source": [
    "A.sum(axis=1)"
   ]
  },
  {
   "cell_type": "code",
   "execution_count": null,
   "metadata": {
    "ExecuteTime": {
     "end_time": "2021-05-26T17:01:21.245894Z",
     "start_time": "2021-05-26T17:01:21.239489Z"
    }
   },
   "outputs": [],
   "source": [
    "np.sum(A, axis=1)"
   ]
  },
  {
   "cell_type": "markdown",
   "metadata": {},
   "source": [
    "Le même se fait pour les autres opperations. Par example la moyenne:"
   ]
  },
  {
   "cell_type": "code",
   "execution_count": null,
   "metadata": {
    "ExecuteTime": {
     "end_time": "2021-05-26T17:01:21.294301Z",
     "start_time": "2021-05-26T17:01:21.290337Z"
    }
   },
   "outputs": [],
   "source": [
    "A.mean(axis=0)"
   ]
  },
  {
   "cell_type": "code",
   "execution_count": null,
   "metadata": {
    "ExecuteTime": {
     "end_time": "2021-05-26T17:01:21.304675Z",
     "start_time": "2021-05-26T17:01:21.298184Z"
    }
   },
   "outputs": [],
   "source": [
    "A.mean(axis=1)"
   ]
  },
  {
   "cell_type": "markdown",
   "metadata": {},
   "source": [
    "### Produit de matrices"
   ]
  },
  {
   "cell_type": "markdown",
   "metadata": {},
   "source": [
    "On peut aussi faire un produit de matrices ou de vecteurs. Par exemple, je veux calculer le produit de $v^T M$, je peux le faire avec la fonction `np.dot`. Cela doit nous retourner un vecteur-ligne de taille 1x3."
   ]
  },
  {
   "cell_type": "code",
   "execution_count": null,
   "metadata": {
    "ExecuteTime": {
     "end_time": "2021-05-26T17:01:21.402147Z",
     "start_time": "2021-05-26T17:01:21.397358Z"
    }
   },
   "outputs": [],
   "source": [
    "np.dot(v.T, M)"
   ]
  },
  {
   "cell_type": "markdown",
   "metadata": {},
   "source": [
    "On peut aussi faire $M^T v$. Cela doit nous retourner un vecteur-colonne de taille 3x1."
   ]
  },
  {
   "cell_type": "code",
   "execution_count": null,
   "metadata": {
    "ExecuteTime": {
     "end_time": "2021-05-26T17:01:21.457595Z",
     "start_time": "2021-05-26T17:01:21.452598Z"
    }
   },
   "outputs": [],
   "source": [
    "np.dot(M.T, v)"
   ]
  },
  {
   "cell_type": "markdown",
   "metadata": {},
   "source": [
    "Le produit entre deux matrices peut se faire soit avec `np.dot` soit avec `np.matmul`"
   ]
  },
  {
   "cell_type": "code",
   "execution_count": null,
   "metadata": {
    "ExecuteTime": {
     "end_time": "2021-05-26T17:01:21.511474Z",
     "start_time": "2021-05-26T17:01:21.506630Z"
    }
   },
   "outputs": [],
   "source": [
    "np.matmul(M,M.T)"
   ]
  },
  {
   "cell_type": "code",
   "execution_count": null,
   "metadata": {
    "ExecuteTime": {
     "end_time": "2021-05-26T17:01:21.521595Z",
     "start_time": "2021-05-26T17:01:21.513784Z"
    }
   },
   "outputs": [],
   "source": [
    "np.dot(M, M.T)"
   ]
  },
  {
   "cell_type": "markdown",
   "metadata": {},
   "source": [
    "### Multiplication élement à élement et le Broadcasting"
   ]
  },
  {
   "cell_type": "markdown",
   "metadata": {},
   "source": [
    "Un autre opération utile est la multiplication élément à élement. Pour l'éxemplifier, on va créer d'abord une matrice pleine de 1s:"
   ]
  },
  {
   "cell_type": "code",
   "execution_count": null,
   "metadata": {
    "ExecuteTime": {
     "end_time": "2021-05-26T17:01:21.613711Z",
     "start_time": "2021-05-26T17:01:21.610214Z"
    }
   },
   "outputs": [],
   "source": [
    "A = np.ones((3,3)) #on met ici la taille de la matrice que l'on souhaite, ici 3x3, representé (3,3)\n",
    "A"
   ]
  },
  {
   "cell_type": "markdown",
   "metadata": {},
   "source": [
    "Disons que l'on veuille multiplier la premiere ligne par 1, la deuxiéme par 2, et ainsi de suite. On peut creer un vecteur avec ces coeficients de la façon suivante:"
   ]
  },
  {
   "cell_type": "code",
   "execution_count": null,
   "metadata": {
    "ExecuteTime": {
     "end_time": "2021-05-26T17:01:21.666722Z",
     "start_time": "2021-05-26T17:01:21.663265Z"
    }
   },
   "outputs": [],
   "source": [
    "x=np.array([[1,2,3]]).T\n",
    "x"
   ]
  },
  {
   "cell_type": "markdown",
   "metadata": {},
   "source": [
    "On peut aussi utiliser la mèthode `np.arange` que nous fournit un vecteur avec une suite de valeurs demandée:"
   ]
  },
  {
   "cell_type": "code",
   "execution_count": null,
   "metadata": {
    "ExecuteTime": {
     "end_time": "2021-05-26T17:01:21.723937Z",
     "start_time": "2021-05-26T17:01:21.718819Z"
    }
   },
   "outputs": [],
   "source": [
    "x = np.arange(1,3+1)  # le vecteur sera rempli de chiffres de start à stop-1, pour cela il faut dire de 1 a 3+1\n",
    "x"
   ]
  },
  {
   "cell_type": "markdown",
   "metadata": {},
   "source": [
    "Par contre ici on reçoit un vector de dimension 1. "
   ]
  },
  {
   "cell_type": "code",
   "execution_count": null,
   "metadata": {
    "ExecuteTime": {
     "end_time": "2021-05-26T17:01:21.778214Z",
     "start_time": "2021-05-26T17:01:21.774193Z"
    }
   },
   "outputs": [],
   "source": [
    "x.shape"
   ]
  },
  {
   "cell_type": "markdown",
   "metadata": {},
   "source": [
    "**Reshape**\n",
    "\n",
    "Pour le metre en mode ligne ou colone il faut adapter sa taille (`shape`). Pour cela on peur utiliser la fonction/methode `reshape`.\n",
    "Son argument est une tuple contenant les nouvelles dimenssions du tableau. On peut mêtre `-1` sur une dimension si on veut que Numpy la recalcule automatiquement en fonction des autres.\n",
    "\n",
    "Pour transformer `x` dans un vecteur ligne ou colonne, on peut mettre `1` sur la dimension correspondante, et `-1` sur l'autre dimension: Numpy se chargera donc de l'adapter à la quantité d'élements du tableau."
   ]
  },
  {
   "cell_type": "code",
   "execution_count": null,
   "metadata": {
    "ExecuteTime": {
     "end_time": "2021-05-26T17:01:21.834329Z",
     "start_time": "2021-05-26T17:01:21.830670Z"
    }
   },
   "outputs": [],
   "source": [
    "x = x.reshape((1,-1))\n",
    "x"
   ]
  },
  {
   "cell_type": "code",
   "execution_count": null,
   "metadata": {
    "ExecuteTime": {
     "end_time": "2021-05-26T17:01:21.845186Z",
     "start_time": "2021-05-26T17:01:21.837611Z"
    }
   },
   "outputs": [],
   "source": [
    "x = x.reshape((-1,1))\n",
    "x"
   ]
  },
  {
   "cell_type": "markdown",
   "metadata": {},
   "source": [
    "Maintenant on peut réaliser la multiplication de la façon suivante:"
   ]
  },
  {
   "cell_type": "code",
   "execution_count": null,
   "metadata": {
    "ExecuteTime": {
     "end_time": "2021-05-26T17:01:21.895931Z",
     "start_time": "2021-05-26T17:01:21.892299Z"
    }
   },
   "outputs": [],
   "source": [
    "A*x"
   ]
  },
  {
   "cell_type": "markdown",
   "metadata": {},
   "source": [
    "Remarquez que chaque ligne a été multiplié par un des termes du vector. Ça arrive parce que x est en forme colonne. Pour le faire pour chaque ligne on peut transposer x:"
   ]
  },
  {
   "cell_type": "code",
   "execution_count": null,
   "metadata": {
    "ExecuteTime": {
     "end_time": "2021-05-26T17:01:21.952717Z",
     "start_time": "2021-05-26T17:01:21.949049Z"
    }
   },
   "outputs": [],
   "source": [
    "A*x.T"
   ]
  },
  {
   "cell_type": "markdown",
   "metadata": {},
   "source": [
    "### Opérations avec scalaires"
   ]
  },
  {
   "cell_type": "markdown",
   "metadata": {},
   "source": [
    "Opérations avec des scalaires sont faites directement. "
   ]
  },
  {
   "cell_type": "code",
   "execution_count": null,
   "metadata": {
    "ExecuteTime": {
     "end_time": "2021-05-26T17:01:22.056951Z",
     "start_time": "2021-05-26T17:01:22.053182Z"
    }
   },
   "outputs": [],
   "source": [
    "A"
   ]
  },
  {
   "cell_type": "code",
   "execution_count": null,
   "metadata": {
    "ExecuteTime": {
     "end_time": "2021-05-26T17:01:22.068037Z",
     "start_time": "2021-05-26T17:01:22.059244Z"
    }
   },
   "outputs": [],
   "source": [
    "A+1"
   ]
  },
  {
   "cell_type": "code",
   "execution_count": null,
   "metadata": {
    "ExecuteTime": {
     "end_time": "2021-05-26T17:01:22.079066Z",
     "start_time": "2021-05-26T17:01:22.069532Z"
    }
   },
   "outputs": [],
   "source": [
    "3*A"
   ]
  },
  {
   "cell_type": "code",
   "execution_count": null,
   "metadata": {
    "ExecuteTime": {
     "end_time": "2021-05-26T17:01:22.088982Z",
     "start_time": "2021-05-26T17:01:22.080620Z"
    }
   },
   "outputs": [],
   "source": [
    "x"
   ]
  },
  {
   "cell_type": "code",
   "execution_count": null,
   "metadata": {
    "ExecuteTime": {
     "end_time": "2021-05-26T17:01:22.099383Z",
     "start_time": "2021-05-26T17:01:22.090473Z"
    }
   },
   "outputs": [],
   "source": [
    "x-1"
   ]
  },
  {
   "cell_type": "markdown",
   "metadata": {},
   "source": [
    "### Autres opérations élement à élement"
   ]
  },
  {
   "cell_type": "code",
   "execution_count": null,
   "metadata": {
    "ExecuteTime": {
     "end_time": "2021-05-26T17:01:22.141671Z",
     "start_time": "2021-05-26T17:01:22.138167Z"
    }
   },
   "outputs": [],
   "source": [
    "x+x"
   ]
  },
  {
   "cell_type": "code",
   "execution_count": null,
   "metadata": {
    "ExecuteTime": {
     "end_time": "2021-05-26T17:01:22.152422Z",
     "start_time": "2021-05-26T17:01:22.144797Z"
    }
   },
   "outputs": [],
   "source": [
    "x*x"
   ]
  },
  {
   "cell_type": "markdown",
   "metadata": {},
   "source": [
    "## Génération de nombres aleatoires sur Numpy\n",
    "Le sous module `np.random` permet d'obtenir des arrays de nombres aléatoires de differentes formes. On peut faire appel aux fonction directement sur le sous module:"
   ]
  },
  {
   "cell_type": "code",
   "execution_count": null,
   "metadata": {
    "ExecuteTime": {
     "end_time": "2021-05-26T17:01:22.212989Z",
     "start_time": "2021-05-26T17:01:22.208117Z"
    }
   },
   "outputs": [],
   "source": [
    "np.random.rand(10)"
   ]
  },
  {
   "cell_type": "markdown",
   "metadata": {},
   "source": [
    "### Random seed\n",
    "Cela fait appel au generateur de chiffrfes aleatoires (RNG) par default.\n",
    "\n",
    "Pour garantier la reproducibilité des chiffres aléatoires, il est important de garder une reference vers le RNG utilisé pour les generer. Cela pour se faire en definissant une random seed qui sera repeté:"
   ]
  },
  {
   "cell_type": "code",
   "execution_count": null,
   "metadata": {
    "ExecuteTime": {
     "end_time": "2021-05-26T17:01:22.275481Z",
     "start_time": "2021-05-26T17:01:22.270295Z"
    }
   },
   "outputs": [],
   "source": [
    "# un RNG avec seed=10\n",
    "np.random.seed(10)\n",
    "np.random.rand(10)"
   ]
  },
  {
   "cell_type": "code",
   "execution_count": null,
   "metadata": {
    "ExecuteTime": {
     "end_time": "2021-05-26T17:01:22.287228Z",
     "start_time": "2021-05-26T17:01:22.278244Z"
    }
   },
   "outputs": [],
   "source": [
    "# un autre RNG avec seed=1\n",
    "np.random.seed(1)\n",
    "np.random.rand(10)"
   ]
  },
  {
   "cell_type": "code",
   "execution_count": null,
   "metadata": {
    "ExecuteTime": {
     "end_time": "2021-05-26T17:01:22.298586Z",
     "start_time": "2021-05-26T17:01:22.289373Z"
    }
   },
   "outputs": [],
   "source": [
    "# on reproduit les resultats du RNG avec seed=10\n",
    "np.random.seed(10)\n",
    "np.random.rand(10)"
   ]
  },
  {
   "cell_type": "markdown",
   "metadata": {},
   "source": [
    "### Objet RNG\n",
    "On peut aussi sauvegarder l'objet correspondant au RNG avec la fonction `np.random.RandomState(seed)`:"
   ]
  },
  {
   "cell_type": "code",
   "execution_count": null,
   "metadata": {
    "ExecuteTime": {
     "end_time": "2021-05-26T17:01:22.361515Z",
     "start_time": "2021-05-26T17:01:22.353739Z"
    }
   },
   "outputs": [],
   "source": [
    "rng = np.random.RandomState(10)\n",
    "rng.rand(10)"
   ]
  },
  {
   "cell_type": "markdown",
   "metadata": {},
   "source": [
    "Quand on fait des operations entre des matrices ou vecteurs de même taile, cela se fait élement à element:"
   ]
  },
  {
   "cell_type": "markdown",
   "metadata": {},
   "source": [
    "## Faire des plots sur Matplotlib avec pyplot\n",
    "\n",
    "Matplotlib a differentes APIs pour acceder à ces fonctionalités selon un paradigme objet ou fonctionnel.\n",
    "Je démare ici par introduire l'API `pyplot`.\n"
   ]
  },
  {
   "cell_type": "code",
   "execution_count": null,
   "metadata": {
    "ExecuteTime": {
     "end_time": "2021-05-26T17:01:22.649896Z",
     "start_time": "2021-05-26T17:01:22.482462Z"
    }
   },
   "outputs": [],
   "source": [
    "import matplotlib.pyplot as plt"
   ]
  },
  {
   "cell_type": "markdown",
   "metadata": {},
   "source": [
    "### Plotter une ligne\n",
    "On peut plotter un array contre un autre avec `plt.plot`"
   ]
  },
  {
   "cell_type": "code",
   "execution_count": null,
   "metadata": {
    "ExecuteTime": {
     "end_time": "2021-05-26T17:01:22.780917Z",
     "start_time": "2021-05-26T17:01:22.651712Z"
    }
   },
   "outputs": [],
   "source": [
    "x = np.linspace(0,10,50) # 50 points entre 0 et 10\n",
    "y = np.sin(x)\n",
    "plt.plot(x,y)"
   ]
  },
  {
   "cell_type": "markdown",
   "metadata": {},
   "source": [
    "On peut également plotter les élements d'un array sans donner un axe horizontal specifique (l'axe `x`). Dans ce cas, l'axe horizontal correspondra à l'ordre des éléments d'ans l'array"
   ]
  },
  {
   "cell_type": "code",
   "execution_count": null,
   "metadata": {
    "ExecuteTime": {
     "end_time": "2021-05-26T17:01:22.934203Z",
     "start_time": "2021-05-26T17:01:22.782925Z"
    }
   },
   "outputs": [],
   "source": [
    "plt.plot([4,5,1,2,6])"
   ]
  },
  {
   "cell_type": "markdown",
   "metadata": {},
   "source": [
    "### Plotter plusieurs lignes\n",
    "Plusierus plots peuvent etre rajoutés sur la même figure:"
   ]
  },
  {
   "cell_type": "code",
   "execution_count": null,
   "metadata": {
    "ExecuteTime": {
     "end_time": "2021-05-26T17:01:23.057806Z",
     "start_time": "2021-05-26T17:01:22.936248Z"
    }
   },
   "outputs": [],
   "source": [
    "plt.plot(x,y)\n",
    "# deuxieme plot\n",
    "y2 = np.cos(x)\n",
    "plt.plot(x,y2)"
   ]
  },
  {
   "cell_type": "markdown",
   "metadata": {},
   "source": [
    "### Plotter des points\n",
    "Il est possible de plotter uniquement des points sans lignes qui les relient avec la fonction `plt.scatter`"
   ]
  },
  {
   "cell_type": "code",
   "execution_count": null,
   "metadata": {
    "ExecuteTime": {
     "end_time": "2021-05-26T17:01:23.181512Z",
     "start_time": "2021-05-26T17:01:23.059190Z"
    }
   },
   "outputs": [],
   "source": [
    "plt.scatter(x, y)\n",
    "plt.scatter(x, y2)"
   ]
  },
  {
   "cell_type": "markdown",
   "metadata": {},
   "source": [
    "### Plusieurs plots sur une seule figure\n",
    "\n",
    "On peut s'utiliser de la fonction `plt.subplot` pour diviser une figure en subplots.\n",
    "Voici un exemple qui appelle d'autres types de plot: `bar` et `stem`.\n"
   ]
  },
  {
   "cell_type": "code",
   "execution_count": null,
   "metadata": {
    "ExecuteTime": {
     "end_time": "2021-05-26T17:01:23.627354Z",
     "start_time": "2021-05-26T17:01:23.183563Z"
    }
   },
   "outputs": [],
   "source": [
    "plt.subplot(2,2,1)\n",
    "plt.plot(x,y)\n",
    "plt.subplot(2,2,2)\n",
    "plt.stem(x,y)\n",
    "plt.subplot(2,2,3)\n",
    "plt.scatter(x,y)\n",
    "plt.subplot(2,2,4)\n",
    "plt.bar(x,y)"
   ]
  },
  {
   "cell_type": "markdown",
   "metadata": {},
   "source": [
    "### Mise en format"
   ]
  },
  {
   "cell_type": "markdown",
   "metadata": {},
   "source": [
    "Il existent plusieurs arguments optionnels pour la mise en format des lignes. En particulier, on peut leur donner des éttiquettes `label` pour créer une legende à la fin avec `plt.legend()`."
   ]
  },
  {
   "cell_type": "code",
   "execution_count": null,
   "metadata": {
    "ExecuteTime": {
     "end_time": "2021-05-26T17:01:23.774372Z",
     "start_time": "2021-05-26T17:01:23.628973Z"
    }
   },
   "outputs": [],
   "source": [
    "x = np.linspace(0,10,25) # 25 points entre 0 et 10\n",
    "y = np.sin(x)\n",
    "plt.plot(x, y, label='sinus', marker='+', linestyle='dashed', markersize=10)\n",
    "# deuxieme plot\n",
    "y2 = np.cos(x)\n",
    "plt.plot(x, y2, label='cosinus', marker='v', linestyle='dotted', markersize=6)\n",
    "# legende\n",
    "plt.legend()"
   ]
  },
  {
   "cell_type": "markdown",
   "metadata": {},
   "source": [
    "On peut donner aussi des éttiquettes sur les axes et un titre au plot:"
   ]
  },
  {
   "cell_type": "code",
   "execution_count": null,
   "metadata": {
    "ExecuteTime": {
     "end_time": "2021-05-26T17:01:23.925060Z",
     "start_time": "2021-05-26T17:01:23.775984Z"
    }
   },
   "outputs": [],
   "source": [
    "x = np.linspace(0,10,50) # 50 points entre 0 et 10\n",
    "y = np.sin(x)\n",
    "plt.plot(x, y, label='sinus')\n",
    "# deuxieme plot\n",
    "y2 = np.cos(x)\n",
    "plt.plot(x, y2, label='cosinus')\n",
    "# legende\n",
    "plt.legend()\n",
    "# ettiquettes et titre\n",
    "plt.xlabel(\"x\")\n",
    "plt.ylabel(\"f(x)\")\n",
    "plt.title(\"Fonctions sin(x) et cos(x)\")"
   ]
  },
  {
   "cell_type": "markdown",
   "metadata": {},
   "source": [
    "De façon analogue à `title` et `legend`, il existen des fonctions pour formater d'autres élements de la figure. Cette image montre le nom des principaux éléments:\n",
    "\n",
    "![Anatomie d'un plot](https://matplotlib.org/stable/_images/anatomy.png)"
   ]
  },
  {
   "cell_type": "markdown",
   "metadata": {},
   "source": [
    "## Axes et Figure: API orienté objets de Matplotlib"
   ]
  },
  {
   "cell_type": "markdown",
   "metadata": {},
   "source": [
    "Un plot est une `Figure` qui contient un ou plusieurs `Axes`. On peut les acceder avec `plt.gcf()` et `plt.gca()`"
   ]
  },
  {
   "cell_type": "code",
   "execution_count": null,
   "metadata": {
    "ExecuteTime": {
     "end_time": "2021-05-26T17:01:24.067619Z",
     "start_time": "2021-05-26T17:01:23.926736Z"
    }
   },
   "outputs": [],
   "source": [
    "plt.plot(x,y)\n",
    "ax = plt.gca()\n",
    "fig = plt.gcf()\n",
    "ax,fig"
   ]
  },
  {
   "cell_type": "markdown",
   "metadata": {},
   "source": [
    "### Classe `Axes`\n",
    "On peut rajouter un plot en appelant la methode sur l'objet `Axes`: `ax`"
   ]
  },
  {
   "cell_type": "code",
   "execution_count": null,
   "metadata": {
    "ExecuteTime": {
     "end_time": "2021-05-26T17:01:24.204320Z",
     "start_time": "2021-05-26T17:01:24.069957Z"
    }
   },
   "outputs": [],
   "source": [
    "plt.plot(x,y)\n",
    "ax = plt.gca()\n",
    "fig = plt.gcf()\n",
    "\n",
    "y2 = np.cos(x)\n",
    "ax.plot(x,y2)"
   ]
  },
  {
   "cell_type": "markdown",
   "metadata": {},
   "source": [
    "On peut creer une figure et rajouter des axes explicitment. L'objet `ax` sera alors le point d'entrée pour l'API orienté objets de matplotlib."
   ]
  },
  {
   "cell_type": "code",
   "execution_count": null,
   "metadata": {
    "ExecuteTime": {
     "end_time": "2021-05-26T17:01:24.355088Z",
     "start_time": "2021-05-26T17:01:24.206249Z"
    }
   },
   "outputs": [],
   "source": [
    "fig = plt.figure()\n",
    "fig, ax = plt.subplots()\n",
    "# line plots\n",
    "ax.plot(x, y, label='sinus')\n",
    "ax.plot(x, y2, label='cosinus')\n",
    "# legende\n",
    "ax.legend()"
   ]
  },
  {
   "cell_type": "markdown",
   "metadata": {},
   "source": [
    "### Création de subplots\n",
    "Avec cette API on peut créer des subplots sur une seule figure (chaque un correspondant à un objet `Axes`)."
   ]
  },
  {
   "cell_type": "code",
   "execution_count": null,
   "metadata": {
    "ExecuteTime": {
     "end_time": "2021-05-26T17:01:24.657742Z",
     "start_time": "2021-05-26T17:01:24.356587Z"
    }
   },
   "outputs": [],
   "source": [
    "# creation de figure\n",
    "fig = plt.figure()\n",
    "# creation des axes\n",
    "fig, axs = plt.subplots(1,2) # nombre de lignes: 1, nombre de colonnes: 2\n",
    "# separation des axes en deux variables\n",
    "ax1,ax2 = axs\n",
    "# plots\n",
    "ax1.plot(x, y, label='sinus')\n",
    "ax2.plot(x, y2, label='cosinus')\n",
    "# titres\n",
    "ax1.set_title(\"sin(x)\")\n",
    "ax2.set_title(\"cos(x)\")\n",
    "# augmenter la largeur de la figure\n",
    "fig.set_figwidth(10)"
   ]
  },
  {
   "cell_type": "markdown",
   "metadata": {},
   "source": [
    "## Example: plot d'une fonction de deux variables\n",
    "\n",
    "Ici on va générer des coordonées en deux dimensions de façon aléatoire, à l'aide d'un RNG:"
   ]
  },
  {
   "cell_type": "code",
   "execution_count": null,
   "metadata": {
    "ExecuteTime": {
     "end_time": "2021-05-26T17:01:24.662402Z",
     "start_time": "2021-05-26T17:01:24.659084Z"
    }
   },
   "outputs": [],
   "source": [
    "# Make data\n",
    "rng=np.random.RandomState(0)\n",
    "m = 800\n",
    "x1 = rng.rand(m) \n",
    "x2 = rng.rand(m) \n",
    "x = np.stack([x1,x2]).T"
   ]
  },
  {
   "cell_type": "markdown",
   "metadata": {},
   "source": [
    "On peut ensuite calculer une fonction de ces deux variables. Ici par exemple une fonction bi-lineaire:"
   ]
  },
  {
   "cell_type": "code",
   "execution_count": null,
   "metadata": {
    "ExecuteTime": {
     "end_time": "2021-05-26T17:01:24.672127Z",
     "start_time": "2021-05-26T17:01:24.663790Z"
    }
   },
   "outputs": [],
   "source": [
    "y = 3*x1 - 5*x2 + 8 "
   ]
  },
  {
   "cell_type": "code",
   "execution_count": null,
   "metadata": {
    "ExecuteTime": {
     "end_time": "2021-05-26T17:01:24.685130Z",
     "start_time": "2021-05-26T17:01:24.673525Z"
    }
   },
   "outputs": [],
   "source": [
    "x1.shape, x2.shape, x.shape, y.shape"
   ]
  },
  {
   "cell_type": "code",
   "execution_count": null,
   "metadata": {
    "ExecuteTime": {
     "end_time": "2021-05-26T17:01:25.210541Z",
     "start_time": "2021-05-26T17:01:24.686654Z"
    }
   },
   "outputs": [],
   "source": [
    "import matplotlib.cm as cm\n",
    "\n",
    "plt.subplot(1,3,1)\n",
    "plt.title(\"x2 contre x1 - y en couleurs\")\n",
    "plt.scatter(x1,x2, c=y, cmap=cm.coolwarm)\n",
    "plt.colorbar()\n",
    "plt.xlabel(\"x1\")\n",
    "plt.ylabel(\"x2\")\n",
    "\n",
    "plt.subplot(1,3,2)\n",
    "plt.title(\"y contre x1\")\n",
    "plt.scatter(x1, y, c=y, cmap=cm.coolwarm)\n",
    "plt.xlabel('x1')\n",
    "plt.ylabel('y')\n",
    "\n",
    "plt.subplot(1,3,3)\n",
    "plt.title(\"y contre x2\")\n",
    "plt.scatter(x2, y, c=y, cmap=cm.coolwarm)\n",
    "plt.xlabel('x2')\n",
    "plt.ylabel('y')\n",
    "\n",
    "plt.gcf().set_size_inches(16,4)"
   ]
  },
  {
   "cell_type": "markdown",
   "metadata": {},
   "source": [
    "## Avancé: Plots en 3D avec matplotlib\n",
    "\n",
    "L'API de plots 3D n'est pas aussi bien supporté que celle pour les plots 2D. On peut l'utiliser à l'aide de l'import suivant:"
   ]
  },
  {
   "cell_type": "code",
   "execution_count": null,
   "metadata": {
    "ExecuteTime": {
     "end_time": "2021-05-26T17:01:25.220429Z",
     "start_time": "2021-05-26T17:01:25.212624Z"
    }
   },
   "outputs": [],
   "source": [
    "from mpl_toolkits.mplot3d import Axes3D\n",
    "%matplotlib inline"
   ]
  },
  {
   "cell_type": "markdown",
   "metadata": {},
   "source": [
    "On peut creer une figure comme avant. Ensuite, il faut rajouter à cetter figure un Axes3D, sur lequel on fera les plots."
   ]
  },
  {
   "cell_type": "code",
   "execution_count": null,
   "metadata": {
    "ExecuteTime": {
     "end_time": "2021-05-26T17:01:25.426091Z",
     "start_time": "2021-05-26T17:01:25.221778Z"
    }
   },
   "outputs": [],
   "source": [
    "fig = plt.figure()\n",
    "# créer un axe 3D\n",
    "ax = fig.add_subplot(111, projection='3d', azim=50, elev=25)\n",
    "# créer le plot\n",
    "dots = ax.scatter(x1, x2, y, c=y, cmap=cm.coolwarm)\n",
    "# rajouter barre de couleurs\n",
    "fig.colorbar(dots)"
   ]
  },
  {
   "cell_type": "markdown",
   "metadata": {},
   "source": [
    "On peut ploter une surface `plot_trisurf`. Des triangles sont générés en réliant les points de façon a creer la surface affiché."
   ]
  },
  {
   "cell_type": "code",
   "execution_count": null,
   "metadata": {
    "ExecuteTime": {
     "end_time": "2021-05-26T17:01:25.754514Z",
     "start_time": "2021-05-26T17:01:25.427647Z"
    }
   },
   "outputs": [],
   "source": [
    "fig = plt.figure()\n",
    "# créer un axe 3D\n",
    "ax = fig.add_subplot(111, projection='3d', azim=70, elev=25)\n",
    "# créer un plot de surface\n",
    "surf = ax.plot_trisurf(x1, x2, y, cmap=cm.coolwarm, edgecolor='white', linewidth=0.2, antialiased=True)\n",
    "# rajouter barre de couleurs\n",
    "fig.colorbar(surf)\n",
    "# augmenter la figure pour mieux voir\n",
    "fig.set_size_inches((12,8))"
   ]
  },
  {
   "cell_type": "markdown",
   "metadata": {},
   "source": [
    "### Example de plot d'une courbe en 3D\n",
    "Travaillons maintenant avec une nouvelle fonction de deux variables:"
   ]
  },
  {
   "cell_type": "code",
   "execution_count": null,
   "metadata": {
    "ExecuteTime": {
     "end_time": "2021-05-26T17:01:25.760293Z",
     "start_time": "2021-05-26T17:01:25.757262Z"
    }
   },
   "outputs": [],
   "source": [
    "x1 = np.arange(-3,3,0.1)\n",
    "x2 = np.arange(-3,3,0.1)\n",
    "y_fun = lambda x1, x2: (x1)**2 +(x2-3)**2\n",
    "y = y_fun(x1, x2)"
   ]
  },
  {
   "cell_type": "code",
   "execution_count": null,
   "metadata": {
    "ExecuteTime": {
     "end_time": "2021-05-26T17:01:26.112101Z",
     "start_time": "2021-05-26T17:01:25.762360Z"
    }
   },
   "outputs": [],
   "source": [
    "plt.subplot(1,3,1)\n",
    "plt.scatter(x1, y, cmap=cm.coolwarm)\n",
    "plt.title(\"y contre x1\")\n",
    "plt.subplot(1,3,2)\n",
    "plt.scatter(x2, y, cmap=cm.coolwarm)\n",
    "plt.title(\"y contre x2\")\n",
    "\n",
    "plt.subplot(1,3,3)\n",
    "plt.scatter(x1,x2,c=y, cmap=cm.coolwarm)\n",
    "plt.title(\"y en couleurs sur x1 contre x1\")\n",
    "\n",
    "\n",
    "plt.gcf().set_size_inches((12,4))"
   ]
  },
  {
   "cell_type": "code",
   "execution_count": null,
   "metadata": {
    "ExecuteTime": {
     "end_time": "2021-05-26T17:01:26.231509Z",
     "start_time": "2021-05-26T17:01:26.113480Z"
    }
   },
   "outputs": [],
   "source": [
    "fig = plt.figure()\n",
    "ax = fig.gca(projection='3d', azim=30, elev=25)\n",
    "ax.plot(x1,x2,y)"
   ]
  },
  {
   "cell_type": "markdown",
   "metadata": {},
   "source": [
    "### Exemple de plot de surface avec contours\n",
    "Pour un plot de surface, on a besoin que les arrays aient 2 dimensions. \n",
    "x1 et x2 doivent former la grille de coordonées (x1,x2).\n",
    "La fonction `np.meshgrid` permet ee générer cette grille. "
   ]
  },
  {
   "cell_type": "code",
   "execution_count": null,
   "metadata": {
    "ExecuteTime": {
     "end_time": "2021-05-26T17:01:26.236948Z",
     "start_time": "2021-05-26T17:01:26.233330Z"
    }
   },
   "outputs": [],
   "source": [
    "x1 = np.arange(-np.pi,np.pi,0.1)\n",
    "x2 = np.arange(-np.pi,np.pi,0.1)\n",
    "X1,X2 = np.meshgrid(x1,x2)"
   ]
  },
  {
   "cell_type": "code",
   "execution_count": null,
   "metadata": {
    "ExecuteTime": {
     "end_time": "2021-05-26T17:01:26.567713Z",
     "start_time": "2021-05-26T17:01:26.238724Z"
    }
   },
   "outputs": [],
   "source": [
    "fig = plt.figure()\n",
    "plt.subplot(1,2,1)\n",
    "plt.contourf(x1, x2, X1, cmap=cm.coolwarm, levels=20)\n",
    "plt.title(\"Grille - coordonées x1\")\n",
    "plt.subplot(1,2,2)\n",
    "plt.title(\"Grille - coordonées x2\")\n",
    "plt.contourf(x1, x2, X2, cmap=cm.coolwarm, levels=20)\n",
    "fig.set_size_inches((8,4))"
   ]
  },
  {
   "cell_type": "markdown",
   "metadata": {},
   "source": [
    "Ensuite, on doit évaluer la fonction qu'on veut afficher sur ces coordonées. Par exemple la fonction Z suivante:"
   ]
  },
  {
   "cell_type": "code",
   "execution_count": null,
   "metadata": {
    "ExecuteTime": {
     "end_time": "2021-05-26T17:01:26.573702Z",
     "start_time": "2021-05-26T17:01:26.569879Z"
    }
   },
   "outputs": [],
   "source": [
    "z_fun = lambda x1, x2 : np.sin(2*x1) + np.cos(x2)\n",
    "Z = z_fun(X1, X2)"
   ]
  },
  {
   "cell_type": "markdown",
   "metadata": {},
   "source": [
    "Z est une fonction établi sur un domaine 2D. On peut la visualiser avec un plot de contours:"
   ]
  },
  {
   "cell_type": "code",
   "execution_count": null,
   "metadata": {
    "ExecuteTime": {
     "end_time": "2021-05-26T17:01:26.747434Z",
     "start_time": "2021-05-26T17:01:26.576187Z"
    }
   },
   "outputs": [],
   "source": [
    "fig = plt.figure()\n",
    "# plot de contours rempli contouref\n",
    "plt.contourf(x1, x2, Z, cmap=cm.coolwarm, levels=20)\n",
    "# mise en format\n",
    "plt.title(\"Valeurs de Z sur le plan x1 x x2\")\n",
    "plt.xlabel('x1')\n",
    "plt.ylabel('x2')\n",
    "fig.set_size_inches((4,4))"
   ]
  },
  {
   "cell_type": "markdown",
   "metadata": {},
   "source": [
    " On peut aussi la visualiser en 3D avec un plot de surface."
   ]
  },
  {
   "cell_type": "code",
   "execution_count": null,
   "metadata": {
    "ExecuteTime": {
     "end_time": "2021-05-26T17:01:27.053950Z",
     "start_time": "2021-05-26T17:01:26.749329Z"
    }
   },
   "outputs": [],
   "source": [
    "fig = plt.figure()\n",
    "ax = fig.gca(projection='3d', azim=45, elev=40)\n",
    "\n",
    "surf = ax.plot_surface(X1, X2, Z, \n",
    "    rcount=50, ccount=50, # nombre de points utilisés pour generer la surface\n",
    "    alpha=0.6, # transparence\n",
    "    linewidth=0.3, edgecolor='white', # grille sur la surface\n",
    "    cmap=cm.coolwarm) # colormap de la surface\n",
    "\n",
    "ax.set_xlabel('x1')\n",
    "ax.set_ylabel('x2')\n",
    "ax.set_zlabel('Z')\n",
    "\n",
    "fig.colorbar(surf)\n",
    "\n",
    "fig.set_size_inches(9,5)"
   ]
  },
  {
   "cell_type": "markdown",
   "metadata": {},
   "source": [
    "On peut rajouter a ce plot des plots de contour de Z projecté sur les axes x1 et x2"
   ]
  },
  {
   "cell_type": "code",
   "execution_count": null,
   "metadata": {
    "ExecuteTime": {
     "end_time": "2021-05-26T17:01:27.380399Z",
     "start_time": "2021-05-26T17:01:27.056404Z"
    }
   },
   "outputs": [],
   "source": [
    "fig = plt.figure()\n",
    "ax = fig.gca(projection='3d', azim=40, elev=25)\n",
    "\n",
    "limZ=4\n",
    "limX=4\n",
    "limY=4\n",
    "ax.plot_surface(X1, X2, Z, \n",
    "                rcount=50, ccount=50, \n",
    "                alpha=0.3, \n",
    "                linewidth=0.2, edgecolor='white')\n",
    "cset = ax.contour(X1, X2, Z, zdir='z', offset=-limZ, cmap=cm.coolwarm)\n",
    "cset = ax.contour(X1, X2, Z, zdir='x', offset=-limX, cmap=cm.coolwarm)\n",
    "cset = ax.contour(X1, X2, Z, zdir='y', offset=-limY, cmap=cm.coolwarm)\n",
    "\n",
    "ax.set_xlabel('x1')\n",
    "ax.set_xlim(-limX, limX)\n",
    "ax.set_ylabel('x2')\n",
    "ax.set_ylim(-limY, limY)\n",
    "ax.set_zlabel('Z')\n",
    "ax.set_zlim(-limZ, limZ)\n",
    "fig.set_size_inches(9,5)"
   ]
  }
 ],
 "metadata": {
  "hide_input": false,
  "kernelspec": {
   "display_name": "CoursNNDL",
   "language": "python",
   "name": "coursnndl"
  },
  "language_info": {
   "codemirror_mode": {
    "name": "ipython",
    "version": 3
   },
   "file_extension": ".py",
   "mimetype": "text/x-python",
   "name": "python",
   "nbconvert_exporter": "python",
   "pygments_lexer": "ipython3",
   "version": "3.8.10"
  },
  "metadata": {
   "interpreter": {
    "hash": "7dba6e18e6acdf8fcfcaa1bbab0f558cda8ecf0f594e6f632ac4fb60f19865cf"
   }
  },
  "toc": {
   "base_numbering": 1,
   "nav_menu": {},
   "number_sections": true,
   "sideBar": true,
   "skip_h1_title": true,
   "title_cell": "Table of Contents",
   "title_sidebar": "Contents",
   "toc_cell": false,
   "toc_position": {
    "height": "calc(100% - 180px)",
    "left": "10px",
    "top": "150px",
    "width": "242.667px"
   },
   "toc_section_display": true,
   "toc_window_display": true
  },
  "varInspector": {
   "cols": {
    "lenName": 16,
    "lenType": 16,
    "lenVar": 40
   },
   "kernels_config": {
    "python": {
     "delete_cmd_postfix": "",
     "delete_cmd_prefix": "del ",
     "library": "var_list.py",
     "varRefreshCmd": "print(var_dic_list())"
    },
    "r": {
     "delete_cmd_postfix": ") ",
     "delete_cmd_prefix": "rm(",
     "library": "var_list.r",
     "varRefreshCmd": "cat(var_dic_list()) "
    }
   },
   "types_to_exclude": [
    "module",
    "function",
    "builtin_function_or_method",
    "instance",
    "_Feature"
   ],
   "window_display": false
  }
 },
 "nbformat": 4,
 "nbformat_minor": 2
}
