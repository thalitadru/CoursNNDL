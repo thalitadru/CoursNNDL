{
 "cells": [
  {
   "cell_type": "markdown",
   "id": "eeff785d",
   "metadata": {},
   "source": [
    "# Exercice : California housing dataset\n",
    "\n",
    "Dans cet exercice, vous allez prendre en main le dataset [\"California Housing\"](https://scikit-learn.org/stable/datasets/real_world.html#california-housing-dataset),\n",
    "qui contient des informations pour la prediction des prix des imeubles en Californie. \n",
    "## Consignes\n",
    "À l'image de ce que nous avons fait avec le dataset \"Iris\", vous devez developper un modèle prédictif à partir de ces données. \n",
    "Ce modèle doit être capable de prédire le prix approprié pour une maison a partir de ces attributs:\n",
    "\n",
    "- MedInc : median income in block\n",
    "- HouseAge :  median house age in block\n",
    "- AveRooms : average number of rooms\n",
    "- AveBedrms : average number of bedrooms\n",
    "- Population : block population\n",
    "- AveOccup : average house occupancy\n",
    "- Latitude : house block latitude\n",
    "- Longitude : house block longitude\n",
    "\n",
    "Ce notebook comportera toutes vos analyses sur ces données et la conception du modèle predictif,\n",
    "et servira donc de compte-rendu de votre travail.\n",
    "\n",
    "### Activités réquises\n",
    "- Vous devez utiliser un RNG en lui donnant comme seed votre jour et mois d'anniversaire. Donnez ce RNG comme argument pour chaque fonction qui le necessite (argument `random_state`)\n",
    "- Vous devez explorer les données a fin de choisir une méthode de scaling approprié pour ses attributs.\n",
    "- Vous devez essaier au moins 3 types de modèles de régression diffèrents, dont un étant une regression lineaire.\n",
    "- Vous devez evaluer et comparer les pipelines proposés en cross-validation. Discutez quel modèle vous parait le plus approprié pour ce jeu de données.\n",
    "\n",
    "### Suggestions\n",
    "- Rajoutez des célules de texte au fur et a mésure qui expliquent ce que vous êtes en train de faire.\n",
    "- Incluez dans votre texte des justificatifs et/ou références pour vos choix.\n",
    "- N'hesitez pas à vous appuyer sur la doc de Scikit-learn\n",
    "- Ci-dessus vous avez un plan suggéré pour votre analyse. N'hésitez pas à l'adapter selon vos envies.\n"
   ]
  },
  {
   "cell_type": "code",
   "execution_count": null,
   "id": "10d7ef4d",
   "metadata": {},
   "outputs": [],
   "source": [
    "import numpy as np\n",
    "import sklearn\n",
    "import matplotlib.pyplot as plt\n",
    "import pandas as pd\n",
    "\n",
    "SEED = 211 # changez la valeur du seed ici\n",
    "\n",
    "rng = np.random.RandomState(SEED)"
   ]
  },
  {
   "cell_type": "markdown",
   "id": "7f2cf517",
   "metadata": {},
   "source": [
    "## Les données\n",
    "\n",
    "Chargement des données avec [`fetch_california_housing`](https://scikit-learn.org/stable/modules/generated/sklearn.datasets.fetch_california_housing.html#sklearn.datasets.fetch_california_housing)."
   ]
  },
  {
   "cell_type": "markdown",
   "id": "1d692647",
   "metadata": {},
   "source": [
    "### Division des données en train et test\n",
    "\n"
   ]
  },
  {
   "cell_type": "markdown",
   "id": "bf2d41a0",
   "metadata": {},
   "source": [
    "### Analyse exploratoire"
   ]
  },
  {
   "cell_type": "markdown",
   "id": "cb0fab71",
   "metadata": {},
   "source": [
    "### Pre-traitement des données\n",
    "\n",
    "Réference: [Comparaison de méthodes de scaling](https://scikit-learn.org/stable/auto_examples/preprocessing/plot_all_scaling.html#sphx-glr-auto-examples-preprocessing-plot-all-scaling-py)"
   ]
  },
  {
   "cell_type": "markdown",
   "id": "3f87bf2d",
   "metadata": {},
   "source": [
    "## Comparaison de modèles\n",
    "\n",
    "Références : [Model comparison](https://scikit-learn.org/stable/model_selection.html)\n"
   ]
  },
  {
   "cell_type": "markdown",
   "id": "4753b994",
   "metadata": {},
   "source": [
    "### Import des modèles candidats"
   ]
  },
  {
   "cell_type": "markdown",
   "id": "8de77d56",
   "metadata": {},
   "source": [
    "### Pipelines d'entrainement pour les modèles candidats\n",
    "Références:\n",
    "- [`pipeline`](https://scikit-learn.org/stable/modules/classes.html#module-sklearn.pipeline)"
   ]
  },
  {
   "cell_type": "markdown",
   "id": "af07976e",
   "metadata": {},
   "source": [
    "### Evaluation en cross-validation\n",
    "Références:\n",
    "- [`cross_validate`](https://scikit-learn.org/stable/modules/generated/sklearn.model_selection.cross_validate.html#sklearn.model_selection.cross_validate)\n",
    "- [ShuffleSplit](https://scikit-learn.org/stable/modules/generated/sklearn.model_selection.ShuffleSplit.html)\n",
    "- [Learning curves et valudation curves](https://scikit-learn.org/stable/modules/learning_curve.html?#validation-curves-plotting-scores-to-evaluate-models)\n",
    "- [Plotting learning curves](https://scikit-learn.org/stable/auto_examples/model_selection/plot_learning_curve.html#plotting-learning-curves)\n",
    "- [Comparaison SVR vs RidgeRegression](https://scikit-learn.org/stable/auto_examples/miscellaneous/plot_kernel_ridge_regression.html)"
   ]
  },
  {
   "cell_type": "markdown",
   "id": "d7d1de2a",
   "metadata": {},
   "source": [
    "#### Scores en train et validation pour les diffèrents modèles"
   ]
  },
  {
   "cell_type": "markdown",
   "id": "bd73f158",
   "metadata": {},
   "source": [
    "#### Learning curve x training set size\n",
    "[`learning_curve`](https://scikit-learn.org/stable/modules/generated/sklearn.model_selection.learning_curve.html?highlight=learning_curve)"
   ]
  },
  {
   "cell_type": "markdown",
   "id": "8d4981bb",
   "metadata": {},
   "source": [
    "#### Validation curve x hyperparameter\n",
    "[`validation_curve`](https://scikit-learn.org/stable/modules/generated/sklearn.model_selection.validation_curve.html#sklearn.model_selection.validation_curve)"
   ]
  },
  {
   "cell_type": "markdown",
   "id": "12d92adc",
   "metadata": {},
   "source": [
    "## Discussion"
   ]
  }
 ],
 "metadata": {
  "hide_input": false,
  "kernelspec": {
   "display_name": "CoursNNDL",
   "language": "python",
   "name": "coursnndl"
  },
  "language_info": {
   "codemirror_mode": {
    "name": "ipython",
    "version": 3
   },
   "file_extension": ".py",
   "mimetype": "text/x-python",
   "name": "python",
   "nbconvert_exporter": "python",
   "pygments_lexer": "ipython3",
   "version": "3.8.10"
  },
  "toc": {
   "base_numbering": 1,
   "nav_menu": {
    "height": "97px",
    "width": "280px"
   },
   "number_sections": true,
   "sideBar": true,
   "skip_h1_title": true,
   "title_cell": "Table of Contents",
   "title_sidebar": "Contents",
   "toc_cell": false,
   "toc_position": {
    "height": "calc(100% - 180px)",
    "left": "10px",
    "top": "150px",
    "width": "304.312px"
   },
   "toc_section_display": true,
   "toc_window_display": true
  },
  "varInspector": {
   "cols": {
    "lenName": 16,
    "lenType": 16,
    "lenVar": 40
   },
   "kernels_config": {
    "python": {
     "delete_cmd_postfix": "",
     "delete_cmd_prefix": "del ",
     "library": "var_list.py",
     "varRefreshCmd": "print(var_dic_list())"
    },
    "r": {
     "delete_cmd_postfix": ") ",
     "delete_cmd_prefix": "rm(",
     "library": "var_list.r",
     "varRefreshCmd": "cat(var_dic_list()) "
    }
   },
   "types_to_exclude": [
    "module",
    "function",
    "builtin_function_or_method",
    "instance",
    "_Feature"
   ],
   "window_display": false
  }
 },
 "nbformat": 4,
 "nbformat_minor": 5
}
