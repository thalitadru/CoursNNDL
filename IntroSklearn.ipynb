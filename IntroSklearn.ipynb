{
 "cells": [
  {
   "cell_type": "markdown",
   "id": "820473d3",
   "metadata": {},
   "source": [
    "# ML avec Scikit-learn\n",
    "Scikit-learn est une bibliothèque d'apprentissage assez facile pour ceux qui travaillent en python.\n",
    "L'organisation de son API a servi d'inspiration pour plusieurs bibliothèques de deep learning comme par exemple `tf.keras`, qu'on utilisera plus tard.\n",
    "\n",
    "Ce notebook reprend des conceptes fondamentaux pour l'utilisation de `sklearn`. Il se base sur le guide \"Getting started\" disponible sur https://scikit-learn.org/stable/getting_started.html\n",
    "\n",
    "Vous pouvez toujours vous référer à leur documentation claire et extensive:\n",
    "- [Tutoriels](https://scikit-learn.org/stable/tutorial/index.html)\n",
    "- [Examples](https://scikit-learn.org/stable/auto_examples/index.html)\n",
    "- [User guide](https://scikit-learn.org/stable/user_guide.html)\n",
    "- [Documentation de l'API](https://scikit-learn.org/stable/modules/classes.html)\n",
    "- [Glossary](https://scikit-learn.org/stable/glossary.html)"
   ]
  },
  {
   "cell_type": "code",
   "execution_count": null,
   "id": "39033d97",
   "metadata": {},
   "outputs": [],
   "source": [
    "import numpy as np\n",
    "from matplotlib import pyplot as plt\n",
    "\n",
    "import sklearn\n",
    "\n",
    "SEED = 0"
   ]
  },
  {
   "cell_type": "markdown",
   "id": "57319e66",
   "metadata": {
    "code_folding": [],
    "run_control": {
     "marked": false
    }
   },
   "source": [
    "## Estimator\n",
    "\n",
    "Scikit-learn fournit plusieurs modèles de machine learning implementés selon une interface comune: des [estimators](https://scikit-learn.org/stable/glossary.html#term-estimators)."
   ]
  },
  {
   "cell_type": "markdown",
   "id": "7f9be9d5",
   "metadata": {
    "code_folding": [],
    "run_control": {
     "marked": false
    }
   },
   "source": [
    "### Fit\n",
    "Un estimator peut etre entrainée avec la méthode `fit`. Voici un exemple avec un estimator du type `LogisticRegression`."
   ]
  },
  {
   "cell_type": "code",
   "execution_count": null,
   "id": "f88d7043",
   "metadata": {},
   "outputs": [],
   "source": [
    "from sklearn.linear_model import LogisticRegression\n",
    "\n",
    "# modèle: estimator\n",
    "estimator = LogisticRegression(random_state=SEED)\n",
    "\n",
    "# données X et y\n",
    "X = [[ -1,  2,  3],  # 2 samples, 3 features\n",
    "    [11, 12, 13]]\n",
    "y = [0, 1]  # classes of each sample\n",
    "\n",
    "# fit estimator\n",
    "estimator.fit(X, y)"
   ]
  },
  {
   "cell_type": "markdown",
   "id": "a695aa4e",
   "metadata": {},
   "source": [
    "Voir doc: \n",
    "- [`linear_model`](https://scikit-learn.org/stable/modules/classes.html#module-sklearn.linear_model)\n",
    "- [`LogisticRegression`](https://scikit-learn.org/stable/modules/generated/sklearn.linear_model.LogisticRegression.html#sklearn.linear_model.LogisticRegression)"
   ]
  },
  {
   "cell_type": "markdown",
   "id": "3a8f4064",
   "metadata": {},
   "source": [
    "Voir doc:\n",
    "- [`ensemble`](https://scikit-learn.org/stable/modules/classes.html#module-sklearn.ensemble)\n",
    "- [`RandomForestClassifier`](https://scikit-learn.org/stable/modules/generated/sklearn.ensemble.RandomForestClassifier.html#sklearn.ensemble.RandomForestClassifier)"
   ]
  },
  {
   "cell_type": "markdown",
   "id": "af984458",
   "metadata": {},
   "source": [
    "### Predict\n",
    "On peut utiliser le modèle entrainé pour faire des predictions sur les données avec la méthode `predict`."
   ]
  },
  {
   "cell_type": "code",
   "execution_count": null,
   "id": "aba1fbf9",
   "metadata": {},
   "outputs": [],
   "source": [
    "estimator.predict(X)  # predict classes of the training data"
   ]
  },
  {
   "cell_type": "code",
   "execution_count": null,
   "id": "aac24d67",
   "metadata": {},
   "outputs": [],
   "source": [
    "estimator.predict([[4, 5, 6], [14, 15, 16]])  # predict classes of new data"
   ]
  },
  {
   "cell_type": "markdown",
   "id": "a6970264",
   "metadata": {},
   "source": [
    "### Score\n",
    "La plupart des estimators possède une méthode `score` qui calcule la performance du modèle sur des données fournis. La metrique d'évaluation dépend de la nature de l'estimator. Dans la plupart des cas:\n",
    "- Classifiers: accuracy (voir [doc](https://scikit-learn.org/stable/modules/generated/sklearn.base.ClassifierMixin.html#sklearn.base.ClassifierMixin))\n",
    "- Regressors: R² coefficient : $1 - \\frac{\\text{sum of squared errors}}{\\text{sum of mean-centered squares}}$ (voir [doc](https://scikit-learn.org/stable/modules/generated/sklearn.base.RegressorMixin.html#sklearn.base.RegressorMixin))"
   ]
  },
  {
   "cell_type": "code",
   "execution_count": null,
   "id": "73357c13",
   "metadata": {},
   "outputs": [],
   "source": [
    "estimator.score(X,y)"
   ]
  },
  {
   "cell_type": "markdown",
   "id": "3dc92fee",
   "metadata": {},
   "source": [
    "## Métriques d'évaluation\n",
    "\n",
    "- Voir doc: [`metrics`](https://scikit-learn.org/stable/modules/classes.html#sklearn-metrics-metrics)"
   ]
  },
  {
   "cell_type": "code",
   "execution_count": null,
   "id": "c926519b",
   "metadata": {},
   "outputs": [],
   "source": [
    "from sklearn.datasets import make_classification\n",
    "# génération de données aleatoires\n",
    "X,y = make_classification(random_state=SEED)"
   ]
  },
  {
   "cell_type": "code",
   "execution_count": null,
   "id": "2e6986a0",
   "metadata": {},
   "outputs": [],
   "source": [
    "from sklearn.linear_model import LogisticRegression\n",
    "\n",
    "estimator = LogisticRegression(random_state=SEED)\n",
    "\n",
    "estimator.fit(X,y)"
   ]
  },
  {
   "cell_type": "code",
   "execution_count": null,
   "id": "d215caa1",
   "metadata": {},
   "outputs": [],
   "source": [
    "from sklearn.metrics import accuracy_score"
   ]
  },
  {
   "cell_type": "code",
   "execution_count": null,
   "id": "d99c9818",
   "metadata": {},
   "outputs": [],
   "source": [
    "y_pred = estimator.predict(X)\n",
    "accuracy_score(y, y_pred)"
   ]
  },
  {
   "cell_type": "code",
   "execution_count": null,
   "id": "ccf186e2",
   "metadata": {},
   "outputs": [],
   "source": [
    "from sklearn.metrics import classification_report"
   ]
  },
  {
   "cell_type": "code",
   "execution_count": null,
   "id": "5f0fa381",
   "metadata": {},
   "outputs": [],
   "source": [
    "print(classification_report(y, y_pred))"
   ]
  },
  {
   "cell_type": "markdown",
   "id": "8c4a818a",
   "metadata": {},
   "source": [
    "## Transformers et  pre-processors\n",
    "\n",
    "Scikit-learn fournit aussi differentes mèthodes pour appliquer des pré-traitements et transformations sur les données: des [`transformers`](https://scikit-learn.org/stable/glossary.html#term-transformer)\n",
    "\n",
    "Ils sont des estimators (héritent aussi de [`BaseEstimator`](https://scikit-learn.org/stable/modules/generated/sklearn.base.BaseEstimator.html)) mais ne possedent pas de méthode `predict`.\n",
    "Apres un `fit`, on appele la mèthode `transform` pour appliquer la transformation sur les donnèes."
   ]
  },
  {
   "cell_type": "code",
   "execution_count": null,
   "id": "03f1f7f2",
   "metadata": {},
   "outputs": [],
   "source": [
    "from sklearn.preprocessing import StandardScaler\n",
    "X = [[0, 15],\n",
    "     [1, -10]]\n",
    "# scale data according to computed scaling values\n",
    "scaler = StandardScaler().fit(X)\n",
    "scaler.transform(X)"
   ]
  },
  {
   "cell_type": "markdown",
   "id": "35ca11c1",
   "metadata": {},
   "source": [
    "On peut aussi executer les deux étapes en un seul appel à `fit_transform`."
   ]
  },
  {
   "cell_type": "code",
   "execution_count": null,
   "id": "d87ac397",
   "metadata": {},
   "outputs": [],
   "source": [
    "from sklearn.preprocessing import StandardScaler\n",
    "X = [[0, 15],\n",
    "     [1, -10]]\n",
    "# scale data according to computed scaling values\n",
    "StandardScaler().fit_transform(X)"
   ]
  },
  {
   "cell_type": "markdown",
   "id": "1c1f8fe8",
   "metadata": {},
   "source": [
    "### Exemple : scaling des attributs\n",
    "\n",
    "Un pre-traitement très courant est celui de remetre les attributs sur une échelle commune. Les exemples précédents ont appliqué une normalisation standard: moyenne=0 et stdev=1.\n",
    "\n",
    "Une autre possibilité: remmetre les valeurs entre 0 et 1 à l'aide du `MinMaxScaler`."
   ]
  },
  {
   "cell_type": "code",
   "execution_count": null,
   "id": "4a77666c",
   "metadata": {},
   "outputs": [],
   "source": [
    "from sklearn.preprocessing import MinMaxScaler\n",
    "X = [[0, 15],\n",
    "     [1, -10]]\n",
    "# scale data according to computed scaling values\n",
    "MinMaxScaler().fit_transform(X)"
   ]
  },
  {
   "cell_type": "markdown",
   "id": "968e870c",
   "metadata": {},
   "source": [
    "Voir doc [`preprocessing`](https://scikit-learn.org/stable/modules/classes.html#module-sklearn.preprocessing) pour d'autres pré-traitements."
   ]
  },
  {
   "cell_type": "markdown",
   "id": "42eb86a6",
   "metadata": {},
   "source": [
    "### Exemple : reduction de dimensionalité\n",
    "On peut utiliser certains estimateurs pour reduire à deux dimensions des données, afin de les visualiser sur un plan. \n",
    "Par exemple, on peut s'utiliser de la décomposition ACP: [`PCA`](https://scikit-learn.org/stable/modules/generated/sklearn.decomposition.PCA.html#sklearn.decomposition.PCA)."
   ]
  },
  {
   "cell_type": "code",
   "execution_count": null,
   "id": "a6dd10d9",
   "metadata": {},
   "outputs": [],
   "source": [
    "# génération de données aleatoires\n",
    "X,y = make_classification(random_state=SEED)"
   ]
  },
  {
   "cell_type": "code",
   "execution_count": null,
   "id": "ed45716a",
   "metadata": {},
   "outputs": [],
   "source": [
    "X.shape, y.shape"
   ]
  },
  {
   "cell_type": "code",
   "execution_count": null,
   "id": "1a0a65d5",
   "metadata": {},
   "outputs": [],
   "source": [
    "plt.scatter(np.arange(len(y)), y, c=y)\n",
    "plt.title('Étiquettes y pour les échantillons')"
   ]
  },
  {
   "cell_type": "code",
   "execution_count": null,
   "id": "5ff121bb",
   "metadata": {},
   "outputs": [],
   "source": [
    "from sklearn.decomposition import PCA\n",
    "\n",
    "transformer = PCA(n_components=2, random_state=SEED)\n",
    "\n",
    "X_2d = transformer.fit_transform(X)"
   ]
  },
  {
   "cell_type": "code",
   "execution_count": null,
   "id": "027fc26f",
   "metadata": {},
   "outputs": [],
   "source": [
    "plt.scatter(X_2d[:,0],X_2d[:,1], c=y)\n",
    "plt.xlabel('ACP 1')\n",
    "plt.ylabel('ACP 2')"
   ]
  },
  {
   "cell_type": "markdown",
   "id": "78650d98",
   "metadata": {},
   "source": [
    "## Séparation en train et test"
   ]
  },
  {
   "cell_type": "code",
   "execution_count": null,
   "id": "128a9262",
   "metadata": {},
   "outputs": [],
   "source": [
    "#génération de données aleatoires\n",
    "X,y = make_classification(random_state=SEED)\n",
    "X.shape, y.shape"
   ]
  },
  {
   "cell_type": "code",
   "execution_count": null,
   "id": "14cb7368",
   "metadata": {},
   "outputs": [],
   "source": [
    "from sklearn.model_selection import train_test_split\n",
    "\n",
    "X_train, X_test, y_train, y_test = train_test_split(X, y, \n",
    "                                                    test_size=0.2,\n",
    "                                                    random_state=0)"
   ]
  },
  {
   "cell_type": "code",
   "execution_count": null,
   "id": "146b895d",
   "metadata": {},
   "outputs": [],
   "source": [
    "X_train.shape, y_train.shape"
   ]
  },
  {
   "cell_type": "code",
   "execution_count": null,
   "id": "27d7c48a",
   "metadata": {},
   "outputs": [],
   "source": [
    "X_test.shape, y_test.shape"
   ]
  },
  {
   "cell_type": "markdown",
   "id": "917706b9",
   "metadata": {},
   "source": [
    "## Exemple: dataset Iris\n",
    "\n",
    "Vous pouvez explorer ce dataset sur cet autre notebook: https://scikit-learn.org/stable/_downloads/26998096b90db15754e891c733ae032c/plot_iris_dataset.ipynb\n",
    "\n",
    "Autres datasets d'exemple sont disponibles dans le module [`datasets`](https://scikit-learn.org/stable/modules/classes.html#module-sklearn.datasets)."
   ]
  },
  {
   "cell_type": "code",
   "execution_count": null,
   "id": "15390bf5",
   "metadata": {},
   "outputs": [],
   "source": [
    "from sklearn.datasets import load_iris\n",
    "dataset = load_iris()\n",
    "print (data.DESCR)"
   ]
  },
  {
   "cell_type": "code",
   "execution_count": null,
   "id": "8bcb25a9",
   "metadata": {},
   "outputs": [],
   "source": [
    "dataset.target_names"
   ]
  },
  {
   "cell_type": "code",
   "execution_count": null,
   "id": "70823ebb",
   "metadata": {},
   "outputs": [],
   "source": [
    "dataset.feature_names"
   ]
  },
  {
   "cell_type": "markdown",
   "id": "00ca6fc3",
   "metadata": {},
   "source": [
    "### Création de X et y"
   ]
  },
  {
   "cell_type": "code",
   "execution_count": null,
   "id": "28bb5366",
   "metadata": {},
   "outputs": [],
   "source": [
    "X = dataset.data\n",
    "y = dataset.target"
   ]
  },
  {
   "cell_type": "markdown",
   "id": "311887df",
   "metadata": {},
   "source": [
    "### Séparation en train et test"
   ]
  },
  {
   "cell_type": "code",
   "execution_count": null,
   "id": "a2cb1101",
   "metadata": {},
   "outputs": [],
   "source": [
    "X_train, X_test, y_train, y_test = train_test_split(X, y, random_state=0)"
   ]
  },
  {
   "cell_type": "markdown",
   "id": "41510de8",
   "metadata": {},
   "source": [
    "### Scaling des attributs"
   ]
  },
  {
   "cell_type": "code",
   "execution_count": null,
   "id": "93810230",
   "metadata": {},
   "outputs": [],
   "source": [
    "scaler = StandardScaler().fit(X_train)\n",
    "X_train_s = scaler.transform(X_train)"
   ]
  },
  {
   "cell_type": "markdown",
   "id": "aa4ebfc6",
   "metadata": {},
   "source": [
    "### Entrainement de l'estimateur"
   ]
  },
  {
   "cell_type": "code",
   "execution_count": null,
   "id": "06a15ba5",
   "metadata": {},
   "outputs": [],
   "source": [
    "estimator = LogisticRegression(random_state=SEED)\n",
    "\n",
    "estimator.fit(X_train_s,y_train)"
   ]
  },
  {
   "cell_type": "markdown",
   "id": "88f4f02e",
   "metadata": {},
   "source": [
    "### Prédictions et évaluation"
   ]
  },
  {
   "cell_type": "code",
   "execution_count": null,
   "id": "720b164a",
   "metadata": {},
   "outputs": [],
   "source": [
    "estimator.predict(X_train_s)"
   ]
  },
  {
   "cell_type": "code",
   "execution_count": null,
   "id": "93ed5b13",
   "metadata": {},
   "outputs": [],
   "source": [
    "estimator.score(X_train_s,y_train)"
   ]
  },
  {
   "cell_type": "markdown",
   "id": "96d480fc",
   "metadata": {},
   "source": [
    "Le plus important est de evaluer sur le test set."
   ]
  },
  {
   "cell_type": "code",
   "execution_count": null,
   "id": "824130f0",
   "metadata": {},
   "outputs": [],
   "source": [
    "y_pred = estimator.predict(scaler.transform(X_test))\n",
    "y_pred"
   ]
  },
  {
   "cell_type": "code",
   "execution_count": null,
   "id": "46529a7e",
   "metadata": {},
   "outputs": [],
   "source": [
    "estimator.score(scaler.transform(X_test),y_test)"
   ]
  },
  {
   "cell_type": "code",
   "execution_count": null,
   "id": "4b34c0ef",
   "metadata": {},
   "outputs": [],
   "source": [
    "print(classification_report(y_test, y_pred))"
   ]
  },
  {
   "cell_type": "markdown",
   "id": "f2ae352e",
   "metadata": {},
   "source": [
    "## Enchainement d'étapes avec pipeline\n",
    "\n",
    "Voir doc: [`pipeline`](https://scikit-learn.org/stable/modules/classes.html#module-sklearn.pipeline)"
   ]
  },
  {
   "cell_type": "code",
   "execution_count": null,
   "id": "c3d884d6",
   "metadata": {},
   "outputs": [],
   "source": [
    "from sklearn.pipeline import make_pipeline\n",
    "\n",
    "# create a pipeline object\n",
    "pipe = make_pipeline(\n",
    "    StandardScaler(),\n",
    "    LogisticRegression()\n",
    ")"
   ]
  },
  {
   "cell_type": "code",
   "execution_count": null,
   "id": "6f1cfd2a",
   "metadata": {},
   "outputs": [],
   "source": [
    "# load the iris dataset and split it into train and test sets\n",
    "X, y = load_iris(return_X_y=True)\n",
    "X_train, X_test, y_train, y_test = train_test_split(X, y, random_state=0)"
   ]
  },
  {
   "cell_type": "code",
   "execution_count": null,
   "id": "f926143f",
   "metadata": {},
   "outputs": [],
   "source": [
    "# fit the whole pipeline\n",
    "pipe.fit(X_train, y_train)"
   ]
  },
  {
   "cell_type": "code",
   "execution_count": null,
   "id": "66975f6a",
   "metadata": {},
   "outputs": [],
   "source": [
    "# we can now use it like any other estimator\n",
    "accuracy_score(y_test, pipe.predict(X_test))"
   ]
  },
  {
   "cell_type": "code",
   "execution_count": null,
   "id": "0a279269",
   "metadata": {},
   "outputs": [],
   "source": [
    "print(classification_report(y_test, pipe.predict(X_test)))"
   ]
  }
 ],
 "metadata": {
  "hide_input": false,
  "kernelspec": {
   "display_name": "CoursNNDL",
   "language": "python",
   "name": "coursnndl"
  },
  "language_info": {
   "codemirror_mode": {
    "name": "ipython",
    "version": 3
   },
   "file_extension": ".py",
   "mimetype": "text/x-python",
   "name": "python",
   "nbconvert_exporter": "python",
   "pygments_lexer": "ipython3",
   "version": "3.8.10"
  },
  "toc": {
   "base_numbering": 1,
   "nav_menu": {},
   "number_sections": true,
   "sideBar": true,
   "skip_h1_title": true,
   "title_cell": "Table of Contents",
   "title_sidebar": "Contents",
   "toc_cell": false,
   "toc_position": {
    "height": "calc(100% - 180px)",
    "left": "10px",
    "top": "150px",
    "width": "304.312px"
   },
   "toc_section_display": true,
   "toc_window_display": true
  },
  "varInspector": {
   "cols": {
    "lenName": 16,
    "lenType": 16,
    "lenVar": 40
   },
   "kernels_config": {
    "python": {
     "delete_cmd_postfix": "",
     "delete_cmd_prefix": "del ",
     "library": "var_list.py",
     "varRefreshCmd": "print(var_dic_list())"
    },
    "r": {
     "delete_cmd_postfix": ") ",
     "delete_cmd_prefix": "rm(",
     "library": "var_list.r",
     "varRefreshCmd": "cat(var_dic_list()) "
    }
   },
   "types_to_exclude": [
    "module",
    "function",
    "builtin_function_or_method",
    "instance",
    "_Feature"
   ],
   "window_display": false
  }
 },
 "nbformat": 4,
 "nbformat_minor": 5
}
