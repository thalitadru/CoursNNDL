{
 "cells": [
  {
   "cell_type": "markdown",
   "id": "820473d3",
   "metadata": {},
   "source": [
    "# ML avec Scikit-learn\n",
    "Scikit-learn est une bibliothèque d'apprentissage assez facile pour ceux qui travaillent en python.\n",
    "L'organisation de son API a servi d'inspiration pour plusieurs bibliothèques de deep learning comme par exemple `tf.keras`, qu'on utilisera plus tard.\n",
    "\n",
    "Ce notebook reprend des conceptes fondamentaux pour l'utilisation de `sklearn`. Il se base sur le guide \"Getting started\" disponible sur https://scikit-learn.org/stable/getting_started.html\n",
    "\n",
    "Vous pouvez toujours vous référer à leur documentation claire et extensive:\n",
    "- [Tutoriels](https://scikit-learn.org/stable/tutorial/index.html)\n",
    "- [Examples](https://scikit-learn.org/stable/auto_examples/index.html)\n",
    "- [User guide](https://scikit-learn.org/stable/user_guide.html)\n",
    "- [Documentation de l'API](https://scikit-learn.org/stable/modules/classes.html)\n",
    "- [Glossary](https://scikit-learn.org/stable/glossary.html)"
   ]
  },
  {
   "cell_type": "code",
   "execution_count": null,
   "id": "39033d97",
   "metadata": {
    "ExecuteTime": {
     "end_time": "2021-05-28T07:19:49.389942Z",
     "start_time": "2021-05-28T07:19:49.386683Z"
    }
   },
   "outputs": [],
   "source": [
    "import numpy as np\n",
    "from matplotlib import pyplot as plt\n",
    "import pandas as pd\n",
    "\n",
    "SEED = 211\n",
    "\n",
    "rng = np.random.RandomState(SEED)"
   ]
  },
  {
   "cell_type": "markdown",
   "id": "57319e66",
   "metadata": {
    "code_folding": [],
    "run_control": {
     "marked": false
    }
   },
   "source": [
    "## Estimator\n",
    "\n",
    "Scikit-learn fournit plusieurs modèles de machine learning implementés selon une interface comune: des [estimators](https://scikit-learn.org/stable/glossary.html#term-estimators)."
   ]
  },
  {
   "cell_type": "markdown",
   "id": "7f9be9d5",
   "metadata": {
    "code_folding": [],
    "run_control": {
     "marked": false
    }
   },
   "source": [
    "### Fit\n",
    "Un estimator peut etre entrainée avec la méthode `fit`. Voici un exemple avec un estimator du type `LogisticRegression`."
   ]
  },
  {
   "cell_type": "code",
   "execution_count": null,
   "id": "f88d7043",
   "metadata": {
    "ExecuteTime": {
     "end_time": "2021-05-27T19:38:48.106899Z",
     "start_time": "2021-05-27T19:38:47.982868Z"
    }
   },
   "outputs": [],
   "source": [
    "from sklearn.linear_model import LogisticRegression\n",
    "\n",
    "# modèle: estimator\n",
    "estimator = LogisticRegression(random_state=rng)\n",
    "\n",
    "# données X et y\n",
    "X = [[-1, 2, 3], [11, 12, 13]]  # 2 samples, 3 features\n",
    "y = [0, 1]  # classes of each sample\n",
    "\n",
    "# fit estimator\n",
    "estimator.fit(X, y)"
   ]
  },
  {
   "cell_type": "markdown",
   "id": "a695aa4e",
   "metadata": {},
   "source": [
    "Voir doc: \n",
    "- [`linear_model`](https://scikit-learn.org/stable/modules/classes.html#module-sklearn.linear_model)\n",
    "- [`LogisticRegression`](https://scikit-learn.org/stable/modules/generated/sklearn.linear_model.LogisticRegression.html#sklearn.linear_model.LogisticRegression)"
   ]
  },
  {
   "cell_type": "markdown",
   "id": "af984458",
   "metadata": {},
   "source": [
    "### Predict\n",
    "On peut utiliser le modèle entrainé pour faire des predictions sur les données avec la méthode `predict`."
   ]
  },
  {
   "cell_type": "code",
   "execution_count": null,
   "id": "aba1fbf9",
   "metadata": {
    "ExecuteTime": {
     "end_time": "2021-05-27T19:38:48.219673Z",
     "start_time": "2021-05-27T19:38:48.215738Z"
    }
   },
   "outputs": [],
   "source": [
    "estimator.predict(X)  # predict classes of the training data"
   ]
  },
  {
   "cell_type": "code",
   "execution_count": null,
   "id": "aac24d67",
   "metadata": {
    "ExecuteTime": {
     "end_time": "2021-05-27T19:38:48.238535Z",
     "start_time": "2021-05-27T19:38:48.221254Z"
    }
   },
   "outputs": [],
   "source": [
    "estimator.predict([[4, 5, 6], [14, 15, 16]])  # predict classes of new data"
   ]
  },
  {
   "cell_type": "markdown",
   "id": "a6970264",
   "metadata": {},
   "source": [
    "### Score\n",
    "La plupart des estimators possède une méthode `score` qui calcule la performance du modèle sur des données fournis. La metrique d'évaluation dépend de la nature de l'estimator. Dans la plupart des cas:\n",
    "- Classifiers: accuracy : $1-\\frac{\\text{nbr. of wrong predictions}}{\\text{total nbr. of samples}} $(voir [doc](https://scikit-learn.org/stable/modules/generated/sklearn.base.ClassifierMixin.html#sklearn.base.ClassifierMixin))\n",
    "- Regressors: R² coefficient : $1 - \\frac{\\text{sum of squared errors}}{\\text{sum of mean-centered squares}}$ (voir [doc](https://scikit-learn.org/stable/modules/generated/sklearn.base.RegressorMixin.html#sklearn.base.RegressorMixin))"
   ]
  },
  {
   "cell_type": "code",
   "execution_count": null,
   "id": "73357c13",
   "metadata": {
    "ExecuteTime": {
     "end_time": "2021-05-27T19:38:48.292794Z",
     "start_time": "2021-05-27T19:38:48.289086Z"
    }
   },
   "outputs": [],
   "source": [
    "estimator.score(X, y)"
   ]
  },
  {
   "cell_type": "markdown",
   "id": "3dc92fee",
   "metadata": {},
   "source": [
    "## Métriques d'évaluation\n",
    "\n",
    "- Voir doc: [`metrics`](https://scikit-learn.org/stable/modules/classes.html#sklearn-metrics-metrics)"
   ]
  },
  {
   "cell_type": "code",
   "execution_count": null,
   "id": "c926519b",
   "metadata": {
    "ExecuteTime": {
     "end_time": "2021-05-27T19:38:48.392593Z",
     "start_time": "2021-05-27T19:38:48.356827Z"
    }
   },
   "outputs": [],
   "source": [
    "from sklearn.datasets import make_classification\n",
    "\n",
    "# génération de données aleatoires\n",
    "X, y = make_classification(random_state=rng)"
   ]
  },
  {
   "cell_type": "code",
   "execution_count": null,
   "id": "2e6986a0",
   "metadata": {
    "ExecuteTime": {
     "end_time": "2021-05-27T19:38:48.406334Z",
     "start_time": "2021-05-27T19:38:48.393982Z"
    }
   },
   "outputs": [],
   "source": [
    "from sklearn.linear_model import LogisticRegression\n",
    "\n",
    "estimator = LogisticRegression(random_state=rng)\n",
    "\n",
    "estimator.fit(X, y)"
   ]
  },
  {
   "cell_type": "code",
   "execution_count": null,
   "id": "009ad3fa-c567-4b3e-b164-4b370c147366",
   "metadata": {
    "ExecuteTime": {
     "end_time": "2021-05-27T19:38:48.426097Z",
     "start_time": "2021-05-27T19:38:48.415963Z"
    }
   },
   "outputs": [],
   "source": [
    "from sklearn.metrics import accuracy_score\n",
    "\n",
    "y_pred = estimator.predict(X)\n",
    "accuracy_score(y, y_pred)"
   ]
  },
  {
   "cell_type": "code",
   "execution_count": null,
   "id": "2559dd1f-93b3-44eb-8911-228d356c7e59",
   "metadata": {
    "ExecuteTime": {
     "end_time": "2021-05-27T19:38:48.450179Z",
     "start_time": "2021-05-27T19:38:48.435930Z"
    }
   },
   "outputs": [],
   "source": [
    "from sklearn.metrics import classification_report\n",
    "\n",
    "print(classification_report(y, y_pred))"
   ]
  },
  {
   "cell_type": "markdown",
   "id": "8c4a818a",
   "metadata": {},
   "source": [
    "## Transformers et  pre-processors\n",
    "\n",
    "Scikit-learn fournit aussi differentes mèthodes pour appliquer des pré-traitements et transformations sur les données: des [`transformers`](https://scikit-learn.org/stable/glossary.html#term-transformer)\n",
    "\n",
    "Ils sont des estimators (héritent aussi de [`BaseEstimator`](https://scikit-learn.org/stable/modules/generated/sklearn.base.BaseEstimator.html)) mais ne possedent pas de méthode `predict`.\n",
    "Apres un `fit`, on appele la mèthode `transform` pour appliquer la transformation sur les donnèes."
   ]
  },
  {
   "cell_type": "code",
   "execution_count": null,
   "id": "03f1f7f2",
   "metadata": {
    "ExecuteTime": {
     "end_time": "2021-05-27T19:38:48.468830Z",
     "start_time": "2021-05-27T19:38:48.463391Z"
    }
   },
   "outputs": [],
   "source": [
    "from sklearn.preprocessing import StandardScaler\n",
    "\n",
    "X = [[0, 15], [1, -10]]\n",
    "# scale data according to computed scaling values\n",
    "scaler = StandardScaler().fit(X)\n",
    "scaler.transform(X)"
   ]
  },
  {
   "cell_type": "markdown",
   "id": "35ca11c1",
   "metadata": {},
   "source": [
    "On peut aussi executer les deux étapes en un seul appel à `fit_transform`."
   ]
  },
  {
   "cell_type": "code",
   "execution_count": null,
   "id": "d87ac397",
   "metadata": {
    "ExecuteTime": {
     "end_time": "2021-05-27T19:38:48.536731Z",
     "start_time": "2021-05-27T19:38:48.531657Z"
    }
   },
   "outputs": [],
   "source": [
    "from sklearn.preprocessing import StandardScaler\n",
    "\n",
    "X = [[0, 15], [1, -10]]\n",
    "# scale data according to computed scaling values\n",
    "StandardScaler().fit_transform(X)"
   ]
  },
  {
   "cell_type": "markdown",
   "id": "1c1f8fe8",
   "metadata": {},
   "source": [
    "### Exemple : scaling des attributs\n",
    "\n",
    "Un pre-traitement très courant est celui de remetre les attributs sur une échelle commune. Les exemples précédents ont appliqué une normalisation standard: moyenne=0 et stdev=1.\n",
    "\n",
    "Une autre possibilité: remmetre les valeurs entre 0 et 1 à l'aide du `MinMaxScaler`."
   ]
  },
  {
   "cell_type": "code",
   "execution_count": null,
   "id": "4a77666c",
   "metadata": {
    "ExecuteTime": {
     "end_time": "2021-05-27T19:38:48.609914Z",
     "start_time": "2021-05-27T19:38:48.605044Z"
    }
   },
   "outputs": [],
   "source": [
    "from sklearn.preprocessing import MinMaxScaler\n",
    "\n",
    "X = [[0, 15], [1, -10]]\n",
    "# scale data according to computed scaling values\n",
    "MinMaxScaler().fit_transform(X)"
   ]
  },
  {
   "cell_type": "markdown",
   "id": "968e870c",
   "metadata": {},
   "source": [
    "Voir doc [`preprocessing`](https://scikit-learn.org/stable/modules/classes.html#module-sklearn.preprocessing) pour d'autres pré-traitements."
   ]
  },
  {
   "cell_type": "markdown",
   "id": "42eb86a6",
   "metadata": {},
   "source": [
    "### Exemple : reduction de dimensionalité\n",
    "On peut utiliser certains estimateurs pour reduire à deux dimensions des données, afin de les visualiser sur un plan. \n",
    "Par exemple, on peut s'utiliser de la décomposition ACP: [`PCA`](https://scikit-learn.org/stable/modules/generated/sklearn.decomposition.PCA.html#sklearn.decomposition.PCA)."
   ]
  },
  {
   "cell_type": "code",
   "execution_count": null,
   "id": "a6dd10d9",
   "metadata": {
    "ExecuteTime": {
     "end_time": "2021-05-27T19:38:48.742623Z",
     "start_time": "2021-05-27T19:38:48.738588Z"
    }
   },
   "outputs": [],
   "source": [
    "# génération de données aleatoires\n",
    "X, y = make_classification(random_state=rng)"
   ]
  },
  {
   "cell_type": "code",
   "execution_count": null,
   "id": "ed45716a",
   "metadata": {
    "ExecuteTime": {
     "end_time": "2021-05-27T19:38:48.752877Z",
     "start_time": "2021-05-27T19:38:48.744300Z"
    }
   },
   "outputs": [],
   "source": [
    "X.shape, y.shape"
   ]
  },
  {
   "cell_type": "code",
   "execution_count": null,
   "id": "1a0a65d5",
   "metadata": {
    "ExecuteTime": {
     "end_time": "2021-05-27T19:38:48.915972Z",
     "start_time": "2021-05-27T19:38:48.754730Z"
    }
   },
   "outputs": [],
   "source": [
    "plt.scatter(np.arange(len(y)), y, c=y)\n",
    "plt.title(\"Étiquettes y pour les échantillons\")"
   ]
  },
  {
   "cell_type": "code",
   "execution_count": null,
   "id": "5ff121bb",
   "metadata": {
    "ExecuteTime": {
     "end_time": "2021-05-27T19:38:48.930520Z",
     "start_time": "2021-05-27T19:38:48.917839Z"
    }
   },
   "outputs": [],
   "source": [
    "from sklearn.decomposition import PCA\n",
    "\n",
    "transformer = PCA(n_components=2, random_state=rng)\n",
    "\n",
    "X_2d = transformer.fit_transform(X)"
   ]
  },
  {
   "cell_type": "code",
   "execution_count": null,
   "id": "027fc26f",
   "metadata": {
    "ExecuteTime": {
     "end_time": "2021-05-27T19:38:49.082360Z",
     "start_time": "2021-05-27T19:38:48.931992Z"
    },
    "scrolled": true
   },
   "outputs": [],
   "source": [
    "plt.scatter(X_2d[:, 0], X_2d[:, 1], c=y)\n",
    "plt.xlabel(\"ACP 1\")\n",
    "plt.ylabel(\"ACP 2\")"
   ]
  },
  {
   "cell_type": "markdown",
   "id": "78650d98",
   "metadata": {},
   "source": [
    "## Séparation en train et test"
   ]
  },
  {
   "cell_type": "code",
   "execution_count": null,
   "id": "128a9262",
   "metadata": {
    "ExecuteTime": {
     "end_time": "2021-05-27T19:38:49.090125Z",
     "start_time": "2021-05-27T19:38:49.084417Z"
    }
   },
   "outputs": [],
   "source": [
    "# génération de données aleatoires\n",
    "X, y = make_classification(random_state=rng)\n",
    "X.shape, y.shape"
   ]
  },
  {
   "cell_type": "code",
   "execution_count": null,
   "id": "14cb7368",
   "metadata": {
    "ExecuteTime": {
     "end_time": "2021-05-27T19:38:49.098478Z",
     "start_time": "2021-05-27T19:38:49.092136Z"
    }
   },
   "outputs": [],
   "source": [
    "from sklearn.model_selection import train_test_split\n",
    "\n",
    "X_train, X_test, y_train, y_test = train_test_split(X, y, test_size=0.2, random_state=0)"
   ]
  },
  {
   "cell_type": "code",
   "execution_count": null,
   "id": "146b895d",
   "metadata": {
    "ExecuteTime": {
     "end_time": "2021-05-27T19:38:49.112147Z",
     "start_time": "2021-05-27T19:38:49.100494Z"
    }
   },
   "outputs": [],
   "source": [
    "X_train.shape, y_train.shape"
   ]
  },
  {
   "cell_type": "code",
   "execution_count": null,
   "id": "27d7c48a",
   "metadata": {
    "ExecuteTime": {
     "end_time": "2021-05-27T19:38:49.122072Z",
     "start_time": "2021-05-27T19:38:49.114210Z"
    }
   },
   "outputs": [],
   "source": [
    "X_test.shape, y_test.shape"
   ]
  },
  {
   "cell_type": "markdown",
   "id": "917706b9",
   "metadata": {},
   "source": [
    "## Exemple: dataset Iris\n",
    "\n",
    "Vous pouvez explorer ce dataset sur cet autre notebook: https://scikit-learn.org/stable/_downloads/26998096b90db15754e891c733ae032c/plot_iris_dataset.ipynb\n",
    "\n",
    "Autres datasets d'exemple sont disponibles dans le module [`datasets`](https://scikit-learn.org/stable/modules/classes.html#module-sklearn.datasets)."
   ]
  },
  {
   "cell_type": "code",
   "execution_count": null,
   "id": "15390bf5",
   "metadata": {
    "ExecuteTime": {
     "end_time": "2021-05-27T19:38:49.187183Z",
     "start_time": "2021-05-27T19:38:49.123485Z"
    }
   },
   "outputs": [],
   "source": [
    "from sklearn.datasets import load_iris\n",
    "\n",
    "dataset = load_iris()\n",
    "print(dataset.DESCR)"
   ]
  },
  {
   "cell_type": "code",
   "execution_count": null,
   "id": "8bcb25a9",
   "metadata": {
    "ExecuteTime": {
     "end_time": "2021-05-27T19:38:49.188718Z",
     "start_time": "2021-05-27T19:38:48.980Z"
    }
   },
   "outputs": [],
   "source": [
    "dataset.target_names"
   ]
  },
  {
   "cell_type": "code",
   "execution_count": null,
   "id": "70823ebb",
   "metadata": {
    "ExecuteTime": {
     "end_time": "2021-05-27T19:38:49.189417Z",
     "start_time": "2021-05-27T19:38:48.987Z"
    }
   },
   "outputs": [],
   "source": [
    "dataset.feature_names"
   ]
  },
  {
   "cell_type": "markdown",
   "id": "00ca6fc3",
   "metadata": {},
   "source": [
    "### Création de X et y"
   ]
  },
  {
   "cell_type": "code",
   "execution_count": null,
   "id": "28bb5366",
   "metadata": {
    "ExecuteTime": {
     "end_time": "2021-05-27T19:38:49.190110Z",
     "start_time": "2021-05-27T19:38:49.095Z"
    }
   },
   "outputs": [],
   "source": [
    "X = dataset.data\n",
    "y = dataset.target"
   ]
  },
  {
   "cell_type": "markdown",
   "id": "311887df",
   "metadata": {},
   "source": [
    "### Séparation en train et test"
   ]
  },
  {
   "cell_type": "code",
   "execution_count": null,
   "id": "a2cb1101",
   "metadata": {
    "ExecuteTime": {
     "end_time": "2021-05-27T19:38:49.202041Z",
     "start_time": "2021-05-27T19:38:49.199006Z"
    }
   },
   "outputs": [],
   "source": [
    "X_train, X_test, y_train, y_test = train_test_split(X, y, random_state=rng)"
   ]
  },
  {
   "cell_type": "markdown",
   "id": "41510de8",
   "metadata": {},
   "source": [
    "### Scaling des attributs"
   ]
  },
  {
   "cell_type": "code",
   "execution_count": null,
   "id": "93810230",
   "metadata": {
    "ExecuteTime": {
     "end_time": "2021-05-27T19:38:49.274715Z",
     "start_time": "2021-05-27T19:38:49.270678Z"
    }
   },
   "outputs": [],
   "source": [
    "scaler = StandardScaler().fit(X_train)\n",
    "X_train_s = scaler.transform(X_train)"
   ]
  },
  {
   "cell_type": "markdown",
   "id": "aa4ebfc6",
   "metadata": {},
   "source": [
    "### Entrainement de l'estimateur"
   ]
  },
  {
   "cell_type": "code",
   "execution_count": null,
   "id": "06a15ba5",
   "metadata": {
    "ExecuteTime": {
     "end_time": "2021-05-27T19:38:49.353135Z",
     "start_time": "2021-05-27T19:38:49.344249Z"
    }
   },
   "outputs": [],
   "source": [
    "estimator = LogisticRegression(random_state=rng)\n",
    "\n",
    "estimator.fit(X_train_s, y_train)"
   ]
  },
  {
   "cell_type": "markdown",
   "id": "88f4f02e",
   "metadata": {},
   "source": [
    "### Prédictions et évaluation"
   ]
  },
  {
   "cell_type": "code",
   "execution_count": null,
   "id": "720b164a",
   "metadata": {
    "ExecuteTime": {
     "end_time": "2021-05-27T19:38:49.428487Z",
     "start_time": "2021-05-27T19:38:49.424514Z"
    }
   },
   "outputs": [],
   "source": [
    "estimator.predict(X_train_s)"
   ]
  },
  {
   "cell_type": "code",
   "execution_count": null,
   "id": "93ed5b13",
   "metadata": {
    "ExecuteTime": {
     "end_time": "2021-05-27T19:38:49.438869Z",
     "start_time": "2021-05-27T19:38:49.430303Z"
    }
   },
   "outputs": [],
   "source": [
    "estimator.score(X_train_s, y_train)"
   ]
  },
  {
   "cell_type": "markdown",
   "id": "96d480fc",
   "metadata": {},
   "source": [
    "Le plus important est de evaluer sur le test set."
   ]
  },
  {
   "cell_type": "code",
   "execution_count": null,
   "id": "824130f0",
   "metadata": {
    "ExecuteTime": {
     "end_time": "2021-05-27T19:38:49.509678Z",
     "start_time": "2021-05-27T19:38:49.505410Z"
    }
   },
   "outputs": [],
   "source": [
    "y_pred = estimator.predict(scaler.transform(X_test))\n",
    "y_pred"
   ]
  },
  {
   "cell_type": "code",
   "execution_count": null,
   "id": "46529a7e",
   "metadata": {
    "ExecuteTime": {
     "end_time": "2021-05-27T19:38:49.523010Z",
     "start_time": "2021-05-27T19:38:49.511381Z"
    }
   },
   "outputs": [],
   "source": [
    "estimator.score(scaler.transform(X_test), y_test)"
   ]
  },
  {
   "cell_type": "code",
   "execution_count": null,
   "id": "4b34c0ef",
   "metadata": {
    "ExecuteTime": {
     "end_time": "2021-05-27T19:38:49.534659Z",
     "start_time": "2021-05-27T19:38:49.524607Z"
    }
   },
   "outputs": [],
   "source": [
    "print(classification_report(y_test, y_pred))"
   ]
  },
  {
   "cell_type": "markdown",
   "id": "f2ae352e",
   "metadata": {},
   "source": [
    "## Enchainement d'étapes avec pipeline\n",
    "\n",
    "Voir doc: [`pipeline`](https://scikit-learn.org/stable/modules/classes.html#module-sklearn.pipeline)"
   ]
  },
  {
   "cell_type": "code",
   "execution_count": null,
   "id": "c3d884d6",
   "metadata": {
    "ExecuteTime": {
     "end_time": "2021-05-27T19:38:49.592898Z",
     "start_time": "2021-05-27T19:38:49.587087Z"
    }
   },
   "outputs": [],
   "source": [
    "from sklearn.pipeline import make_pipeline\n",
    "\n",
    "# create a pipeline object\n",
    "pipe = make_pipeline(StandardScaler(), LogisticRegression())"
   ]
  },
  {
   "cell_type": "code",
   "execution_count": null,
   "id": "6f1cfd2a",
   "metadata": {
    "ExecuteTime": {
     "end_time": "2021-05-27T19:38:49.603892Z",
     "start_time": "2021-05-27T19:38:49.594501Z"
    }
   },
   "outputs": [],
   "source": [
    "# load the iris dataset and split it into train and test sets\n",
    "X, y = load_iris(return_X_y=True)\n",
    "X_train, X_test, y_train, y_test = train_test_split(X, y, random_state=0)"
   ]
  },
  {
   "cell_type": "code",
   "execution_count": null,
   "id": "f926143f",
   "metadata": {
    "ExecuteTime": {
     "end_time": "2021-05-27T19:38:49.624827Z",
     "start_time": "2021-05-27T19:38:49.605890Z"
    }
   },
   "outputs": [],
   "source": [
    "# fit the whole pipeline\n",
    "pipe.fit(X_train, y_train)"
   ]
  },
  {
   "cell_type": "code",
   "execution_count": null,
   "id": "66975f6a",
   "metadata": {
    "ExecuteTime": {
     "end_time": "2021-05-27T19:38:49.631371Z",
     "start_time": "2021-05-27T19:38:49.626805Z"
    }
   },
   "outputs": [],
   "source": [
    "# we can now use it like any other estimator\n",
    "accuracy_score(y_test, pipe.predict(X_test))"
   ]
  },
  {
   "cell_type": "code",
   "execution_count": null,
   "id": "0a279269",
   "metadata": {
    "ExecuteTime": {
     "end_time": "2021-05-27T19:38:49.644865Z",
     "start_time": "2021-05-27T19:38:49.632909Z"
    }
   },
   "outputs": [],
   "source": [
    "print(classification_report(y_test, pipe.predict(X_test)))"
   ]
  },
  {
   "cell_type": "markdown",
   "id": "0caa0efa",
   "metadata": {},
   "source": [
    "## Cross-validation\n",
    "Voir doc: [`cross_validate`](https://scikit-learn.org/stable/modules/generated/sklearn.model_selection.cross_validate.html#sklearn.model_selection.cross_validate)"
   ]
  },
  {
   "cell_type": "code",
   "execution_count": null,
   "id": "e68b1d8b",
   "metadata": {
    "ExecuteTime": {
     "end_time": "2021-05-27T19:42:05.629963Z",
     "start_time": "2021-05-27T19:42:05.545645Z"
    },
    "tags": []
   },
   "outputs": [],
   "source": [
    "from sklearn.model_selection import cross_validate\n",
    "\n",
    "cv_results = cross_validate(\n",
    "    pipe, X_train, y_train, cv=5, return_train_score=True, return_estimator=True\n",
    ")\n",
    "cv_results"
   ]
  },
  {
   "cell_type": "code",
   "execution_count": null,
   "id": "76be5722",
   "metadata": {
    "ExecuteTime": {
     "end_time": "2021-05-27T19:42:52.088505Z",
     "start_time": "2021-05-27T19:42:52.053359Z"
    },
    "tags": []
   },
   "outputs": [],
   "source": [
    "df = pd.DataFrame(cv_results)\n",
    "df"
   ]
  },
  {
   "cell_type": "code",
   "execution_count": null,
   "id": "05f30c92",
   "metadata": {
    "ExecuteTime": {
     "end_time": "2021-05-27T19:43:58.138634Z",
     "start_time": "2021-05-27T19:43:57.988480Z"
    }
   },
   "outputs": [],
   "source": [
    "df.plot.bar(y=[\"train_score\", \"test_score\"])"
   ]
  },
  {
   "cell_type": "code",
   "execution_count": null,
   "id": "187e323c",
   "metadata": {
    "ExecuteTime": {
     "end_time": "2021-05-27T19:45:44.605728Z",
     "start_time": "2021-05-27T19:45:44.470377Z"
    }
   },
   "outputs": [],
   "source": [
    "df.plot.box(y=[\"train_score\", \"test_score\"])"
   ]
  },
  {
   "cell_type": "markdown",
   "id": "f2085710-6577-4f61-ad3e-00ad2db9daa3",
   "metadata": {},
   "source": [
    "## Recherche d'hyperparamètres\n",
    "Voir doc: [`RandomizedSearchCV`](https://scikit-learn.org/stable/modules/generated/sklearn.model_selection.RandomizedSearchCV.html#sklearn.model_selection.RandomizedSearchCV)\n"
   ]
  },
  {
   "cell_type": "code",
   "execution_count": null,
   "id": "946ad1c8-f607-4d67-9bcf-82db22683856",
   "metadata": {},
   "outputs": [],
   "source": [
    "pipe.get_params()"
   ]
  },
  {
   "cell_type": "code",
   "execution_count": null,
   "id": "a07c654c-ed5a-49fa-8966-dd4af10523f6",
   "metadata": {},
   "outputs": [],
   "source": [
    "from scipy.stats import uniform\n",
    "\n",
    "param_distributions = {\n",
    "    'logisticregression__C': uniform(0.1, 10),\n",
    "}"
   ]
  },
  {
   "cell_type": "code",
   "execution_count": null,
   "id": "18ba6d3b-a44c-4717-a670-b07ce816946e",
   "metadata": {},
   "outputs": [],
   "source": [
    "from sklearn.model_selection import RandomizedSearchCV\n",
    "\n",
    "\n",
    "hpsearch = RandomizedSearchCV(\n",
    "    estimator=pipe,\n",
    "    cv=5,\n",
    "    n_iter=5,\n",
    "    param_distributions=param_distributions,\n",
    ")"
   ]
  },
  {
   "cell_type": "code",
   "execution_count": null,
   "id": "dede3335-c466-4f7d-9419-50ec05760013",
   "metadata": {},
   "outputs": [],
   "source": [
    "hpsearch.fit(X, y)"
   ]
  },
  {
   "cell_type": "code",
   "execution_count": null,
   "id": "10094e3c-0992-4615-be74-db216d817a6e",
   "metadata": {},
   "outputs": [],
   "source": [
    "df = pd.DataFrame(hpsearch.cv_results_)\n",
    "df"
   ]
  }
 ],
 "metadata": {
  "hide_input": false,
  "kernelspec": {
   "display_name": "CoursNNDL",
   "language": "python",
   "name": "coursnndl"
  },
  "language_info": {
   "codemirror_mode": {
    "name": "ipython",
    "version": 3
   },
   "file_extension": ".py",
   "mimetype": "text/x-python",
   "name": "python",
   "nbconvert_exporter": "python",
   "pygments_lexer": "ipython3",
   "version": "3.8.10"
  },
  "toc": {
   "base_numbering": 1,
   "nav_menu": {},
   "number_sections": true,
   "sideBar": true,
   "skip_h1_title": true,
   "title_cell": "Table of Contents",
   "title_sidebar": "Contents",
   "toc_cell": false,
   "toc_position": {
    "height": "calc(100% - 180px)",
    "left": "10px",
    "top": "150px",
    "width": "304.3px"
   },
   "toc_section_display": true,
   "toc_window_display": true
  },
  "toc-showmarkdowntxt": false,
  "varInspector": {
   "cols": {
    "lenName": 16,
    "lenType": 16,
    "lenVar": 40
   },
   "kernels_config": {
    "python": {
     "delete_cmd_postfix": "",
     "delete_cmd_prefix": "del ",
     "library": "var_list.py",
     "varRefreshCmd": "print(var_dic_list())"
    },
    "r": {
     "delete_cmd_postfix": ") ",
     "delete_cmd_prefix": "rm(",
     "library": "var_list.r",
     "varRefreshCmd": "cat(var_dic_list()) "
    }
   },
   "types_to_exclude": [
    "module",
    "function",
    "builtin_function_or_method",
    "instance",
    "_Feature"
   ],
   "window_display": false
  }
 },
 "nbformat": 4,
 "nbformat_minor": 5
}
