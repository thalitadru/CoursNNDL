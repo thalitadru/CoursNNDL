{
  "nbformat": 4,
  "nbformat_minor": 5,
  "metadata": {
    "kernelspec": {
      "name": "python3",
      "display_name": "Python 3"
    },
    "toc-autonumbering": true,
    "toc-showmarkdowntxt": false,
    "colab": {
      "name": "TFKerasFunctional.ipynb",
      "provenance": [],
      "toc_visible": true
    },
    "language_info": {
      "name": "python"
    },
    "accelerator": "GPU"
  },
  "cells": [
    {
      "cell_type": "markdown",
      "metadata": {
        "id": "9254168e-5200-4b35-9282-ae682c7f746f"
      },
      "source": [
        "# API `Functional` de tf.keras\n",
        "\n",
        "[![Open In Colab](https://colab.research.google.com/assets/colab-badge.svg)](https://colab.research.google.com/github/thalitadru/CoursNNDL/blob/master/TFKerasFunctional.ipynb)\n",
        "\n",
        "tf.keras est l'API haut-niveau par défaut de Tensorflow. Pour la plupart des projets, elle sera souvent suffisante pour exprimer vos modèles, avec l'avantage d'éliminer pas mal de code répétitif \"boiler-plate\" avec pas mal d'abstractions sur les solveurs d'optimisation (`optimisers`) et sur boucles d'entraînement et validation (`model.fit()` et `model.evaluate()`).\n",
        "Il s'agit en plus d'une API bien documentée et réputée pour sa facilité de prise en main."
      ],
      "id": "9254168e-5200-4b35-9282-ae682c7f746f"
    },
    {
      "cell_type": "code",
      "metadata": {
        "id": "d1f94240-c477-4b43-af68-6ca74e3cec09"
      },
      "source": [
        "import matplotlib.pyplot as plt\n",
        "import numpy as np\n",
        "import tensorflow as tf\n",
        "import tensorflow.keras as keras\n",
        "from tensorflow.keras import layers, losses\n",
        "\n",
        "SEED = 0\n",
        "np.random.seed(SEED)\n",
        "rng = np.random.RandomState(SEED)\n",
        "tf.random.get_global_generator().reset_from_seed(SEED)"
      ],
      "id": "d1f94240-c477-4b43-af68-6ca74e3cec09",
      "execution_count": 1,
      "outputs": []
    },
    {
      "cell_type": "markdown",
      "metadata": {
        "id": "6d31d8c4-31d4-4848-8649-9e3a827b7cd3"
      },
      "source": [
        "## Functional API\n",
        "\n",
        "Avec l'API fonctionnele vous peuvez creer des modèles plus complexes. Vous allez enchainner les opèrations correspondantes à chaque couche, puis fournir les tenseurs d'entree et de sortie comme paramètres pour la construction d'un `tf.keras.Model`."
      ],
      "id": "6d31d8c4-31d4-4848-8649-9e3a827b7cd3"
    },
    {
      "cell_type": "markdown",
      "metadata": {
        "id": "d4c68343-da67-4fee-8eee-1af8e4a2a6cb"
      },
      "source": [
        "### Inputs"
      ],
      "id": "d4c68343-da67-4fee-8eee-1af8e4a2a6cb"
    },
    {
      "cell_type": "code",
      "metadata": {
        "id": "b62b9355-1c6e-4ab3-a02d-79dcb91d29ec"
      },
      "source": [
        "img_inputs = keras.Input(shape=(32, 32, 3))"
      ],
      "id": "b62b9355-1c6e-4ab3-a02d-79dcb91d29ec",
      "execution_count": 2,
      "outputs": []
    },
    {
      "cell_type": "code",
      "metadata": {
        "id": "a6a5cc36-5857-4760-8d54-87967852817d",
        "outputId": "bc97e690-5874-4a8b-91ce-7b8f864bf7c3",
        "colab": {
          "base_uri": "https://localhost:8080/"
        }
      },
      "source": [
        "img_inputs.dtype"
      ],
      "id": "a6a5cc36-5857-4760-8d54-87967852817d",
      "execution_count": 3,
      "outputs": [
        {
          "output_type": "execute_result",
          "data": {
            "text/plain": [
              "tf.float32"
            ]
          },
          "metadata": {
            "tags": []
          },
          "execution_count": 3
        }
      ]
    },
    {
      "cell_type": "code",
      "metadata": {
        "id": "6dc25fd6-53fd-4278-b65b-5028fc5ff3af",
        "outputId": "05851665-0111-4087-fec4-7522c864a096",
        "colab": {
          "base_uri": "https://localhost:8080/"
        }
      },
      "source": [
        "img_inputs.shape"
      ],
      "id": "6dc25fd6-53fd-4278-b65b-5028fc5ff3af",
      "execution_count": 4,
      "outputs": [
        {
          "output_type": "execute_result",
          "data": {
            "text/plain": [
              "TensorShape([None, 32, 32, 3])"
            ]
          },
          "metadata": {
            "tags": []
          },
          "execution_count": 4
        }
      ]
    },
    {
      "cell_type": "markdown",
      "metadata": {
        "id": "b3b8da3e-eab8-42f9-a3e6-5fca1c279222"
      },
      "source": [
        "#### Question\n",
        "\n",
        "Pourquoi pensez-vous que le tenseur `img_shape` a une dimension de taille `None` ?"
      ],
      "id": "b3b8da3e-eab8-42f9-a3e6-5fca1c279222"
    },
    {
      "cell_type": "markdown",
      "metadata": {
        "id": "2d7b0931-824d-4f0d-accb-e40c336cc0a6"
      },
      "source": [
        "### Calculs intermediaires\n",
        "Nous pouvons connecter des couches avec plus de liberté."
      ],
      "id": "2d7b0931-824d-4f0d-accb-e40c336cc0a6"
    },
    {
      "cell_type": "code",
      "metadata": {
        "id": "YWzycEwHhKGC"
      },
      "source": [
        "scale_inputs = layers.experimental.preprocessing.Rescaling(1.0/255)(img_inputs)"
      ],
      "id": "YWzycEwHhKGC",
      "execution_count": 5,
      "outputs": []
    },
    {
      "cell_type": "code",
      "metadata": {
        "id": "246c0903-d700-4ba1-a92f-6619287b24e6",
        "outputId": "6f0351fc-09fa-4062-b336-744953ad1e8f",
        "colab": {
          "base_uri": "https://localhost:8080/"
        }
      },
      "source": [
        "conv1 = layers.Conv2D(\n",
        "    filters=16,\n",
        "    kernel_size=3,\n",
        "    activation=\"relu\",\n",
        "    input_shape=(32, 32, 3),\n",
        "    padding=\"same\",\n",
        "    strides=2,\n",
        "    kernel_initializer=tf.keras.initializers.GlorotNormal(seed=SEED),\n",
        "    name=\"conv1\"\n",
        ")(scale_inputs)\n",
        "conv1"
      ],
      "id": "246c0903-d700-4ba1-a92f-6619287b24e6",
      "execution_count": 6,
      "outputs": [
        {
          "output_type": "execute_result",
          "data": {
            "text/plain": [
              "<KerasTensor: shape=(None, 16, 16, 16) dtype=float32 (created by layer 'conv1')>"
            ]
          },
          "metadata": {
            "tags": []
          },
          "execution_count": 6
        }
      ]
    },
    {
      "cell_type": "code",
      "metadata": {
        "id": "b1a275ac-ff8e-48a0-af59-ae24f7edab39",
        "outputId": "0738bcaf-92a0-4644-c2af-9b9624bb5285",
        "colab": {
          "base_uri": "https://localhost:8080/"
        }
      },
      "source": [
        "conv2a = layers.Conv2D(\n",
        "    filters=16,\n",
        "    kernel_size=3,\n",
        "    activation=\"relu\",\n",
        "    padding=\"same\",\n",
        "    kernel_initializer=tf.keras.initializers.GlorotNormal(seed=SEED),\n",
        "    name='conv2a'\n",
        ")(conv1)\n",
        "conv2a"
      ],
      "id": "b1a275ac-ff8e-48a0-af59-ae24f7edab39",
      "execution_count": 7,
      "outputs": [
        {
          "output_type": "execute_result",
          "data": {
            "text/plain": [
              "<KerasTensor: shape=(None, 16, 16, 16) dtype=float32 (created by layer 'conv2a')>"
            ]
          },
          "metadata": {
            "tags": []
          },
          "execution_count": 7
        }
      ]
    },
    {
      "cell_type": "code",
      "metadata": {
        "id": "2f356a8a-548c-4019-bc57-220f6ea5fe88",
        "outputId": "66ba0461-a57e-4aec-8f20-80e8210b8622",
        "colab": {
          "base_uri": "https://localhost:8080/"
        }
      },
      "source": [
        "conv2b = layers.Conv2D(\n",
        "    filters=16,\n",
        "    kernel_size=5,\n",
        "    activation=\"relu\",\n",
        "    padding=\"same\",\n",
        "    kernel_initializer=tf.keras.initializers.GlorotNormal(seed=SEED),\n",
        "    name='conv2b'\n",
        ")(conv1)\n",
        "conv2b"
      ],
      "id": "2f356a8a-548c-4019-bc57-220f6ea5fe88",
      "execution_count": 8,
      "outputs": [
        {
          "output_type": "execute_result",
          "data": {
            "text/plain": [
              "<KerasTensor: shape=(None, 16, 16, 16) dtype=float32 (created by layer 'conv2b')>"
            ]
          },
          "metadata": {
            "tags": []
          },
          "execution_count": 8
        }
      ]
    },
    {
      "cell_type": "code",
      "metadata": {
        "id": "08a539c9-2ef3-4254-ba83-e34b1a063681",
        "outputId": "f5ede4c2-dae0-45ca-cfed-16f18dbb371f",
        "colab": {
          "base_uri": "https://localhost:8080/"
        }
      },
      "source": [
        "conv2 = layers.Concatenate(axis=-1)([conv2a, conv2b])\n",
        "conv2"
      ],
      "id": "08a539c9-2ef3-4254-ba83-e34b1a063681",
      "execution_count": 9,
      "outputs": [
        {
          "output_type": "execute_result",
          "data": {
            "text/plain": [
              "<KerasTensor: shape=(None, 16, 16, 32) dtype=float32 (created by layer 'concatenate')>"
            ]
          },
          "metadata": {
            "tags": []
          },
          "execution_count": 9
        }
      ]
    },
    {
      "cell_type": "code",
      "metadata": {
        "id": "15481ebd-069d-49bd-8c48-2246bee2a011",
        "outputId": "439739cd-b7d6-4487-8c51-e2a2ab053fc1",
        "colab": {
          "base_uri": "https://localhost:8080/"
        }
      },
      "source": [
        "conv3 = layers.Conv2D(\n",
        "    filters=16,\n",
        "    kernel_size=3,\n",
        "    activation=\"relu\",\n",
        "    padding=\"valid\",\n",
        "    strides=2,\n",
        "    kernel_initializer=tf.keras.initializers.GlorotNormal(seed=SEED),\n",
        "    name=\"conv3\"\n",
        ")(conv2)\n",
        "conv3"
      ],
      "id": "15481ebd-069d-49bd-8c48-2246bee2a011",
      "execution_count": 10,
      "outputs": [
        {
          "output_type": "execute_result",
          "data": {
            "text/plain": [
              "<KerasTensor: shape=(None, 7, 7, 16) dtype=float32 (created by layer 'conv3')>"
            ]
          },
          "metadata": {
            "tags": []
          },
          "execution_count": 10
        }
      ]
    },
    {
      "cell_type": "code",
      "metadata": {
        "id": "5079a0b9-4565-4304-9fb5-6a173cbd9140",
        "outputId": "be7f5152-8d1b-4fa1-bbf0-f3971acd5887",
        "colab": {
          "base_uri": "https://localhost:8080/"
        }
      },
      "source": [
        "x = layers.Flatten()(conv3)\n",
        "x"
      ],
      "id": "5079a0b9-4565-4304-9fb5-6a173cbd9140",
      "execution_count": 11,
      "outputs": [
        {
          "output_type": "execute_result",
          "data": {
            "text/plain": [
              "<KerasTensor: shape=(None, 784) dtype=float32 (created by layer 'flatten')>"
            ]
          },
          "metadata": {
            "tags": []
          },
          "execution_count": 11
        }
      ]
    },
    {
      "cell_type": "code",
      "metadata": {
        "id": "tUGw51abh2Sb"
      },
      "source": [
        "x = layers.Dropout(0.2)(x)"
      ],
      "id": "tUGw51abh2Sb",
      "execution_count": 12,
      "outputs": []
    },
    {
      "cell_type": "code",
      "metadata": {
        "id": "07914039-0a32-43de-802c-7b511d6de93f",
        "outputId": "e4bb18fd-cde2-4c27-ceb9-d9c8e604fe11",
        "colab": {
          "base_uri": "https://localhost:8080/"
        }
      },
      "source": [
        "dense1 = layers.Dense(\n",
        "    units=64,\n",
        "    kernel_initializer=tf.keras.initializers.GlorotNormal(seed=SEED),\n",
        "    name=\"dense1\",\n",
        ")(x)\n",
        "dense1"
      ],
      "id": "07914039-0a32-43de-802c-7b511d6de93f",
      "execution_count": 13,
      "outputs": [
        {
          "output_type": "execute_result",
          "data": {
            "text/plain": [
              "<KerasTensor: shape=(None, 64) dtype=float32 (created by layer 'dense1')>"
            ]
          },
          "metadata": {
            "tags": []
          },
          "execution_count": 13
        }
      ]
    },
    {
      "cell_type": "code",
      "metadata": {
        "id": "aeeb0350-e2dd-4336-97d8-27c7e6b2eb0d",
        "outputId": "c7589bac-daaf-4193-8a20-0b0d0f0647c0",
        "colab": {
          "base_uri": "https://localhost:8080/"
        }
      },
      "source": [
        "dense2 = layers.Dense(\n",
        "    32, kernel_initializer=tf.keras.initializers.GlorotNormal(seed=SEED), name=\"dense2\"\n",
        ")(dense1)\n",
        "dense2"
      ],
      "id": "aeeb0350-e2dd-4336-97d8-27c7e6b2eb0d",
      "execution_count": 14,
      "outputs": [
        {
          "output_type": "execute_result",
          "data": {
            "text/plain": [
              "<KerasTensor: shape=(None, 32) dtype=float32 (created by layer 'dense2')>"
            ]
          },
          "metadata": {
            "tags": []
          },
          "execution_count": 14
        }
      ]
    },
    {
      "cell_type": "markdown",
      "metadata": {
        "tags": [],
        "id": "d6d52817-0502-41a7-b56e-6b9e72bdc2fc"
      },
      "source": [
        "### Output\n",
        "La dernière couche est déclaré comme les autres. Il faut penser a y mettre une taille adapté au problème. Si c'est de la classification 100 classes par exemple:"
      ],
      "id": "d6d52817-0502-41a7-b56e-6b9e72bdc2fc"
    },
    {
      "cell_type": "code",
      "metadata": {
        "id": "03f45fbd-1887-4989-82df-fd0dc6c33b6c",
        "outputId": "3b5b6003-f3bf-497d-bc0a-27c0b7776bdf",
        "colab": {
          "base_uri": "https://localhost:8080/"
        }
      },
      "source": [
        "outputs = layers.Dense(100)(dense2)\n",
        "outputs"
      ],
      "id": "03f45fbd-1887-4989-82df-fd0dc6c33b6c",
      "execution_count": 15,
      "outputs": [
        {
          "output_type": "execute_result",
          "data": {
            "text/plain": [
              "<KerasTensor: shape=(None, 100) dtype=float32 (created by layer 'dense')>"
            ]
          },
          "metadata": {
            "tags": []
          },
          "execution_count": 15
        }
      ]
    },
    {
      "cell_type": "markdown",
      "metadata": {
        "id": "b43dbe76-40c5-44ed-a0bb-667640f1a23c"
      },
      "source": [
        "### Modèle"
      ],
      "id": "b43dbe76-40c5-44ed-a0bb-667640f1a23c"
    },
    {
      "cell_type": "code",
      "metadata": {
        "id": "fac09196-a167-41b1-afe3-1afddf5539ee",
        "outputId": "45901dc4-1c7e-485d-ebfb-a3cf7d9874ad",
        "colab": {
          "base_uri": "https://localhost:8080/"
        }
      },
      "source": [
        "model2 = keras.Model(inputs=img_inputs, outputs=outputs, name=\"my_cnn\")\n",
        "model2.save_weights('init.h5')\n",
        "model2"
      ],
      "id": "fac09196-a167-41b1-afe3-1afddf5539ee",
      "execution_count": 16,
      "outputs": [
        {
          "output_type": "execute_result",
          "data": {
            "text/plain": [
              "<tensorflow.python.keras.engine.functional.Functional at 0x7f06420e2cd0>"
            ]
          },
          "metadata": {
            "tags": []
          },
          "execution_count": 16
        }
      ]
    },
    {
      "cell_type": "code",
      "metadata": {
        "id": "27220d37-fab8-4f09-a982-9bfc11a49be8",
        "outputId": "a24c2d24-fa74-4b48-dead-5609ee8e0c95",
        "colab": {
          "base_uri": "https://localhost:8080/"
        }
      },
      "source": [
        "model2.summary()"
      ],
      "id": "27220d37-fab8-4f09-a982-9bfc11a49be8",
      "execution_count": 17,
      "outputs": [
        {
          "output_type": "stream",
          "text": [
            "Model: \"my_cnn\"\n",
            "__________________________________________________________________________________________________\n",
            "Layer (type)                    Output Shape         Param #     Connected to                     \n",
            "==================================================================================================\n",
            "input_1 (InputLayer)            [(None, 32, 32, 3)]  0                                            \n",
            "__________________________________________________________________________________________________\n",
            "rescaling (Rescaling)           (None, 32, 32, 3)    0           input_1[0][0]                    \n",
            "__________________________________________________________________________________________________\n",
            "conv1 (Conv2D)                  (None, 16, 16, 16)   448         rescaling[0][0]                  \n",
            "__________________________________________________________________________________________________\n",
            "conv2a (Conv2D)                 (None, 16, 16, 16)   2320        conv1[0][0]                      \n",
            "__________________________________________________________________________________________________\n",
            "conv2b (Conv2D)                 (None, 16, 16, 16)   6416        conv1[0][0]                      \n",
            "__________________________________________________________________________________________________\n",
            "concatenate (Concatenate)       (None, 16, 16, 32)   0           conv2a[0][0]                     \n",
            "                                                                 conv2b[0][0]                     \n",
            "__________________________________________________________________________________________________\n",
            "conv3 (Conv2D)                  (None, 7, 7, 16)     4624        concatenate[0][0]                \n",
            "__________________________________________________________________________________________________\n",
            "flatten (Flatten)               (None, 784)          0           conv3[0][0]                      \n",
            "__________________________________________________________________________________________________\n",
            "dropout (Dropout)               (None, 784)          0           flatten[0][0]                    \n",
            "__________________________________________________________________________________________________\n",
            "dense1 (Dense)                  (None, 64)           50240       dropout[0][0]                    \n",
            "__________________________________________________________________________________________________\n",
            "dense2 (Dense)                  (None, 32)           2080        dense1[0][0]                     \n",
            "__________________________________________________________________________________________________\n",
            "dense (Dense)                   (None, 100)          3300        dense2[0][0]                     \n",
            "==================================================================================================\n",
            "Total params: 69,428\n",
            "Trainable params: 69,428\n",
            "Non-trainable params: 0\n",
            "__________________________________________________________________________________________________\n"
          ],
          "name": "stdout"
        }
      ]
    },
    {
      "cell_type": "markdown",
      "metadata": {
        "id": "ecdfaabd-ec13-4e71-beea-6ff338570821"
      },
      "source": [
        "#### Visualisation"
      ],
      "id": "ecdfaabd-ec13-4e71-beea-6ff338570821"
    },
    {
      "cell_type": "code",
      "metadata": {
        "tags": [],
        "id": "ba77121f-94c5-4e2a-b6fe-023e48de1990",
        "outputId": "ff149fc2-b7e9-4189-99f4-154ca51e1293",
        "colab": {
          "base_uri": "https://localhost:8080/",
          "height": 1000
        }
      },
      "source": [
        "keras.utils.plot_model(model2)"
      ],
      "id": "ba77121f-94c5-4e2a-b6fe-023e48de1990",
      "execution_count": 18,
      "outputs": [
        {
          "output_type": "execute_result",
          "data": {
            "image/png": "[encoded data removed]",
            "text/plain": [
              "<IPython.core.display.Image object>"
            ]
          },
          "metadata": {
            "tags": []
          },
          "execution_count": 18
        }
      ]
    },
    {
      "cell_type": "code",
      "metadata": {
        "tags": [],
        "id": "122fd92a-449d-4228-b412-2ce5f3c7955f",
        "outputId": "d6e16835-11e0-44fa-d101-0d27181a080e",
        "colab": {
          "base_uri": "https://localhost:8080/",
          "height": 250
        }
      },
      "source": [
        "try:\n",
        "    import visualkeras as vk\n",
        "except ModuleNotFoundError:\n",
        "    !pip install visualkeras\n",
        "    import visualkeras as vk\n",
        "\n",
        "vk.layered_view(model2, legend=True)"
      ],
      "id": "122fd92a-449d-4228-b412-2ce5f3c7955f",
      "execution_count": 19,
      "outputs": [
        {
          "output_type": "execute_result",
          "data": {
            "image/png": "[encoded data removed]",
            "text/plain": [
              "<PIL.Image.Image image mode=RGBA size=512x233 at 0x7F05F674A990>"
            ]
          },
          "metadata": {
            "tags": []
          },
          "execution_count": 19
        }
      ]
    },
    {
      "cell_type": "markdown",
      "metadata": {
        "id": "bef439ab-ea81-460f-b584-25bc9c02ac5f"
      },
      "source": [
        "## Exemple: Classification d'images sur Cifar100\n",
        "\n",
        "Entraînez ce modèle sur le dataset Cifar100\n",
        "- Chargez les données\n",
        "- Compilez le modèle\n",
        "- Appelez `fit` pour lancer l'entrainement\n",
        "- Affichez les courbes d'apprentissage"
      ],
      "id": "bef439ab-ea81-460f-b584-25bc9c02ac5f"
    },
    {
      "cell_type": "code",
      "metadata": {
        "id": "211e7627-2d49-4926-931e-8badb9918820"
      },
      "source": [
        "#?keras.datasets.cifar10.load_data"
      ],
      "id": "211e7627-2d49-4926-931e-8badb9918820",
      "execution_count": 20,
      "outputs": []
    },
    {
      "cell_type": "code",
      "metadata": {
        "tags": [],
        "id": "c899525d-a8b5-4d76-a997-ff5b26455953"
      },
      "source": [
        "cifar10 = keras.datasets.cifar10\n",
        "(train_images, train_labels), (test_images, test_labels) = cifar10.load_data()"
      ],
      "id": "c899525d-a8b5-4d76-a997-ff5b26455953",
      "execution_count": 21,
      "outputs": []
    },
    {
      "cell_type": "code",
      "metadata": {
        "id": "ZoCObiVeeHqb",
        "outputId": "fb4b08d1-5978-4586-e0ea-e4e4d19a8d73",
        "colab": {
          "base_uri": "https://localhost:8080/",
          "height": 225
        }
      },
      "source": [
        "#@title Affichage d'une image et ses 3 canaux individuellement { display-mode: \"form\" }\n",
        "img_id =  105# @param \n",
        "img = train_images[img_id, ...]\n",
        "cmaps = [\"Reds_r\", \"Greens_r\", \"Blues_r\"]\n",
        "fig, axs = plt.subplots(1, 4, figsize=(15, 3))\n",
        "axs[3].imshow(img.astype(\"uint8\"))\n",
        "axs[3].set_title(\"Image RBG\")\n",
        "for ch in range(3):\n",
        "    ax = axs[ch]\n",
        "    imgplt = ax.imshow(img[..., ch], cmap=cmaps[ch])\n",
        "    ax.set_title(\"Canal \" + cmaps[ch][0])\n",
        "    fig.colorbar(imgplt, ax=ax)\n",
        "plt.tight_layout()"
      ],
      "id": "ZoCObiVeeHqb",
      "execution_count": 30,
      "outputs": [
        {
          "output_type": "display_data",
          "data": {
            "image/png": "[encoded data removed]",
            "text/plain": [
              "<Figure size 1080x216 with 7 Axes>"
            ]
          },
          "metadata": {
            "tags": [],
            "needs_background": "light"
          }
        }
      ]
    },
    {
      "cell_type": "code",
      "metadata": {
        "id": "5207ddc7-dd40-42b1-a911-6fd270d64398"
      },
      "source": [
        "# compilez le modèle avec les parametres\n",
        "loss = losses.SparseCategoricalCrossentropy(from_logits=True)\n",
        "optimizer = 'RMSprop'\n",
        "metrics = ['accuracy']\n",
        "early_stop = keras.callbacks.EarlyStopping(\n",
        "    monitor='val_accuracy',\n",
        "    patience=10,\n",
        "    verbose=1,\n",
        "    min_delta=0.001,\n",
        "    restore_best_weights=True,\n",
        "    )\n",
        "callbacks = [early_stop]\n",
        "callbacks.append(keras.callbacks.ReduceLROnPlateau(verbose=1))"
      ],
      "id": "5207ddc7-dd40-42b1-a911-6fd270d64398",
      "execution_count": 31,
      "outputs": []
    },
    {
      "cell_type": "code",
      "metadata": {
        "tags": [],
        "id": "5f764404-2153-4778-ab00-63bc39f99c1d",
        "outputId": "573c6292-85fa-4192-a678-be1a3d1ec0fa",
        "colab": {
          "base_uri": "https://localhost:8080/"
        }
      },
      "source": [
        "model2.compile(optimizer, loss, metrics)\n",
        "model2.load_weights('init.h5')\n",
        "out = model2.fit(\n",
        "    train_images,\n",
        "    y=train_labels,\n",
        "    epochs=150,\n",
        "    batch_size=64,\n",
        "    validation_split=0.2,\n",
        "    verbose=0,\n",
        "    callbacks=callbacks,\n",
        ")"
      ],
      "id": "5f764404-2153-4778-ab00-63bc39f99c1d",
      "execution_count": 24,
      "outputs": [
        {
          "output_type": "stream",
          "text": [
            "Restoring model weights from the end of the best epoch.\n",
            "\n",
            "Epoch 00036: ReduceLROnPlateau reducing learning rate to 0.00010000000474974513.\n",
            "Epoch 00036: early stopping\n"
          ],
          "name": "stdout"
        }
      ]
    },
    {
      "cell_type": "code",
      "metadata": {
        "tags": [],
        "cellView": "form",
        "id": "f7deba12-a027-4386-9a01-ca792d112735"
      },
      "source": [
        "#@title Déclaration de la fonction learning_curves\n",
        "def learning_curves(out, **kwargs):\n",
        "    metrics = out.history.keys()\n",
        "    metrics = filter(lambda m: not m.startswith(\"val\"), metrics)\n",
        "    metrics = filter(lambda m: not m.startswith(\"lr\"), metrics)\n",
        "    metrics = list(metrics)\n",
        "    num_metrics = len(metrics)\n",
        "    fig, axs = plt.subplots(\n",
        "        num_metrics,\n",
        "        1,\n",
        "        figsize=(15, 5 * num_metrics),\n",
        "    )\n",
        "    for i, metric in enumerate(metrics):\n",
        "        loss = out.history[metric]\n",
        "        val_loss = out.history[\"val_\" + metric]\n",
        "        epochs_range = range(1, len(loss) + 1)\n",
        "        ax = axs[i]\n",
        "        ax.plot(\n",
        "            epochs_range,\n",
        "            loss,\n",
        "            marker=\".\",\n",
        "            linestyle=\"dashed\",\n",
        "            label=\"Train \" + metric,\n",
        "            **kwargs\n",
        "        )\n",
        "        ax.plot(\n",
        "            epochs_range,\n",
        "            val_loss,\n",
        "            marker=\".\",\n",
        "            linestyle=\"dashed\",\n",
        "            label=\"Valid \" + metric,\n",
        "            **kwargs\n",
        "        )\n",
        "        ax.legend()\n",
        "        ax.set_title(metric)\n",
        "    ax.set_xlabel(\"epochs\")\n",
        "    fig.suptitle(\"courbes d'apprentisage x époques\", fontsize=\"x-large\")"
      ],
      "id": "f7deba12-a027-4386-9a01-ca792d112735",
      "execution_count": 25,
      "outputs": []
    },
    {
      "cell_type": "code",
      "metadata": {
        "id": "0354d543-e12e-4877-b794-5ca2284319e8",
        "outputId": "5ce1e5a7-2e2e-4625-ba70-b1714b5fcfaf",
        "colab": {
          "base_uri": "https://localhost:8080/",
          "height": 677
        }
      },
      "source": [
        "learning_curves(out)"
      ],
      "id": "0354d543-e12e-4877-b794-5ca2284319e8",
      "execution_count": 26,
      "outputs": [
        {
          "output_type": "display_data",
          "data": {
            "image/png": "[encoded data removed]",
            "text/plain": [
              "<Figure size 1080x720 with 2 Axes>"
            ]
          },
          "metadata": {
            "tags": [],
            "needs_background": "light"
          }
        }
      ]
    },
    {
      "cell_type": "code",
      "metadata": {
        "id": "646e6852-17ae-49be-b2ca-2b41f6fa0cb7",
        "outputId": "77464a9d-9fdd-4664-f159-4f7cff14c9e3",
        "colab": {
          "base_uri": "https://localhost:8080/"
        }
      },
      "source": [
        "model2.evaluate(test_images, test_labels)"
      ],
      "id": "646e6852-17ae-49be-b2ca-2b41f6fa0cb7",
      "execution_count": 27,
      "outputs": [
        {
          "output_type": "stream",
          "text": [
            "313/313 [==============================] - 1s 3ms/step - loss: 0.9326 - accuracy: 0.6699\n"
          ],
          "name": "stdout"
        },
        {
          "output_type": "execute_result",
          "data": {
            "text/plain": [
              "[0.9325990080833435, 0.6699000000953674]"
            ]
          },
          "metadata": {
            "tags": []
          },
          "execution_count": 27
        }
      ]
    },
    {
      "cell_type": "markdown",
      "metadata": {
        "id": "KN4Q_mrviJsu"
      },
      "source": [
        "## Exercice : tf_flowers\n",
        "Appliquez ce modèle de réseau au dataset tf_flowers du dernier notebook. N'oubliez pas d'adapter la taille des images et l'entrée du reseau entre elles."
      ],
      "id": "KN4Q_mrviJsu"
    },
    {
      "cell_type": "code",
      "metadata": {
        "id": "2DqRQXOYiI65"
      },
      "source": [
        ""
      ],
      "id": "2DqRQXOYiI65",
      "execution_count": null,
      "outputs": []
    },
    {
      "cell_type": "markdown",
      "metadata": {
        "tags": [],
        "id": "f0fefbce-c93d-4ff5-816e-7cfd712e6deb"
      },
      "source": [
        "## Avancé : API orienté-objet pour Modèles et couches custom\n",
        "On peut créer un modèle personalisé en héritant de `tf.keras.Model` (voir [doc](https://www.tensorflow.org/guide/keras/custom_layers_and_models#the_model_class)). \n",
        "\n",
        "Il est également possible de creer des couches personalisées en héritant de `tf.keras.layers.Layer` (voir [doc](https://www.tensorflow.org/guide/keras/custom_layers_and_models#the_layer_class_the_combination_of_state_weights_and_some_computation)).\n",
        "\n",
        "Les classes dérivés doivent implémenter une méthode `_call_(self, input)` qui compute les calculs en avant  (forward pass) du modèle, à l'aide de l'API fonctionnelle, et retourne les outputs"
      ],
      "id": "f0fefbce-c93d-4ff5-816e-7cfd712e6deb"
    }
  ]
}