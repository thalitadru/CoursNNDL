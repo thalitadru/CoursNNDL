{
 "cells": [
  {
   "cell_type": "markdown",
   "id": "9254168e-5200-4b35-9282-ae682c7f746f",
   "metadata": {},
   "source": [
    "# API `Functional` de tf.keras\n",
    "\n",
    "[![Open In Colab](https://colab.research.google.com/assets/colab-badge.svg)](https://colab.research.google.com/github/thalitadru/CoursNNDL/blob/master/TFKerasFunctional.ipynb)\n",
    "\n",
    "tf.keras est l'API haut-niveau par défaut de Tensorflow. Pour la plupart des projets, elle sera souvent suffisante pour exprimer vos modèles, avec l'avantage d'éliminer pas mal de code répétitif \"boiler-plate\" avec pas mal d'abstractions sur les solveurs d'optimisation (`optimisers`) et sur boucles d'entraînement et validation (`model.fit()` et `model.evaluate()`).\n",
    "Il s'agit en plus d'une API bien documentée et réputée pour sa facilité de prise en main."
   ]
  },
  {
   "cell_type": "code",
   "execution_count": null,
   "id": "d1f94240-c477-4b43-af68-6ca74e3cec09",
   "metadata": {},
   "outputs": [],
   "source": [
    "import matplotlib.pyplot as plt\n",
    "import numpy as np\n",
    "import tensorflow as tf\n",
    "import tensorflow.keras as keras\n",
    "from tensorflow.keras import layers, losses\n",
    "\n",
    "SEED = 0\n",
    "np.random.seed(SEED)\n",
    "rng = np.random.RandomState(SEED)\n",
    "tf.random.get_global_generator().reset_from_seed(SEED)"
   ]
  },
  {
   "cell_type": "markdown",
   "id": "6d31d8c4-31d4-4848-8649-9e3a827b7cd3",
   "metadata": {},
   "source": [
    "## Functional API\n",
    "\n",
    "Avec l'API fonctionnele vous peuvez creer des modèles plus complexes. Vous allez enchainner les opèrations correspondantes à chaque couche, puis fournir les tenseurs d'entree et de sortie comme paramètres pour la construction d'un `tf.keras.Model`."
   ]
  },
  {
   "cell_type": "markdown",
   "id": "d4c68343-da67-4fee-8eee-1af8e4a2a6cb",
   "metadata": {},
   "source": [
    "### Inputs"
   ]
  },
  {
   "cell_type": "code",
   "execution_count": null,
   "id": "b62b9355-1c6e-4ab3-a02d-79dcb91d29ec",
   "metadata": {},
   "outputs": [],
   "source": [
    "img_inputs = keras.Input(shape=(32, 32, 3))"
   ]
  },
  {
   "cell_type": "code",
   "execution_count": null,
   "id": "a6a5cc36-5857-4760-8d54-87967852817d",
   "metadata": {},
   "outputs": [],
   "source": [
    "img_inputs.dtype"
   ]
  },
  {
   "cell_type": "code",
   "execution_count": null,
   "id": "6dc25fd6-53fd-4278-b65b-5028fc5ff3af",
   "metadata": {},
   "outputs": [],
   "source": [
    "img_inputs.shape"
   ]
  },
  {
   "cell_type": "markdown",
   "id": "b3b8da3e-eab8-42f9-a3e6-5fca1c279222",
   "metadata": {},
   "source": [
    "#### Question\n",
    "\n",
    "Pourquoi pensez-vous que le tenseur `img_shape` a une dimension de taille `None` ?"
   ]
  },
  {
   "cell_type": "markdown",
   "id": "2d7b0931-824d-4f0d-accb-e40c336cc0a6",
   "metadata": {},
   "source": [
    "### Calculs intermediaires\n",
    "Nous pouvons connecter des couches avec plus de liberté."
   ]
  },
  {
   "cell_type": "code",
   "execution_count": null,
   "id": "246c0903-d700-4ba1-a92f-6619287b24e6",
   "metadata": {},
   "outputs": [],
   "source": [
    "conv1 = layers.Conv2D(\n",
    "    filters=16,\n",
    "    kernel_size=3,\n",
    "    activation=\"relu\",\n",
    "    input_shape=(32, 32, 3),\n",
    "    padding=\"same\",\n",
    "    strides=2,\n",
    "    kernel_initializer=tf.keras.initializers.GlorotNormal(seed=SEED),\n",
    "    name=\"conv1\"\n",
    ")(img_inputs)\n",
    "conv1"
   ]
  },
  {
   "cell_type": "code",
   "execution_count": null,
   "id": "b1a275ac-ff8e-48a0-af59-ae24f7edab39",
   "metadata": {},
   "outputs": [],
   "source": [
    "conv2a = layers.Conv2D(\n",
    "    filters=16,\n",
    "    kernel_size=3,\n",
    "    activation=\"relu\",\n",
    "    padding=\"same\",\n",
    "    kernel_initializer=tf.keras.initializers.GlorotNormal(seed=SEED),\n",
    "    name='conv2a'\n",
    ")(conv1)\n",
    "conv2a"
   ]
  },
  {
   "cell_type": "code",
   "execution_count": null,
   "id": "2f356a8a-548c-4019-bc57-220f6ea5fe88",
   "metadata": {},
   "outputs": [],
   "source": [
    "conv2b = layers.Conv2D(\n",
    "    filters=16,\n",
    "    kernel_size=5,\n",
    "    activation=\"relu\",\n",
    "    padding=\"same\",\n",
    "    kernel_initializer=tf.keras.initializers.GlorotNormal(seed=SEED),\n",
    "    name='conv2b'\n",
    ")(conv1)\n",
    "conv2b"
   ]
  },
  {
   "cell_type": "code",
   "execution_count": null,
   "id": "08a539c9-2ef3-4254-ba83-e34b1a063681",
   "metadata": {},
   "outputs": [],
   "source": [
    "conv2 = layers.Concatenate(axis=-1)([conv2a, conv2b])\n",
    "conv2"
   ]
  },
  {
   "cell_type": "code",
   "execution_count": null,
   "id": "15481ebd-069d-49bd-8c48-2246bee2a011",
   "metadata": {},
   "outputs": [],
   "source": [
    "conv3 = layers.Conv2D(\n",
    "    filters=16,\n",
    "    kernel_size=3,\n",
    "    activation=\"relu\",\n",
    "    padding=\"valid\",\n",
    "    strides=2,\n",
    "    kernel_initializer=tf.keras.initializers.GlorotNormal(seed=SEED),\n",
    "    name=\"conv3\"\n",
    ")(conv2)\n",
    "conv3"
   ]
  },
  {
   "cell_type": "code",
   "execution_count": null,
   "id": "5079a0b9-4565-4304-9fb5-6a173cbd9140",
   "metadata": {},
   "outputs": [],
   "source": [
    "x = layers.Flatten()(conv3)\n",
    "x"
   ]
  },
  {
   "cell_type": "code",
   "execution_count": null,
   "id": "07914039-0a32-43de-802c-7b511d6de93f",
   "metadata": {},
   "outputs": [],
   "source": [
    "dense1 = layers.Dense(\n",
    "    units=64,\n",
    "    kernel_initializer=tf.keras.initializers.GlorotNormal(seed=SEED),\n",
    "    name=\"dense1\",\n",
    ")(x)\n",
    "dense1"
   ]
  },
  {
   "cell_type": "code",
   "execution_count": null,
   "id": "aeeb0350-e2dd-4336-97d8-27c7e6b2eb0d",
   "metadata": {},
   "outputs": [],
   "source": [
    "dense2 = layers.Dense(\n",
    "    32, kernel_initializer=tf.keras.initializers.GlorotNormal(seed=SEED), name=\"dense2\"\n",
    ")(dense1)\n",
    "dense2"
   ]
  },
  {
   "cell_type": "markdown",
   "id": "d6d52817-0502-41a7-b56e-6b9e72bdc2fc",
   "metadata": {
    "tags": []
   },
   "source": [
    "### Output\n",
    "La dernière couche est déclaré comme les autres. Il faut penser a y mettre une taille adapté au problème. Si c'est de la classification 100 classes par exemple:"
   ]
  },
  {
   "cell_type": "code",
   "execution_count": null,
   "id": "03f45fbd-1887-4989-82df-fd0dc6c33b6c",
   "metadata": {},
   "outputs": [],
   "source": [
    "outputs = layers.Dense(100)(dense2)\n",
    "outputs"
   ]
  },
  {
   "cell_type": "markdown",
   "id": "b43dbe76-40c5-44ed-a0bb-667640f1a23c",
   "metadata": {},
   "source": [
    "### Modèle"
   ]
  },
  {
   "cell_type": "code",
   "execution_count": null,
   "id": "fac09196-a167-41b1-afe3-1afddf5539ee",
   "metadata": {},
   "outputs": [],
   "source": [
    "model2 = keras.Model(inputs=img_inputs, outputs=outputs, name=\"my_cnn\")\n",
    "model2"
   ]
  },
  {
   "cell_type": "code",
   "execution_count": null,
   "id": "27220d37-fab8-4f09-a982-9bfc11a49be8",
   "metadata": {},
   "outputs": [],
   "source": [
    "model2.summary()"
   ]
  },
  {
   "cell_type": "markdown",
   "id": "ecdfaabd-ec13-4e71-beea-6ff338570821",
   "metadata": {},
   "source": [
    "#### Visualisation"
   ]
  },
  {
   "cell_type": "code",
   "execution_count": null,
   "id": "ba77121f-94c5-4e2a-b6fe-023e48de1990",
   "metadata": {
    "tags": []
   },
   "outputs": [],
   "source": [
    "keras.utils.plot_model(model2)"
   ]
  },
  {
   "cell_type": "code",
   "execution_count": null,
   "id": "122fd92a-449d-4228-b412-2ce5f3c7955f",
   "metadata": {
    "tags": []
   },
   "outputs": [],
   "source": [
    "try:\n",
    "    import visualkeras as vk\n",
    "except ModuleNotFound:\n",
    "    !pip install visualkeras\n",
    "vk.layered_view(model2, legend=True)"
   ]
  },
  {
   "cell_type": "markdown",
   "id": "bef439ab-ea81-460f-b584-25bc9c02ac5f",
   "metadata": {},
   "source": [
    "## Exercice: Classification d'images sur Cifar100\n",
    "\n",
    "Entraînez ce modèle sur le dataset Cifar100\n",
    "- Chargez les données\n",
    "- Compilez le modèle\n",
    "- Appelez `fit` pour lancer l'entrainement\n",
    "- Affichez les courbes d'apprentissage"
   ]
  },
  {
   "cell_type": "code",
   "execution_count": null,
   "id": "211e7627-2d49-4926-931e-8badb9918820",
   "metadata": {},
   "outputs": [],
   "source": [
    "#?keras.datasets.cifar10.load_data"
   ]
  },
  {
   "cell_type": "code",
   "execution_count": null,
   "id": "c899525d-a8b5-4d76-a997-ff5b26455953",
   "metadata": {
    "tags": []
   },
   "outputs": [],
   "source": [
    "cifar10 = keras.datasets.cifar10\n",
    "(train_images, train_labels), (test_images, test_labels) = cifar10.load_data()"
   ]
  },
  {
   "cell_type": "code",
   "execution_count": null,
   "id": "5207ddc7-dd40-42b1-a911-6fd270d64398",
   "metadata": {},
   "outputs": [],
   "source": [
    "# compilez le modèle avec les parametres\n",
    "loss = losses.SparseCategoricalCrossentropy(from_logits=True)\n",
    "optimizer = 'RMSprop'\n",
    "metrics = ['accuracy']"
   ]
  },
  {
   "cell_type": "code",
   "execution_count": null,
   "id": "5f764404-2153-4778-ab00-63bc39f99c1d",
   "metadata": {
    "tags": []
   },
   "outputs": [],
   "source": [
    "model2.compile(optimizer, loss, metrics)\n",
    "out = model2.fit(\n",
    "    train_images,\n",
    "    y=train_labels,\n",
    "    epochs=2,\n",
    "    batch_size=16,\n",
    "    validation_split=0.2,\n",
    ")"
   ]
  },
  {
   "cell_type": "code",
   "execution_count": null,
   "id": "646e6852-17ae-49be-b2ca-2b41f6fa0cb7",
   "metadata": {},
   "outputs": [],
   "source": [
    "model2.evaluate(test_images, test_labels)"
   ]
  },
  {
   "cell_type": "code",
   "execution_count": null,
   "id": "f7deba12-a027-4386-9a01-ca792d112735",
   "metadata": {
    "tags": []
   },
   "outputs": [],
   "source": [
    "def learning_curves(out, **kwargs):\n",
    "    metrics = out.history.keys()\n",
    "    metrics = list(filter(lambda m: not m.startswith(\"val\"), metrics))\n",
    "    num_metrics = len(metrics)\n",
    "    fig, axs = plt.subplots(\n",
    "        num_metrics,\n",
    "        1,\n",
    "        figsize=(15, 5 * num_metrics),\n",
    "    )\n",
    "    for i, metric in enumerate(metrics):\n",
    "        loss = out.history[metric]\n",
    "        val_loss = out.history[\"val_\" + metric]\n",
    "        epochs_range = range(1, len(loss) + 1)\n",
    "        ax = axs[i]\n",
    "        ax.plot(\n",
    "            epochs_range,\n",
    "            loss,\n",
    "            marker=\".\",\n",
    "            linestyle=\"dashed\",\n",
    "            label=\"Train \" + metric,\n",
    "            **kwargs\n",
    "        )\n",
    "        ax.plot(\n",
    "            epochs_range,\n",
    "            val_loss,\n",
    "            marker=\".\",\n",
    "            linestyle=\"dashed\",\n",
    "            label=\"Valid \" + metric,\n",
    "            **kwargs\n",
    "        )\n",
    "        ax.legend()\n",
    "        ax.set_title(metric)\n",
    "    ax.set_xlabel(\"epochs\")\n",
    "    fig.suptitle(\"courbes d'apprentisage x époques\", fontsize=\"x-large\")"
   ]
  },
  {
   "cell_type": "code",
   "execution_count": null,
   "id": "0354d543-e12e-4877-b794-5ca2284319e8",
   "metadata": {},
   "outputs": [],
   "source": [
    "learning_curves(out)"
   ]
  },
  {
   "cell_type": "markdown",
   "id": "f0fefbce-c93d-4ff5-816e-7cfd712e6deb",
   "metadata": {
    "tags": []
   },
   "source": [
    "## Avancé : API orienté-objet pour Modèles et couches custom\n",
    "On peut créer un modèle personalisé en héritant de `tf.keras.Model` (voir [doc](https://www.tensorflow.org/guide/keras/custom_layers_and_models#the_model_class)). \n",
    "\n",
    "Il est également possible de creer des couches personalisées en héritant de `tf.keras.layers.Layer` (voir [doc](https://www.tensorflow.org/guide/keras/custom_layers_and_models#the_layer_class_the_combination_of_state_weights_and_some_computation)).\n",
    "\n",
    "Les classes dérivés doivent implémenter une méthode `_call_(self, input)` qui compute les calculs en avant  (forward pass) du modèle, à l'aide de l'API fonctionnelle, et retourne les outputs"
   ]
  }
 ],
 "metadata": {
  "kernelspec": {
   "display_name": "CoursNNDL",
   "language": "python",
   "name": "coursnndl"
  },
  "language_info": {
   "codemirror_mode": {
    "name": "ipython",
    "version": 3
   },
   "file_extension": ".py",
   "mimetype": "text/x-python",
   "name": "python",
   "nbconvert_exporter": "python",
   "pygments_lexer": "ipython3",
   "version": "3.8.10"
  },
  "toc-autonumbering": true,
  "toc-showmarkdowntxt": false
 },
 "nbformat": 4,
 "nbformat_minor": 5
}
